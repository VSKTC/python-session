{
 "cells": [
  {
   "cell_type": "code",
   "execution_count": 1,
   "id": "379ac1f9",
   "metadata": {},
   "outputs": [
    {
     "data": {
      "text/plain": [
       "{'course_id': 'DS',\n",
       " 'course_duartion': 4,\n",
       " 'course_fee': 18000,\n",
       " 'Institute': 'Naresh It'}"
      ]
     },
     "execution_count": 1,
     "metadata": {},
     "output_type": "execute_result"
    }
   ],
   "source": [
    "dict1={'course_id':'DS',\n",
    "      'course_duartion':4,\n",
    "      'course_fee':18000,\n",
    "      'Institute':'Naresh It'}\n",
    "dict1"
   ]
  },
  {
   "cell_type": "code",
   "execution_count": 3,
   "id": "24eac02a",
   "metadata": {},
   "outputs": [
    {
     "data": {
      "text/plain": [
       "dict_items([('course_id', 'DS'), ('course_duartion', 4), ('course_fee', 18000), ('Institute', 'Naresh It')])"
      ]
     },
     "execution_count": 3,
     "metadata": {},
     "output_type": "execute_result"
    }
   ],
   "source": [
    "dict1.items()\n",
    "# All will come"
   ]
  },
  {
   "cell_type": "code",
   "execution_count": 4,
   "id": "aad205ed",
   "metadata": {},
   "outputs": [
    {
     "data": {
      "text/plain": [
       "dict_keys(['course_id', 'course_duartion', 'course_fee', 'Institute'])"
      ]
     },
     "execution_count": 4,
     "metadata": {},
     "output_type": "execute_result"
    }
   ],
   "source": [
    "dict1.keys()"
   ]
  },
  {
   "cell_type": "code",
   "execution_count": 6,
   "id": "a18defe3",
   "metadata": {},
   "outputs": [
    {
     "data": {
      "text/plain": [
       "dict_values(['DS', 4, 18000, 'Naresh It'])"
      ]
     },
     "execution_count": 6,
     "metadata": {},
     "output_type": "execute_result"
    }
   ],
   "source": [
    "dict1.values()"
   ]
  },
  {
   "cell_type": "code",
   "execution_count": 7,
   "id": "39e4ba7a",
   "metadata": {},
   "outputs": [
    {
     "data": {
      "text/plain": [
       "dict"
      ]
     },
     "execution_count": 7,
     "metadata": {},
     "output_type": "execute_result"
    }
   ],
   "source": [
    "type(dict1)"
   ]
  },
  {
   "cell_type": "code",
   "execution_count": 8,
   "id": "4f15ee60",
   "metadata": {},
   "outputs": [
    {
     "name": "stdout",
     "output_type": "stream",
     "text": [
      "('course_id', 'DS')\n",
      "('course_duartion', 4)\n",
      "('course_fee', 18000)\n",
      "('Institute', 'Naresh It')\n"
     ]
    }
   ],
   "source": [
    "for i in dict1.items():\n",
    "    print(i)"
   ]
  },
  {
   "cell_type": "code",
   "execution_count": 10,
   "id": "f2a6aaa4",
   "metadata": {},
   "outputs": [
    {
     "name": "stdout",
     "output_type": "stream",
     "text": [
      "course_id DS\n",
      "course_duartion 4\n",
      "course_fee 18000\n",
      "Institute Naresh It\n"
     ]
    }
   ],
   "source": [
    "for i,j in dict1.items():\n",
    "    print(i,j)"
   ]
  },
  {
   "cell_type": "code",
   "execution_count": 12,
   "id": "0253f995",
   "metadata": {},
   "outputs": [
    {
     "data": {
      "text/plain": [
       "dict_items"
      ]
     },
     "execution_count": 12,
     "metadata": {},
     "output_type": "execute_result"
    }
   ],
   "source": [
    "type(dict1.items())"
   ]
  },
  {
   "cell_type": "code",
   "execution_count": 13,
   "id": "634249b1",
   "metadata": {},
   "outputs": [
    {
     "name": "stdout",
     "output_type": "stream",
     "text": [
      "course_id : DS\n",
      "course_duartion : 4\n",
      "course_fee : 18000\n",
      "Institute : Naresh It\n"
     ]
    }
   ],
   "source": [
    "for i,j in dict1.items():\n",
    "    print(i,':',j)"
   ]
  },
  {
   "cell_type": "code",
   "execution_count": null,
   "id": "fc769813",
   "metadata": {},
   "outputs": [],
   "source": [
    "# type cast using List"
   ]
  },
  {
   "cell_type": "code",
   "execution_count": 14,
   "id": "9b87a47b",
   "metadata": {},
   "outputs": [
    {
     "data": {
      "text/plain": [
       "[('course_id', 'DS'),\n",
       " ('course_duartion', 4),\n",
       " ('course_fee', 18000),\n",
       " ('Institute', 'Naresh It')]"
      ]
     },
     "execution_count": 14,
     "metadata": {},
     "output_type": "execute_result"
    }
   ],
   "source": [
    "list(dict1.items())"
   ]
  },
  {
   "cell_type": "code",
   "execution_count": 16,
   "id": "dd53c939",
   "metadata": {},
   "outputs": [
    {
     "data": {
      "text/plain": [
       "['course_id', 'course_duartion', 'course_fee', 'Institute']"
      ]
     },
     "execution_count": 16,
     "metadata": {},
     "output_type": "execute_result"
    }
   ],
   "source": [
    "list(dict1.keys())"
   ]
  },
  {
   "cell_type": "code",
   "execution_count": 17,
   "id": "67403962",
   "metadata": {},
   "outputs": [
    {
     "data": {
      "text/plain": [
       "['DS', 4, 18000, 'Naresh It']"
      ]
     },
     "execution_count": 17,
     "metadata": {},
     "output_type": "execute_result"
    }
   ],
   "source": [
    "list(dict1.values())"
   ]
  },
  {
   "cell_type": "code",
   "execution_count": 32,
   "id": "86c9b2da",
   "metadata": {},
   "outputs": [
    {
     "data": {
      "text/plain": [
       "{'course_id': 'DS',\n",
       " 'course_duartion': 4,\n",
       " 'course_fee': 18000,\n",
       " 'Institute': 'Naresh It'}"
      ]
     },
     "execution_count": 32,
     "metadata": {},
     "output_type": "execute_result"
    }
   ],
   "source": [
    "key=['course_id', 'course_duartion', 'course_fee', 'Institute']\n",
    "key=['course_id', 'course_duartion', 'course_fee', 'Institute']\n",
    "\n",
    "values=['DS', 4, 18000, 'Naresh It']\n",
    "\n",
    "dict1={} \n",
    "values=['DS', 4, 18000, 'Naresh It']\n",
    "\n",
    "dict1={}                                  # list=[]\n",
    "import random                             # range(10)\n",
    "for i,j in zip(key,values):               # list1[]\n",
    "    dict1[i]=j\n",
    "    \n",
    "dict1"
   ]
  },
  {
   "cell_type": "code",
   "execution_count": 33,
   "id": "7b80d68c",
   "metadata": {},
   "outputs": [
    {
     "data": {
      "text/plain": [
       "[0, 1, 2, 3, 4, 5, 6, 7, 8, 9]"
      ]
     },
     "execution_count": 33,
     "metadata": {},
     "output_type": "execute_result"
    }
   ],
   "source": [
    "[i for i in range(10)]"
   ]
  },
  {
   "cell_type": "code",
   "execution_count": 36,
   "id": "29ca4684",
   "metadata": {},
   "outputs": [
    {
     "data": {
      "text/plain": [
       "{'course_id': 'DS',\n",
       " 'course_duartion': 4,\n",
       " 'course_fee': 18000,\n",
       " 'Institute': 'Naresh It'}"
      ]
     },
     "execution_count": 36,
     "metadata": {},
     "output_type": "execute_result"
    }
   ],
   "source": [
    "d2={i:j for i,j in zip(key,values)}\n",
    "d2"
   ]
  },
  {
   "cell_type": "code",
   "execution_count": 38,
   "id": "9fc62fe7",
   "metadata": {},
   "outputs": [
    {
     "data": {
      "text/plain": [
       "['course_id', 'course_duartion', 'course_fee', 'Institute']"
      ]
     },
     "execution_count": 38,
     "metadata": {},
     "output_type": "execute_result"
    }
   ],
   "source": [
    "list(d2.keys())"
   ]
  },
  {
   "cell_type": "code",
   "execution_count": 39,
   "id": "92adc7fb",
   "metadata": {},
   "outputs": [
    {
     "data": {
      "text/plain": [
       "['DS', 4, 18000, 'Naresh It']"
      ]
     },
     "execution_count": 39,
     "metadata": {},
     "output_type": "execute_result"
    }
   ],
   "source": [
    "list(d2.values())"
   ]
  },
  {
   "cell_type": "markdown",
   "id": "aa9078d5",
   "metadata": {},
   "source": [
    "$get$"
   ]
  },
  {
   "cell_type": "code",
   "execution_count": 43,
   "id": "dc2b722e",
   "metadata": {},
   "outputs": [
    {
     "data": {
      "text/plain": [
       "['__class__',\n",
       " '__class_getitem__',\n",
       " '__contains__',\n",
       " '__delattr__',\n",
       " '__delitem__',\n",
       " '__dir__',\n",
       " '__doc__',\n",
       " '__eq__',\n",
       " '__format__',\n",
       " '__ge__',\n",
       " '__getattribute__',\n",
       " '__getitem__',\n",
       " '__getstate__',\n",
       " '__gt__',\n",
       " '__hash__',\n",
       " '__init__',\n",
       " '__init_subclass__',\n",
       " '__ior__',\n",
       " '__iter__',\n",
       " '__le__',\n",
       " '__len__',\n",
       " '__lt__',\n",
       " '__ne__',\n",
       " '__new__',\n",
       " '__or__',\n",
       " '__reduce__',\n",
       " '__reduce_ex__',\n",
       " '__repr__',\n",
       " '__reversed__',\n",
       " '__ror__',\n",
       " '__setattr__',\n",
       " '__setitem__',\n",
       " '__sizeof__',\n",
       " '__str__',\n",
       " '__subclasshook__',\n",
       " 'clear',\n",
       " 'copy',\n",
       " 'fromkeys',\n",
       " 'get',\n",
       " 'items',\n",
       " 'keys',\n",
       " 'pop',\n",
       " 'popitem',\n",
       " 'setdefault',\n",
       " 'update',\n",
       " 'values']"
      ]
     },
     "execution_count": 43,
     "metadata": {},
     "output_type": "execute_result"
    }
   ],
   "source": [
    "dir(dict1)"
   ]
  },
  {
   "cell_type": "code",
   "execution_count": 46,
   "id": "fa62ba53",
   "metadata": {},
   "outputs": [
    {
     "data": {
      "text/plain": [
       "'DS'"
      ]
     },
     "execution_count": 46,
     "metadata": {},
     "output_type": "execute_result"
    }
   ],
   "source": [
    "dict1.get('course_id')"
   ]
  },
  {
   "cell_type": "code",
   "execution_count": 47,
   "id": "c6aafb99",
   "metadata": {},
   "outputs": [],
   "source": [
    "dict1.get('a')"
   ]
  },
  {
   "cell_type": "code",
   "execution_count": null,
   "id": "d7e12f26",
   "metadata": {},
   "outputs": [],
   "source": [
    "# No answer  No error"
   ]
  },
  {
   "cell_type": "code",
   "execution_count": 49,
   "id": "6cfa1793",
   "metadata": {},
   "outputs": [],
   "source": [
    "dict1.clear()"
   ]
  },
  {
   "cell_type": "markdown",
   "id": "3e4be1b1",
   "metadata": {},
   "source": [
    "$copy - clear$ "
   ]
  },
  {
   "cell_type": "code",
   "execution_count": 50,
   "id": "fb16a0f5",
   "metadata": {},
   "outputs": [
    {
     "name": "stdout",
     "output_type": "stream",
     "text": [
      "d1: {}\n",
      "d2: {'city': 'Hyd'}\n"
     ]
    }
   ],
   "source": [
    "d1={'city':'Hyd'}\n",
    "d2=d1.copy()\n",
    "d1.clear()\n",
    "print('d1:',d1)\n",
    "print('d2:',d2)"
   ]
  },
  {
   "cell_type": "markdown",
   "id": "5f20622e",
   "metadata": {},
   "source": [
    "$pop- popitem - del$"
   ]
  },
  {
   "cell_type": "code",
   "execution_count": 83,
   "id": "72152398",
   "metadata": {},
   "outputs": [
    {
     "data": {
      "text/plain": [
       "{'course_id': 'DS',\n",
       " 'course_duartion': 4,\n",
       " 'course_fee': 18000,\n",
       " 'Institute': 'Naresh It'}"
      ]
     },
     "execution_count": 83,
     "metadata": {},
     "output_type": "execute_result"
    }
   ],
   "source": [
    "dict1={'course_id':'DS',\n",
    "      'course_duartion':4,\n",
    "      'course_fee':18000,\n",
    "      'Institute':'Naresh It'}\n",
    "dict1"
   ]
  },
  {
   "cell_type": "code",
   "execution_count": 56,
   "id": "69cdf36b",
   "metadata": {},
   "outputs": [
    {
     "data": {
      "text/plain": [
       "'DS'"
      ]
     },
     "execution_count": 56,
     "metadata": {},
     "output_type": "execute_result"
    }
   ],
   "source": [
    "dict1.pop('course_id')"
   ]
  },
  {
   "cell_type": "code",
   "execution_count": 60,
   "id": "2b74722b",
   "metadata": {},
   "outputs": [
    {
     "data": {
      "text/plain": [
       "('Institute', 'Naresh It')"
      ]
     },
     "execution_count": 60,
     "metadata": {},
     "output_type": "execute_result"
    }
   ],
   "source": [
    "dict1.popitem()\n",
    "\n",
    "# pop item is not taking any arguments\n",
    "# it will retern output also\n",
    "# which pare is removing\n",
    "# last in first out\n"
   ]
  },
  {
   "cell_type": "code",
   "execution_count": 80,
   "id": "891da7d2",
   "metadata": {},
   "outputs": [
    {
     "name": "stdout",
     "output_type": "stream",
     "text": [
      "DS\n",
      "{'course_duartion': 4, 'course_fee': 18000, 'Institute': 'Naresh It'}\n"
     ]
    }
   ],
   "source": [
    "print(dict1.pop('course_id'))\n",
    "# pop methios take one argumeny\n",
    "# that argument is key, which you want to remove\n",
    "# and return the corresponding value also\n",
    "print(dict1)"
   ]
  },
  {
   "cell_type": "code",
   "execution_count": 84,
   "id": "516a6537",
   "metadata": {},
   "outputs": [
    {
     "data": {
      "text/plain": [
       "{'course_id': 'DS', 'course_fee': 18000, 'Institute': 'Naresh It'}"
      ]
     },
     "execution_count": 84,
     "metadata": {},
     "output_type": "execute_result"
    }
   ],
   "source": [
    "del dict1['course_duartion']\n",
    "dict1"
   ]
  },
  {
   "cell_type": "markdown",
   "id": "5a846286",
   "metadata": {},
   "source": [
    "$ set of default$"
   ]
  },
  {
   "cell_type": "code",
   "execution_count": 87,
   "id": "7378ee71",
   "metadata": {},
   "outputs": [
    {
     "data": {
      "text/plain": [
       "{'course_id': 'DS',\n",
       " 'course_duartion': 4,\n",
       " 'course_fee': 18000,\n",
       " 'Institute': 'Naresh It',\n",
       " 'package': 300000}"
      ]
     },
     "execution_count": 87,
     "metadata": {},
     "output_type": "execute_result"
    }
   ],
   "source": [
    "dict1={'course_id':'DS',\n",
    "      'course_duartion':4,\n",
    "      'course_fee':18000,\n",
    "      'Institute':'Naresh It'}\n",
    "dict1['package']=300000\n",
    "dict1"
   ]
  },
  {
   "cell_type": "code",
   "execution_count": 88,
   "id": "a9d0e12d",
   "metadata": {},
   "outputs": [
    {
     "data": {
      "text/plain": [
       "{'course_id': 'DS',\n",
       " 'course_duartion': 4,\n",
       " 'course_fee': 18000,\n",
       " 'Institute': 'Naresh It',\n",
       " 'package': None,\n",
       " 'certificate': 'valid'}"
      ]
     },
     "execution_count": 88,
     "metadata": {},
     "output_type": "execute_result"
    }
   ],
   "source": [
    "dict1={'course_id':'DS',\n",
    "      'course_duartion':4,\n",
    "      'course_fee':18000,\n",
    "      'Institute':'Naresh It'}\n",
    "dict1.setdefault('package')\n",
    "dict1.setdefault('certificate','valid')\n",
    "dict1"
   ]
  },
  {
   "cell_type": "markdown",
   "id": "2da1c976",
   "metadata": {},
   "source": [
    "$ from - keys$"
   ]
  },
  {
   "cell_type": "code",
   "execution_count": 90,
   "id": "7ac42c84",
   "metadata": {},
   "outputs": [
    {
     "ename": "TypeError",
     "evalue": "fromkeys expected at least 1 argument, got 0",
     "output_type": "error",
     "traceback": [
      "\u001b[1;31m---------------------------------------------------------------------------\u001b[0m",
      "\u001b[1;31mTypeError\u001b[0m                                 Traceback (most recent call last)",
      "Cell \u001b[1;32mIn[90], line 5\u001b[0m\n\u001b[0;32m      1\u001b[0m dict1\u001b[38;5;241m=\u001b[39m{\u001b[38;5;124m'\u001b[39m\u001b[38;5;124mcourse_id\u001b[39m\u001b[38;5;124m'\u001b[39m:\u001b[38;5;124m'\u001b[39m\u001b[38;5;124mDS\u001b[39m\u001b[38;5;124m'\u001b[39m,\n\u001b[0;32m      2\u001b[0m       \u001b[38;5;124m'\u001b[39m\u001b[38;5;124mcourse_duartion\u001b[39m\u001b[38;5;124m'\u001b[39m:\u001b[38;5;241m4\u001b[39m,\n\u001b[0;32m      3\u001b[0m       \u001b[38;5;124m'\u001b[39m\u001b[38;5;124mcourse_fee\u001b[39m\u001b[38;5;124m'\u001b[39m:\u001b[38;5;241m18000\u001b[39m,\n\u001b[0;32m      4\u001b[0m       \u001b[38;5;124m'\u001b[39m\u001b[38;5;124mInstitute\u001b[39m\u001b[38;5;124m'\u001b[39m:\u001b[38;5;124m'\u001b[39m\u001b[38;5;124mNaresh It\u001b[39m\u001b[38;5;124m'\u001b[39m}\n\u001b[1;32m----> 5\u001b[0m dict1\u001b[38;5;241m.\u001b[39mfromkeys()\n",
      "\u001b[1;31mTypeError\u001b[0m: fromkeys expected at least 1 argument, got 0"
     ]
    }
   ],
   "source": [
    "dict1={'course_id':'DS',\n",
    "      'course_duartion':4,\n",
    "      'course_fee':18000,\n",
    "      'Institute':'Naresh It'}\n",
    "\n",
    "dict1.fromkeys()"
   ]
  },
  {
   "cell_type": "code",
   "execution_count": 93,
   "id": "6944fa7e",
   "metadata": {},
   "outputs": [
    {
     "name": "stdout",
     "output_type": "stream",
     "text": [
      "{'course_id': 'keys', 'course_duartion': 'keys', 'course_fee': 'keys', 'Institute': 'keys'}\n"
     ]
    },
    {
     "data": {
      "text/plain": [
       "{'DS': 'values', 4: 'values', 18000: 'values', 'Naresh It': 'values'}"
      ]
     },
     "execution_count": 93,
     "metadata": {},
     "output_type": "execute_result"
    }
   ],
   "source": [
    "dict1={}\n",
    "key=['course_id', 'course_duartion', 'course_fee', 'Institute']\n",
    "values=['DS', 4, 18000, 'Naresh It']\n",
    "print(dict1.fromkeys(keys,'keys'))\n",
    "dict1.fromkeys(values,'values')"
   ]
  },
  {
   "cell_type": "code",
   "execution_count": null,
   "id": "5dd12caa",
   "metadata": {},
   "outputs": [],
   "source": []
  }
 ],
 "metadata": {
  "kernelspec": {
   "display_name": "Python 3 (ipykernel)",
   "language": "python",
   "name": "python3"
  },
  "language_info": {
   "codemirror_mode": {
    "name": "ipython",
    "version": 3
   },
   "file_extension": ".py",
   "mimetype": "text/x-python",
   "name": "python",
   "nbconvert_exporter": "python",
   "pygments_lexer": "ipython3",
   "version": "3.11.5"
  }
 },
 "nbformat": 4,
 "nbformat_minor": 5
}
