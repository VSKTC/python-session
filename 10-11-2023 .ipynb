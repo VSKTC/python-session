{
 "cells": [
  {
   "cell_type": "code",
   "execution_count": 37,
   "id": "1c59de7f",
   "metadata": {},
   "outputs": [
    {
     "data": {
      "text/plain": [
       "['Apple good', 'Ball good', 'Cat better', 'Dog better', 'Elephant good']"
      ]
     },
     "execution_count": 37,
     "metadata": {},
     "output_type": "execute_result"
    }
   ],
   "source": [
    "list1=['Apple','Ball','Cat','Dog','Elephant']\n",
    "items=[]\n",
    "for i in list1:\n",
    "    if len(i)>3:\n",
    "        items.append(\"{} good\".format(i))\n",
    "    else:\n",
    "        items.append(\"{} better\".format(i))\n",
    "items"
   ]
  },
  {
   "cell_type": "code",
   "execution_count": 4,
   "id": "83455cea",
   "metadata": {},
   "outputs": [
    {
     "data": {
      "text/plain": [
       "['Apple good', 'Ball good', 'Cat better', 'Dog better', 'Elephant good']"
      ]
     },
     "execution_count": 4,
     "metadata": {},
     "output_type": "execute_result"
    }
   ],
   "source": [
    "# [<if-else> <if_con> else <else_op> for]\n",
    "items1=[\"{} good\".format(i) if len(i)>3 else \"{} better\".format(i) for i in list1]\n",
    "items1"
   ]
  },
  {
   "cell_type": "markdown",
   "id": "44996291",
   "metadata": {},
   "source": [
    "# clear"
   ]
  },
  {
   "cell_type": "code",
   "execution_count": 7,
   "id": "8e4e05e4",
   "metadata": {},
   "outputs": [],
   "source": [
    "list1=[1,2,3,4]\n",
    "list1.clear()\n",
    "# clear will clear all elements"
   ]
  },
  {
   "cell_type": "code",
   "execution_count": 8,
   "id": "319d45be",
   "metadata": {},
   "outputs": [
    {
     "data": {
      "text/plain": [
       "[]"
      ]
     },
     "execution_count": 8,
     "metadata": {},
     "output_type": "execute_result"
    }
   ],
   "source": [
    "list1"
   ]
  },
  {
   "cell_type": "markdown",
   "id": "28918d5f",
   "metadata": {},
   "source": [
    "# delete\n",
    "- del is not a method\n",
    "- it is a keyword"
   ]
  },
  {
   "cell_type": "code",
   "execution_count": 9,
   "id": "bb6674e7",
   "metadata": {},
   "outputs": [],
   "source": [
    "list1=[100,200,300]\n",
    "\n",
    "del list1[0]"
   ]
  },
  {
   "cell_type": "code",
   "execution_count": 10,
   "id": "5ce743b3",
   "metadata": {},
   "outputs": [
    {
     "data": {
      "text/plain": [
       "[200, 300]"
      ]
     },
     "execution_count": 10,
     "metadata": {},
     "output_type": "execute_result"
    }
   ],
   "source": [
    "list1"
   ]
  },
  {
   "cell_type": "markdown",
   "id": "d1e74722",
   "metadata": {},
   "source": [
    "$ pop $ - $ remove $"
   ]
  },
  {
   "cell_type": "code",
   "execution_count": 24,
   "id": "fde53345",
   "metadata": {},
   "outputs": [
    {
     "name": "stdout",
     "output_type": "stream",
     "text": [
      "100\n",
      "300\n"
     ]
    },
    {
     "data": {
      "text/plain": [
       "[200]"
      ]
     },
     "execution_count": 24,
     "metadata": {},
     "output_type": "execute_result"
    }
   ],
   "source": [
    "list1=[100,200,300]\n",
    "print(list1.pop(0)) # here 0 is is index that is 100\n",
    "print(list1.pop())\n",
    "# default value index= -1\n",
    "# it is also retern which value is deleted\n",
    "# and it saves results in the same list\n",
    "list1"
   ]
  },
  {
   "cell_type": "code",
   "execution_count": 25,
   "id": "d07408cc",
   "metadata": {},
   "outputs": [
    {
     "data": {
      "text/plain": [
       "[200, 300]"
      ]
     },
     "execution_count": 25,
     "metadata": {},
     "output_type": "execute_result"
    }
   ],
   "source": [
    "list1=[100,200,300]\n",
    "list1.remove(100)\n",
    "# it takes the element of the list\n",
    "# it will not return anything\n",
    "# it is also saves the results in the same list\n",
    "list1"
   ]
  },
  {
   "cell_type": "code",
   "execution_count": 33,
   "id": "f82e7219",
   "metadata": {},
   "outputs": [],
   "source": [
    "list2=[i for i in range(1,100,3)]\n",
    "list2\n",
    "# from this list 2 i want to delete num 55\n",
    "# list2.pop(<index>)\n",
    "list2.remove(55)"
   ]
  },
  {
   "cell_type": "code",
   "execution_count": 32,
   "id": "6098ce7e",
   "metadata": {},
   "outputs": [
    {
     "data": {
      "text/plain": [
       "[1,\n",
       " 4,\n",
       " 7,\n",
       " 10,\n",
       " 13,\n",
       " 16,\n",
       " 19,\n",
       " 22,\n",
       " 25,\n",
       " 28,\n",
       " 31,\n",
       " 34,\n",
       " 37,\n",
       " 40,\n",
       " 43,\n",
       " 46,\n",
       " 49,\n",
       " 52,\n",
       " 58,\n",
       " 61,\n",
       " 64,\n",
       " 67,\n",
       " 70,\n",
       " 73,\n",
       " 76,\n",
       " 79,\n",
       " 82,\n",
       " 85,\n",
       " 88,\n",
       " 91,\n",
       " 94,\n",
       " 97]"
      ]
     },
     "execution_count": 32,
     "metadata": {},
     "output_type": "execute_result"
    }
   ],
   "source": [
    "list2"
   ]
  },
  {
   "cell_type": "markdown",
   "id": "672396b0",
   "metadata": {},
   "source": [
    "### index method"
   ]
  },
  {
   "cell_type": "code",
   "execution_count": 38,
   "id": "e6ce79e5",
   "metadata": {},
   "outputs": [
    {
     "data": {
      "text/plain": [
       "['Apple', 'Ball', 'Cat', 'Dog', 'Elephant']"
      ]
     },
     "execution_count": 38,
     "metadata": {},
     "output_type": "execute_result"
    }
   ],
   "source": [
    "list1"
   ]
  },
  {
   "cell_type": "code",
   "execution_count": 39,
   "id": "be599e4f",
   "metadata": {},
   "outputs": [
    {
     "data": {
      "text/plain": [
       "2"
      ]
     },
     "execution_count": 39,
     "metadata": {},
     "output_type": "execute_result"
    }
   ],
   "source": [
    "list1.index('Cat')"
   ]
  },
  {
   "cell_type": "code",
   "execution_count": 40,
   "id": "c308b2a5",
   "metadata": {},
   "outputs": [
    {
     "data": {
      "text/plain": [
       "'Cat'"
      ]
     },
     "execution_count": 40,
     "metadata": {},
     "output_type": "execute_result"
    }
   ],
   "source": [
    "list1.pop(list1.index('Cat'))"
   ]
  },
  {
   "cell_type": "code",
   "execution_count": 41,
   "id": "2d84fbc8",
   "metadata": {},
   "outputs": [
    {
     "data": {
      "text/plain": [
       "['Apple', 'Ball', 'Dog', 'Elephant']"
      ]
     },
     "execution_count": 41,
     "metadata": {},
     "output_type": "execute_result"
    }
   ],
   "source": [
    "list1"
   ]
  },
  {
   "cell_type": "code",
   "execution_count": 107,
   "id": "8e80bfdb",
   "metadata": {},
   "outputs": [
    {
     "data": {
      "text/plain": [
       "(['kl', 'virat', 'rohit'],\n",
       " ['rahul', 'kohli', 'sharma'],\n",
       " ['pune', 'blr', 'mumbai'])"
      ]
     },
     "execution_count": 107,
     "metadata": {},
     "output_type": "execute_result"
    }
   ],
   "source": [
    "string1='kl.rahul@pune.com,virat.kohli@blr.com,rohit.sharma@mumbai.com'\n",
    "list1=string1.split(',')\n",
    "f_n=[]\n",
    "s_n=[]\n",
    "t_n=[]\n",
    "for i in list1:\n",
    "    f_n.append(i.split('.')[0])\n",
    "    s_n.append(i.split('@')[0].split('.')[1])\n",
    "    t_n.append(i.split('.')[1].split('@')[1])\n",
    "f_n,s_n,t_n"
   ]
  },
  {
   "cell_type": "code",
   "execution_count": 79,
   "id": "56a8e9e2",
   "metadata": {},
   "outputs": [
    {
     "data": {
      "text/plain": [
       "('kl', 'rahul', 'pune')"
      ]
     },
     "execution_count": 79,
     "metadata": {},
     "output_type": "execute_result"
    }
   ],
   "source": [
    "str1='kl.rahul@pune.com'\n",
    "f_n=str1.split('.')[0]\n",
    "s_n=str1.split('@')[0].split('.')[1]\n",
    "t_n=str1.split('.')[1].split('@')[1]\n",
    "f_n,s_n,t_n"
   ]
  },
  {
   "cell_type": "code",
   "execution_count": 91,
   "id": "03a19b37",
   "metadata": {},
   "outputs": [],
   "source": [
    "string1='kl.rahul@pune.com,virat.kohli@blr.com,rohit.sharma@mumbai.com'\n",
    "list1=string1.split(',')\n",
    "f_n=[]\n",
    "s_n=[]\n",
    "t_n=[]\n",
    "for i in list1:\n",
    "    f_n.append(i.split('.')[0])\n",
    "    s_n.append(i.split('.')[1].split('@')[0])\n",
    "    t_n.append(i.split('.')[1].split('@')[1])"
   ]
  },
  {
   "cell_type": "code",
   "execution_count": 92,
   "id": "93ba4ddb",
   "metadata": {},
   "outputs": [
    {
     "data": {
      "text/plain": [
       "(['kl', 'virat', 'rohit'],\n",
       " ['rahul', 'kohli', 'sharma'],\n",
       " ['pune', 'blr', 'mumbai'])"
      ]
     },
     "execution_count": 92,
     "metadata": {},
     "output_type": "execute_result"
    }
   ],
   "source": [
    "f_n,s_n,t_n"
   ]
  },
  {
   "cell_type": "code",
   "execution_count": 95,
   "id": "0bef6641",
   "metadata": {},
   "outputs": [
    {
     "data": {
      "text/plain": [
       "(['kl', 'virat', 'rohit'],\n",
       " ['rahul', 'kohli', 'sharma'],\n",
       " ['pune', 'blr', 'mumbai'])"
      ]
     },
     "execution_count": 95,
     "metadata": {},
     "output_type": "execute_result"
    }
   ],
   "source": [
    "f_n=[i.split('.')[0] for i in list1]\n",
    "s_n=[i.split('.')[1].split('@')[0] for i in list1]\n",
    "t_n=[i.split('.')[1].split('@')[1] for i in list1]\n",
    "f_n,s_n,t_n"
   ]
  },
  {
   "cell_type": "markdown",
   "id": "1184f912",
   "metadata": {},
   "source": [
    "- append \n",
    "- clear\n",
    "- pop\n",
    "- remove\n",
    "- index\n",
    "- del (it is not a method)"
   ]
  },
  {
   "cell_type": "markdown",
   "id": "f1c0a906",
   "metadata": {},
   "source": [
    "$copy$"
   ]
  },
  {
   "cell_type": "code",
   "execution_count": 97,
   "id": "d7d83169",
   "metadata": {},
   "outputs": [
    {
     "data": {
      "text/plain": [
       "['kl.rahul@pune.com', 'virat.kohli@blr.com', 'rohit.sharma@mumbai.com']"
      ]
     },
     "execution_count": 97,
     "metadata": {},
     "output_type": "execute_result"
    }
   ],
   "source": [
    "list1"
   ]
  },
  {
   "cell_type": "code",
   "execution_count": 100,
   "id": "761fd7e4",
   "metadata": {},
   "outputs": [
    {
     "data": {
      "text/plain": [
       "['kl.rahul@pune.com', 'virat.kohli@blr.com', 'rohit.sharma@mumbai.com']"
      ]
     },
     "execution_count": 100,
     "metadata": {},
     "output_type": "execute_result"
    }
   ],
   "source": [
    "list2=list1.copy()\n",
    "list2"
   ]
  },
  {
   "cell_type": "code",
   "execution_count": 102,
   "id": "bc9b8f65",
   "metadata": {},
   "outputs": [
    {
     "data": {
      "text/plain": [
       "[]"
      ]
     },
     "execution_count": 102,
     "metadata": {},
     "output_type": "execute_result"
    }
   ],
   "source": [
    "list1.clear()\n",
    "list1"
   ]
  },
  {
   "cell_type": "code",
   "execution_count": 103,
   "id": "986232ea",
   "metadata": {},
   "outputs": [
    {
     "data": {
      "text/plain": [
       "['kl.rahul@pune.com', 'virat.kohli@blr.com', 'rohit.sharma@mumbai.com']"
      ]
     },
     "execution_count": 103,
     "metadata": {},
     "output_type": "execute_result"
    }
   ],
   "source": [
    "list2"
   ]
  },
  {
   "cell_type": "code",
   "execution_count": 104,
   "id": "83eb1e93",
   "metadata": {},
   "outputs": [
    {
     "name": "stdout",
     "output_type": "stream",
     "text": [
      "[]\n",
      "['kl.rahul@pune.com', 'virat.kohli@blr.com', 'rohit.sharma@mumbai.com']\n"
     ]
    }
   ],
   "source": [
    "print(list1)\n",
    "print(list2)"
   ]
  },
  {
   "cell_type": "markdown",
   "id": "6f4ea663",
   "metadata": {},
   "source": [
    "$    Extend    $"
   ]
  },
  {
   "cell_type": "code",
   "execution_count": 112,
   "id": "2885d3cd",
   "metadata": {},
   "outputs": [],
   "source": [
    "list1=[1,2,3,4]\n",
    "list2=['A','B','C','D']"
   ]
  },
  {
   "cell_type": "code",
   "execution_count": 113,
   "id": "5155394c",
   "metadata": {},
   "outputs": [
    {
     "data": {
      "text/plain": [
       "['A', 'B', 'C', 'D', 1, 2, 3, 4]"
      ]
     },
     "execution_count": 113,
     "metadata": {},
     "output_type": "execute_result"
    }
   ],
   "source": [
    "list2.extend(list1)\n",
    "list2"
   ]
  },
  {
   "cell_type": "code",
   "execution_count": 115,
   "id": "c4753352",
   "metadata": {},
   "outputs": [
    {
     "data": {
      "text/plain": [
       "[1, 2, 3, 4, 'A', 'B', 'C', 'D']"
      ]
     },
     "execution_count": 115,
     "metadata": {},
     "output_type": "execute_result"
    }
   ],
   "source": [
    "list1=[1,2,3,4]\n",
    "list2=['A','B','C','D']\n",
    "list1.extend(list2)\n",
    "list1"
   ]
  },
  {
   "cell_type": "markdown",
   "id": "157e868c",
   "metadata": {},
   "source": [
    "$ Zip $"
   ]
  },
  {
   "cell_type": "code",
   "execution_count": 123,
   "id": "a62488a7",
   "metadata": {},
   "outputs": [
    {
     "name": "stdout",
     "output_type": "stream",
     "text": [
      "Ram age is 25\n",
      "Rahem age is 30\n",
      "Robot age is 35\n"
     ]
    }
   ],
   "source": [
    "list1=['Ram','Rahem','Robot']\n",
    "list2=[25,30,35]\n",
    "# list1=i relataed\n",
    "# list2=j relataed\n",
    "for i,j in zip(list1,list2):\n",
    "    print('{} age is {}'.format(i,j))\n",
    "    "
   ]
  },
  {
   "cell_type": "code",
   "execution_count": null,
   "id": "4529da10",
   "metadata": {},
   "outputs": [],
   "source": [
    "# keywords\n",
    "max()\n",
    "min()\n",
    "print()\n",
    "type()\n",
    "len()\n",
    "zip()\n",
    "sorted()"
   ]
  },
  {
   "cell_type": "code",
   "execution_count": 128,
   "id": "75eca151",
   "metadata": {},
   "outputs": [
    {
     "data": {
      "text/plain": [
       "['A', 'B', 'C', 'D', 'Z']"
      ]
     },
     "execution_count": 128,
     "metadata": {},
     "output_type": "execute_result"
    }
   ],
   "source": [
    "list1=['Z','A','B','C','D']\n",
    "list1.sort() # reverse= False\n",
    "list1"
   ]
  },
  {
   "cell_type": "code",
   "execution_count": 127,
   "id": "d554aa3d",
   "metadata": {},
   "outputs": [
    {
     "data": {
      "text/plain": [
       "['Z', 'D', 'C', 'B', 'A']"
      ]
     },
     "execution_count": 127,
     "metadata": {},
     "output_type": "execute_result"
    }
   ],
   "source": [
    "list1=['Z','A','B','C','D']\n",
    "list1.sort(reverse=True)\n",
    "list1"
   ]
  },
  {
   "cell_type": "code",
   "execution_count": 133,
   "id": "f5f49025",
   "metadata": {},
   "outputs": [
    {
     "name": "stdout",
     "output_type": "stream",
     "text": [
      "['A', 'B', 'C', 'D', 'Z']\n",
      "['Z', 'D', 'C', 'B', 'A']\n",
      "['A', 'B', 'C', 'D', 'Z']\n"
     ]
    }
   ],
   "source": [
    "print(sorted(list1))\n",
    "print(sorted(list1,reverse=True))\n",
    "print(list1)"
   ]
  },
  {
   "cell_type": "code",
   "execution_count": null,
   "id": "e050f137",
   "metadata": {},
   "outputs": [],
   "source": [
    "# in sorted  Keyword the results are not saving\n",
    "# where as in sort method the results will save in a same list"
   ]
  },
  {
   "cell_type": "markdown",
   "id": "90d61a1e",
   "metadata": {},
   "source": [
    "$JOIN$"
   ]
  },
  {
   "cell_type": "code",
   "execution_count": 136,
   "id": "a54570bd",
   "metadata": {},
   "outputs": [
    {
     "data": {
      "text/plain": [
       "['kl.rahul@pune.com', 'virat.kohli@blr.com', 'rohit.sharma@mumbai.com']"
      ]
     },
     "execution_count": 136,
     "metadata": {},
     "output_type": "execute_result"
    }
   ],
   "source": [
    "string1='kl.rahul@pune.com,virat.kohli@blr.com,rohit.sharma@mumbai.com'\n",
    "list1=string1.split(',')\n",
    "list1"
   ]
  },
  {
   "cell_type": "code",
   "execution_count": 139,
   "id": "e390e5d0",
   "metadata": {},
   "outputs": [
    {
     "data": {
      "text/plain": [
       "'kl.rahul@pune.com===>virat.kohli@blr.com===>rohit.sharma@mumbai.com'"
      ]
     },
     "execution_count": 139,
     "metadata": {},
     "output_type": "execute_result"
    }
   ],
   "source": [
    "'===>'.join(list1)"
   ]
  },
  {
   "cell_type": "markdown",
   "id": "0e4ae614",
   "metadata": {},
   "source": [
    "$insert$"
   ]
  },
  {
   "cell_type": "code",
   "execution_count": null,
   "id": "2d546199",
   "metadata": {},
   "outputs": [],
   "source": [
    "- get the different between -append -extend -insert"
   ]
  },
  {
   "cell_type": "code",
   "execution_count": 148,
   "id": "6276d6b2",
   "metadata": {},
   "outputs": [
    {
     "data": {
      "text/plain": [
       "['B', 'A', 'B', 'C', 'D', 'Z']"
      ]
     },
     "execution_count": 148,
     "metadata": {},
     "output_type": "execute_result"
    }
   ],
   "source": [
    "list1=['A','B','C','D','Z']\n",
    "list1.insert(0,'B')\n",
    "list1"
   ]
  },
  {
   "cell_type": "code",
   "execution_count": null,
   "id": "35efe54e",
   "metadata": {},
   "outputs": [],
   "source": []
  },
  {
   "cell_type": "code",
   "execution_count": null,
   "id": "fc949ce8",
   "metadata": {},
   "outputs": [],
   "source": []
  },
  {
   "cell_type": "code",
   "execution_count": null,
   "id": "b07b8daa",
   "metadata": {},
   "outputs": [],
   "source": []
  },
  {
   "cell_type": "code",
   "execution_count": null,
   "id": "c08089d1",
   "metadata": {},
   "outputs": [],
   "source": []
  },
  {
   "cell_type": "code",
   "execution_count": null,
   "id": "b4bebb58",
   "metadata": {},
   "outputs": [],
   "source": []
  }
 ],
 "metadata": {
  "kernelspec": {
   "display_name": "Python 3 (ipykernel)",
   "language": "python",
   "name": "python3"
  },
  "language_info": {
   "codemirror_mode": {
    "name": "ipython",
    "version": 3
   },
   "file_extension": ".py",
   "mimetype": "text/x-python",
   "name": "python",
   "nbconvert_exporter": "python",
   "pygments_lexer": "ipython3",
   "version": "3.11.5"
  }
 },
 "nbformat": 4,
 "nbformat_minor": 5
}
