{
 "cells": [
  {
   "cell_type": "code",
   "execution_count": 1,
   "id": "44621c6b",
   "metadata": {},
   "outputs": [],
   "source": [
    "list1=['A','B','C','D','E','F',1,2,3,4,5,6]"
   ]
  },
  {
   "cell_type": "code",
   "execution_count": 2,
   "id": "7104b58c",
   "metadata": {},
   "outputs": [
    {
     "data": {
      "text/plain": [
       "['C', 'E', 1, 3, 5]"
      ]
     },
     "execution_count": 2,
     "metadata": {},
     "output_type": "execute_result"
    }
   ],
   "source": [
    "list1[2:11:2]"
   ]
  },
  {
   "cell_type": "code",
   "execution_count": 3,
   "id": "f8d1b203",
   "metadata": {},
   "outputs": [
    {
     "data": {
      "text/plain": [
       "[]"
      ]
     },
     "execution_count": 3,
     "metadata": {},
     "output_type": "execute_result"
    }
   ],
   "source": [
    "list1[2:11:-2]"
   ]
  },
  {
   "cell_type": "code",
   "execution_count": 4,
   "id": "d8f8e113",
   "metadata": {},
   "outputs": [
    {
     "data": {
      "text/plain": [
       "[]"
      ]
     },
     "execution_count": 4,
     "metadata": {},
     "output_type": "execute_result"
    }
   ],
   "source": [
    "list1[2:-11:2]"
   ]
  },
  {
   "cell_type": "code",
   "execution_count": 5,
   "id": "94397d1f",
   "metadata": {},
   "outputs": [
    {
     "data": {
      "text/plain": [
       "['C']"
      ]
     },
     "execution_count": 5,
     "metadata": {},
     "output_type": "execute_result"
    }
   ],
   "source": [
    "list1[2:-11:-2]"
   ]
  },
  {
   "cell_type": "code",
   "execution_count": 6,
   "id": "6fc6267c",
   "metadata": {},
   "outputs": [
    {
     "data": {
      "text/plain": [
       "[5]"
      ]
     },
     "execution_count": 6,
     "metadata": {},
     "output_type": "execute_result"
    }
   ],
   "source": [
    "list1[-2:11:2]"
   ]
  },
  {
   "cell_type": "code",
   "execution_count": 7,
   "id": "8d228679",
   "metadata": {},
   "outputs": [
    {
     "data": {
      "text/plain": [
       "[]"
      ]
     },
     "execution_count": 7,
     "metadata": {},
     "output_type": "execute_result"
    }
   ],
   "source": [
    "list1[-2:-11:2]"
   ]
  },
  {
   "cell_type": "code",
   "execution_count": 8,
   "id": "a97250db",
   "metadata": {},
   "outputs": [
    {
     "data": {
      "text/plain": [
       "[5, 3, 1, 'E', 'C']"
      ]
     },
     "execution_count": 8,
     "metadata": {},
     "output_type": "execute_result"
    }
   ],
   "source": [
    "list1[-2:-11:-2]"
   ]
  },
  {
   "cell_type": "code",
   "execution_count": 9,
   "id": "d5b7c44e",
   "metadata": {},
   "outputs": [
    {
     "data": {
      "text/plain": [
       "[]"
      ]
     },
     "execution_count": 9,
     "metadata": {},
     "output_type": "execute_result"
    }
   ],
   "source": [
    "list1[-2:11:-2]"
   ]
  },
  {
   "cell_type": "code",
   "execution_count": null,
   "id": "74303dad",
   "metadata": {},
   "outputs": [],
   "source": [
    "# Wap ask the user print element which has lenght more than 4\n",
    "# list1=['Hyderabad','Delhi','Chennai','Blr']\n",
    "# output: ['Hyderabad', 'Delhi', 'Chennai']"
   ]
  },
  {
   "cell_type": "code",
   "execution_count": 12,
   "id": "a80c27c4",
   "metadata": {},
   "outputs": [
    {
     "data": {
      "text/plain": [
       "['Hyderabad', 'Delhi', 'Chennai']"
      ]
     },
     "execution_count": 12,
     "metadata": {},
     "output_type": "execute_result"
    }
   ],
   "source": [
    "list1=['Hyderabad','Delhi','Chennai','Blr']\n",
    "list1[:3]"
   ]
  },
  {
   "cell_type": "code",
   "execution_count": 17,
   "id": "d4e23264",
   "metadata": {},
   "outputs": [
    {
     "name": "stdout",
     "output_type": "stream",
     "text": [
      "Hyderabad\n",
      "Delhi\n",
      "Chennai\n"
     ]
    }
   ],
   "source": [
    "list1=['Hyderabad','Delhi','Chennai','Blr']\n",
    "for i in list1:\n",
    "    if len(i)>=4:\n",
    "        print(i)"
   ]
  },
  {
   "cell_type": "code",
   "execution_count": 21,
   "id": "51c4fcdf",
   "metadata": {},
   "outputs": [
    {
     "name": "stdout",
     "output_type": "stream",
     "text": [
      "Hyderabad\n",
      "Delhi\n",
      "Chennai\n"
     ]
    }
   ],
   "source": [
    "list1=['Hyderabad','Delhi','Chennai','Blr']\n",
    "for i in range(len(list1)):\n",
    "    if len(list1[i])>=4:\n",
    "        print(list1[i])"
   ]
  },
  {
   "cell_type": "markdown",
   "id": "c8e0876d",
   "metadata": {},
   "source": [
    "- in operator ======= direct element\n",
    "\n",
    "- range() requires a number inside the bracket\n",
    "\n",
    "- that num indicates index element"
   ]
  },
  {
   "cell_type": "code",
   "execution_count": 30,
   "id": "e532ae95",
   "metadata": {},
   "outputs": [
    {
     "name": "stdout",
     "output_type": "stream",
     "text": [
      "Hyderab#d\n",
      "Chenn#i\n"
     ]
    }
   ],
   "source": [
    "list1=['Hyderab#d','Delhi','Chenn#i','Blr']\n",
    "for i in list1:\n",
    "    if '#' in i:\n",
    "        print(i)"
   ]
  },
  {
   "cell_type": "code",
   "execution_count": null,
   "id": "53f26183",
   "metadata": {},
   "outputs": [],
   "source": []
  },
  {
   "cell_type": "code",
   "execution_count": 41,
   "id": "a5d11ccc",
   "metadata": {},
   "outputs": [
    {
     "name": "stdout",
     "output_type": "stream",
     "text": [
      "Hyderab#d\n",
      "Chenn#i\n"
     ]
    }
   ],
   "source": [
    "list1=['Hyderab#d','Delhi','Chenn#i','Blr']\n",
    "for i in range(len(list1)):\n",
    "    if '#' in list1[i]:\n",
    "        print(list1[i])"
   ]
  },
  {
   "cell_type": "code",
   "execution_count": 47,
   "id": "d870389c",
   "metadata": {},
   "outputs": [
    {
     "name": "stdout",
     "output_type": "stream",
     "text": [
      "Hyderabad\n",
      "Haridwar\n"
     ]
    }
   ],
   "source": [
    "list1=['Hyderabad','Delhi','Chennai','Blr','Haridwar']\n",
    "for i in range(len(list1)):\n",
    "    if list1[i].lower()[0]=='h':\n",
    "        print(list1[i])"
   ]
  },
  {
   "cell_type": "code",
   "execution_count": 82,
   "id": "d3b7f3ab",
   "metadata": {},
   "outputs": [
    {
     "name": "stdout",
     "output_type": "stream",
     "text": [
      "Hyderabad\n",
      "Haridwar\n"
     ]
    }
   ],
   "source": [
    "list1=['Hyderabad','Delhi','Chennai','Blr','Haridwar']\n",
    "\n",
    "for i in list1:\n",
    "    if i.lower().startswith('h'):\n",
    "        print(i)"
   ]
  },
  {
   "cell_type": "code",
   "execution_count": 52,
   "id": "bb95d442",
   "metadata": {},
   "outputs": [
    {
     "data": {
      "text/plain": [
       "['omkar.nallagoni@gmail.com',\n",
       " 'kareem.pasha@gamil.com',\n",
       " 'sathosh.kadam@gmail.com']"
      ]
     },
     "execution_count": 52,
     "metadata": {},
     "output_type": "execute_result"
    }
   ],
   "source": [
    "list1=['omkar.nallagoni@gmail.com',\n",
    "       'kareem.pasha@gamil.com',\n",
    "       'sathosh.kadam@gmail.com']\n",
    "list1"
   ]
  },
  {
   "cell_type": "code",
   "execution_count": 104,
   "id": "bc1ffef0",
   "metadata": {},
   "outputs": [
    {
     "name": "stdout",
     "output_type": "stream",
     "text": [
      "omkar.nallagoni@gmail.com\n",
      "nallagoni\n",
      "nallagoni\n",
      "kareem.pasha@gamil.com\n",
      "pasha\n",
      "pasha\n",
      "sathosh.kadam@gmail.com\n",
      "kadam\n",
      "kadam\n"
     ]
    }
   ],
   "source": [
    "list1=['omkar.nallagoni@gmail.com',\n",
    "       'kareem.pasha@gamil.com',\n",
    "       'sathosh.kadam@gmail.com']\n",
    "for i in list1:\n",
    "    print(i)\n",
    "    print(i[i.index('.')+1:i.find('@')])\n",
    "    li=i.split('@')[0].split('.')[1]\n",
    "    print(li)"
   ]
  },
  {
   "cell_type": "code",
   "execution_count": 66,
   "id": "db19b35c",
   "metadata": {},
   "outputs": [
    {
     "data": {
      "text/plain": [
       "'nallagoni'"
      ]
     },
     "execution_count": 66,
     "metadata": {},
     "output_type": "execute_result"
    }
   ],
   "source": [
    "str1=\"omkar.nallagoni@gmail.com\"\n",
    "str1.split('@')[0].split('.')[1]"
   ]
  },
  {
   "cell_type": "markdown",
   "id": "89462b1d",
   "metadata": {},
   "source": [
    "### append"
   ]
  },
  {
   "cell_type": "code",
   "execution_count": 70,
   "id": "f7313f10",
   "metadata": {},
   "outputs": [
    {
     "data": {
      "text/plain": [
       "[100, 200, 300, 400]"
      ]
     },
     "execution_count": 70,
     "metadata": {},
     "output_type": "execute_result"
    }
   ],
   "source": [
    "list1=[100,200,300]\n",
    "list1.append(400)\n",
    "list1"
   ]
  },
  {
   "cell_type": "code",
   "execution_count": 74,
   "id": "b0ff6a2b",
   "metadata": {},
   "outputs": [
    {
     "data": {
      "text/plain": [
       "[20]"
      ]
     },
     "execution_count": 74,
     "metadata": {},
     "output_type": "execute_result"
    }
   ],
   "source": [
    "l1=[]\n",
    "l1.append(20)\n",
    "l1"
   ]
  },
  {
   "cell_type": "code",
   "execution_count": 76,
   "id": "a050782d",
   "metadata": {},
   "outputs": [
    {
     "data": {
      "text/plain": [
       "[['jk', 20, 1.2, 'A'], 'Python']"
      ]
     },
     "execution_count": 76,
     "metadata": {},
     "output_type": "execute_result"
    }
   ],
   "source": [
    "l1=[]\n",
    "l1.append(['jk',20,1.2,'A'])\n",
    "l1.append('Python')\n",
    "l1\n",
    "# append method will append at the last only"
   ]
  },
  {
   "cell_type": "code",
   "execution_count": null,
   "id": "d8c0c925",
   "metadata": {},
   "outputs": [],
   "source": [
    "# suppose if you want the same output then use append"
   ]
  },
  {
   "cell_type": "code",
   "execution_count": 78,
   "id": "4279dacb",
   "metadata": {},
   "outputs": [
    {
     "data": {
      "text/plain": [
       "['Hyderab#d', 'Chenn#i']"
      ]
     },
     "execution_count": 78,
     "metadata": {},
     "output_type": "execute_result"
    }
   ],
   "source": [
    "list1=['Hyderab#d','Delhi','Chenn#i','Blr']\n",
    "city_list=[]\n",
    "for i in list1:\n",
    "    if '#' in i:\n",
    "        city_list.append(i)\n",
    "city_list"
   ]
  },
  {
   "cell_type": "code",
   "execution_count": 79,
   "id": "bbbe13ed",
   "metadata": {},
   "outputs": [
    {
     "data": {
      "text/plain": [
       "['Hyderabad', 'Delhi', 'Chennai']"
      ]
     },
     "execution_count": 79,
     "metadata": {},
     "output_type": "execute_result"
    }
   ],
   "source": [
    "list1=['Hyderabad','Delhi','Chennai','Blr']\n",
    "city_list=[]\n",
    "for i in list1:\n",
    "    if len(i)>=4:\n",
    "        city_list.append(i)\n",
    "city_list"
   ]
  },
  {
   "cell_type": "code",
   "execution_count": 84,
   "id": "f30ab0b3",
   "metadata": {},
   "outputs": [
    {
     "data": {
      "text/plain": [
       "['Hyderabad',\n",
       " 'Delhi',\n",
       " 'Chennai',\n",
       " 'Hyderabad',\n",
       " 'Haridwar',\n",
       " 'Hyderabad',\n",
       " 'Haridwar']"
      ]
     },
     "execution_count": 84,
     "metadata": {},
     "output_type": "execute_result"
    }
   ],
   "source": [
    "list1=['Hyderabad','Delhi','Chennai','Blr','Haridwar']\n",
    "city_list1=[]\n",
    "for i in list1:\n",
    "    if i.lower().startswith('h'):\n",
    "        city_list.append(i)\n",
    "city_list"
   ]
  },
  {
   "cell_type": "code",
   "execution_count": 88,
   "id": "1e61a652",
   "metadata": {},
   "outputs": [
    {
     "data": {
      "text/plain": [
       "(['Hyderabad', 'Delhi', 'Chennai', 'Blr', 'Haridwar'],\n",
       " ['Hyderabad', 'Delhi', 'Chennai', 'Blr', 'Haridwar'])"
      ]
     },
     "execution_count": 88,
     "metadata": {},
     "output_type": "execute_result"
    }
   ],
   "source": [
    "f,s=[],[]\n",
    "for i in list1:\n",
    "    f.append(i)\n",
    "    s.append(i)\n",
    "f,s"
   ]
  },
  {
   "cell_type": "code",
   "execution_count": 113,
   "id": "6a0825d0",
   "metadata": {},
   "outputs": [
    {
     "ename": "TypeError",
     "evalue": "'int' object is not subscriptable",
     "output_type": "error",
     "traceback": [
      "\u001b[1;31m---------------------------------------------------------------------------\u001b[0m",
      "\u001b[1;31mTypeError\u001b[0m                                 Traceback (most recent call last)",
      "Cell \u001b[1;32mIn[113], line 4\u001b[0m\n\u001b[0;32m      2\u001b[0m f,s\u001b[38;5;241m=\u001b[39m[],[]\n\u001b[0;32m      3\u001b[0m \u001b[38;5;28;01mfor\u001b[39;00m i \u001b[38;5;129;01min\u001b[39;00m list1:\n\u001b[1;32m----> 4\u001b[0m     f\u001b[38;5;241m.\u001b[39mappend(i\u001b[38;5;241m.\u001b[39mfind(\u001b[38;5;124m'\u001b[39m\u001b[38;5;124m.\u001b[39m\u001b[38;5;124m'\u001b[39m)[\u001b[38;5;241m0\u001b[39m])\n\u001b[0;32m      5\u001b[0m     s\u001b[38;5;241m.\u001b[39mappend(i[i\u001b[38;5;241m.\u001b[39mfind(\u001b[38;5;124m'\u001b[39m\u001b[38;5;124m.\u001b[39m\u001b[38;5;124m'\u001b[39m)\u001b[38;5;241m+\u001b[39m\u001b[38;5;241m1\u001b[39m:i\u001b[38;5;241m.\u001b[39mfind(\u001b[38;5;124m'\u001b[39m\u001b[38;5;124m@\u001b[39m\u001b[38;5;124m'\u001b[39m)])\n\u001b[0;32m      6\u001b[0m f,s\n",
      "\u001b[1;31mTypeError\u001b[0m: 'int' object is not subscriptable"
     ]
    }
   ],
   "source": [
    "list1=['omkar.nallagoni@gmail.com','kareem.pasha@gamil.com','sathosh.kadam@gmail.com']\n",
    "f,s=[],[]\n",
    "for i in list1:\n",
    "    f.append(i.find('.')[0])\n",
    "    s.append(i[i.find('.')+1:i.find('@')])\n",
    "f,s"
   ]
  },
  {
   "cell_type": "code",
   "execution_count": 99,
   "id": "16e05ea7",
   "metadata": {},
   "outputs": [
    {
     "data": {
      "text/plain": [
       "([16, 42, 6, 28, 34], [29, 19, 43, 33, 45])"
      ]
     },
     "execution_count": 99,
     "metadata": {},
     "output_type": "execute_result"
    }
   ],
   "source": [
    "import random\n",
    "even,odd=[],[]\n",
    "for i in range(10):\n",
    "    n1= random.randint(1,50)\n",
    "    if n1%2==0:\n",
    "        even.append(n1)\n",
    "    else:\n",
    "        odd.append(n1)\n",
    "even,odd   "
   ]
  },
  {
   "cell_type": "markdown",
   "id": "cebadca9",
   "metadata": {},
   "source": [
    " ### List comprehenshion"
   ]
  },
  {
   "cell_type": "code",
   "execution_count": 101,
   "id": "374288d3",
   "metadata": {},
   "outputs": [
    {
     "data": {
      "text/plain": [
       "['Hyderabad', 'Delhi', 'Chennai']"
      ]
     },
     "execution_count": 101,
     "metadata": {},
     "output_type": "execute_result"
    }
   ],
   "source": [
    "list1=['Hyderabad','Delhi','Chennai','Blr']\n",
    "city_list=[]\n",
    "for i in list1:\n",
    "    if len(i)>=4:\n",
    "        city_list.append(i)\n",
    "city_list\n",
    "\n",
    "output=[i for i in list1 if len(i)>=4]\n",
    "output"
   ]
  },
  {
   "cell_type": "code",
   "execution_count": null,
   "id": "21bc8bb5",
   "metadata": {},
   "outputs": [],
   "source": [
    "[<output> <for loop> <if condition>]"
   ]
  },
  {
   "cell_type": "code",
   "execution_count": 103,
   "id": "77d652d1",
   "metadata": {},
   "outputs": [
    {
     "data": {
      "text/plain": [
       "['Hyderab#d', 'Chenn#i']"
      ]
     },
     "execution_count": 103,
     "metadata": {},
     "output_type": "execute_result"
    }
   ],
   "source": [
    "list1=['Hyderab#d','Delhi','Chenn#i','Blr']\n",
    "city_list=[]\n",
    "for i in list1:\n",
    "    if '#' in i:\n",
    "        city_list.append(i)\n",
    "city_list\n",
    "\n",
    "output=[i for i in list1 if '#' in i]\n",
    "output"
   ]
  },
  {
   "cell_type": "code",
   "execution_count": 123,
   "id": "ae7e46e2",
   "metadata": {},
   "outputs": [
    {
     "data": {
      "text/plain": [
       "['even: 48',\n",
       " 'even: 48',\n",
       " 'even: 48',\n",
       " 'even: 48',\n",
       " 'even: 48',\n",
       " 'even: 48',\n",
       " 'even: 48',\n",
       " 'even: 48',\n",
       " 'even: 48',\n",
       " 'even: 48']"
      ]
     },
     "execution_count": 123,
     "metadata": {},
     "output_type": "execute_result"
    }
   ],
   "source": [
    "import random\n",
    "even_odd=[]\n",
    "for i in range(10):\n",
    "    n1= random.randint(1,50)\n",
    "    if n1%2==0:\n",
    "        even_odd.append('even: {}'.format(n1))\n",
    "    else:\n",
    "        even_odd.append('odd: {}'.format(n1))\n",
    "even_odd   \n",
    "output=['even: {}'.format(n1) if n1%2==0 else 'odd: {}'.format(n1) for i in range(10)]\n",
    "output"
   ]
  },
  {
   "cell_type": "code",
   "execution_count": 120,
   "id": "8d8176a0",
   "metadata": {},
   "outputs": [
    {
     "name": "stdout",
     "output_type": "stream",
     "text": [
      "nallagoni\n",
      "pasha\n",
      "kadam\n"
     ]
    },
    {
     "data": {
      "text/plain": [
       "['nallagoni', 'pasha', 'kadam']"
      ]
     },
     "execution_count": 120,
     "metadata": {},
     "output_type": "execute_result"
    }
   ],
   "source": [
    "list1=['omkar.nallagoni@gmail.com',\n",
    "       'kareem.pasha@gamil.com',\n",
    "       'sathosh.kadam@gmail.com']\n",
    "for i in list1:\n",
    "    print(i[i.index('.')+1:i.find('@')])\n",
    "    \n",
    "output=[i[i.index('.')+1:i.find('@')] for i in list1]\n",
    "output"
   ]
  },
  {
   "cell_type": "code",
   "execution_count": 124,
   "id": "711ca6c8",
   "metadata": {},
   "outputs": [
    {
     "data": {
      "text/plain": [
       "['even: 46',\n",
       " 'odd: 19',\n",
       " 'even: 8',\n",
       " 'odd: 25',\n",
       " 'even: 40',\n",
       " 'odd: 3',\n",
       " 'even: 44',\n",
       " 'even: 2',\n",
       " 'odd: 49',\n",
       " 'odd: 25']"
      ]
     },
     "execution_count": 124,
     "metadata": {},
     "output_type": "execute_result"
    }
   ],
   "source": [
    "import random\n",
    "even_odd=[]\n",
    "for i in range(10):\n",
    "    n1= random.randint(1,50)\n",
    "    if n1%2==0:\n",
    "        even_odd.append('even: {}'.format(n1))\n",
    "    else:\n",
    "        even_odd.append('odd: {}'.format(n1))\n",
    "even_odd  "
   ]
  },
  {
   "cell_type": "code",
   "execution_count": null,
   "id": "4a872dc2",
   "metadata": {},
   "outputs": [],
   "source": [
    "[<out put]"
   ]
  },
  {
   "cell_type": "code",
   "execution_count": null,
   "id": "9f57b66b",
   "metadata": {},
   "outputs": [],
   "source": []
  },
  {
   "cell_type": "code",
   "execution_count": null,
   "id": "408b7070",
   "metadata": {},
   "outputs": [],
   "source": []
  }
 ],
 "metadata": {
  "kernelspec": {
   "display_name": "Python 3 (ipykernel)",
   "language": "python",
   "name": "python3"
  },
  "language_info": {
   "codemirror_mode": {
    "name": "ipython",
    "version": 3
   },
   "file_extension": ".py",
   "mimetype": "text/x-python",
   "name": "python",
   "nbconvert_exporter": "python",
   "pygments_lexer": "ipython3",
   "version": "3.11.5"
  }
 },
 "nbformat": 4,
 "nbformat_minor": 5
}
