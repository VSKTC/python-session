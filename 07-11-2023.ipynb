{
 "cells": [
  {
   "cell_type": "code",
   "execution_count": 12,
   "id": "6c601836",
   "metadata": {},
   "outputs": [
    {
     "data": {
      "text/plain": [
       "'omkar'"
      ]
     },
     "execution_count": 12,
     "metadata": {},
     "output_type": "execute_result"
    }
   ],
   "source": [
    "sent1='rashaad.omkar@gmail.com'\n",
    "#extract only: omkar\n",
    "sent2='mobin.sourav@gamil.com'\n",
    "sent1.replace('rashaad.','').replace('@gmail.com','')"
   ]
  },
  {
   "cell_type": "code",
   "execution_count": 8,
   "id": "d3b6f75f",
   "metadata": {},
   "outputs": [
    {
     "data": {
      "text/plain": [
       "'omkar'"
      ]
     },
     "execution_count": 8,
     "metadata": {},
     "output_type": "execute_result"
    }
   ],
   "source": [
    "sent1[sent1.find('.')+1:sent1.find('@')]"
   ]
  },
  {
   "cell_type": "code",
   "execution_count": 10,
   "id": "a9dc5725",
   "metadata": {},
   "outputs": [
    {
     "data": {
      "text/plain": [
       "'omkar'"
      ]
     },
     "execution_count": 10,
     "metadata": {},
     "output_type": "execute_result"
    }
   ],
   "source": [
    "sent1[sent1.index('.')+1:sent1.find('@')]"
   ]
  },
  {
   "cell_type": "code",
   "execution_count": 13,
   "id": "2043d784",
   "metadata": {},
   "outputs": [
    {
     "data": {
      "text/plain": [
       "'sourav'"
      ]
     },
     "execution_count": 13,
     "metadata": {},
     "output_type": "execute_result"
    }
   ],
   "source": [
    "sent2[sent2.find('.')+1:sent2.find('@')]"
   ]
  },
  {
   "cell_type": "code",
   "execution_count": 18,
   "id": "e0af20c5",
   "metadata": {},
   "outputs": [
    {
     "data": {
      "text/plain": [
       "'nareshit'"
      ]
     },
     "execution_count": 18,
     "metadata": {},
     "output_type": "execute_result"
    }
   ],
   "source": [
    "sent2='mobin.sourovsahoo@nareshit.ac.in'\n",
    "index1=sent2.index('@')\n",
    "f_o_i=sent2.index('.')\n",
    "s_o_i=sent2.index('.',f_o_i+1)\n",
    "sent2[index1+1:s_o_i]"
   ]
  },
  {
   "cell_type": "markdown",
   "id": "a0e9b27b",
   "metadata": {},
   "source": [
    "-if you want to remove spaces we need to use \n",
    "# strip- lstrip -rstrip"
   ]
  },
  {
   "cell_type": "code",
   "execution_count": 19,
   "id": "62ae11ba",
   "metadata": {},
   "outputs": [],
   "source": [
    "string1=' hai how are you ' # strip\n",
    "string2='hai how are you '  #strip/rstrip\n",
    "string3=' hai how are you'  #strip/lstrip"
   ]
  },
  {
   "cell_type": "code",
   "execution_count": 20,
   "id": "ca48119c",
   "metadata": {},
   "outputs": [
    {
     "data": {
      "text/plain": [
       "'hai how are you'"
      ]
     },
     "execution_count": 20,
     "metadata": {},
     "output_type": "execute_result"
    }
   ],
   "source": [
    "string1.strip()"
   ]
  },
  {
   "cell_type": "code",
   "execution_count": 22,
   "id": "85d0865d",
   "metadata": {},
   "outputs": [],
   "source": [
    "#left strip"
   ]
  },
  {
   "cell_type": "code",
   "execution_count": 21,
   "id": "2cebc4e6",
   "metadata": {},
   "outputs": [
    {
     "data": {
      "text/plain": [
       "('hai how are you', 'hai how are you ')"
      ]
     },
     "execution_count": 21,
     "metadata": {},
     "output_type": "execute_result"
    }
   ],
   "source": [
    "string1.strip(),string1.lstrip()"
   ]
  },
  {
   "cell_type": "code",
   "execution_count": null,
   "id": "72b38016",
   "metadata": {},
   "outputs": [],
   "source": [
    "#right strip"
   ]
  },
  {
   "cell_type": "code",
   "execution_count": 23,
   "id": "03fe52e8",
   "metadata": {},
   "outputs": [
    {
     "data": {
      "text/plain": [
       "('hai how are you', ' hai how are you')"
      ]
     },
     "execution_count": 23,
     "metadata": {},
     "output_type": "execute_result"
    }
   ],
   "source": [
    "string1.strip(),string1.rstrip()"
   ]
  },
  {
   "cell_type": "code",
   "execution_count": 26,
   "id": "219734d9",
   "metadata": {},
   "outputs": [
    {
     "name": "stdout",
     "output_type": "stream",
     "text": [
      "hello\n",
      "hello&&&&&&&&&&&&&&\n",
      "&&&&hello\n"
     ]
    }
   ],
   "source": [
    "string1='&&&&hello&&&&&&&&&&&&&&'\n",
    "print(string1.strip('&'))\n",
    "print(string1.lstrip('&'))\n",
    "print(string1.rstrip('&'))"
   ]
  },
  {
   "cell_type": "code",
   "execution_count": 29,
   "id": "682dfbdc",
   "metadata": {},
   "outputs": [
    {
     "name": "stdout",
     "output_type": "stream",
     "text": [
      "&&&&hello\n"
     ]
    }
   ],
   "source": [
    "string1='&&&&hello#########'\n",
    "print(string1.strip('#'))"
   ]
  },
  {
   "cell_type": "markdown",
   "id": "491c1b7f",
   "metadata": {},
   "source": [
    "# startswith"
   ]
  },
  {
   "cell_type": "code",
   "execution_count": 32,
   "id": "4715ba50",
   "metadata": {},
   "outputs": [
    {
     "data": {
      "text/plain": [
       "True"
      ]
     },
     "execution_count": 32,
     "metadata": {},
     "output_type": "execute_result"
    }
   ],
   "source": [
    "string1='hai how are you'\n",
    "string1.startswith('hai')"
   ]
  },
  {
   "cell_type": "code",
   "execution_count": 40,
   "id": "c404aef4",
   "metadata": {},
   "outputs": [
    {
     "name": "stdout",
     "output_type": "stream",
     "text": [
      "True\n",
      "True\n"
     ]
    }
   ],
   "source": [
    "string1='pasha,hai how are you'\n",
    "print(string1.startswith(string1))\n",
    "print(string1.endswith(string1))"
   ]
  },
  {
   "cell_type": "markdown",
   "id": "c5ab2571",
   "metadata": {},
   "source": [
    "# all are methods\n",
    "- capitalize/casfold/upper/lower\n",
    "- index/find\n",
    "- strip/rstrip/lstrip\n",
    "- startswith/endswith\n",
    "- count\n",
    "- replace\n",
    "- split\n"
   ]
  },
  {
   "cell_type": "code",
   "execution_count": 44,
   "id": "9ef810ee",
   "metadata": {},
   "outputs": [
    {
     "data": {
      "text/plain": [
       "['__add__',\n",
       " '__class__',\n",
       " '__contains__',\n",
       " '__delattr__',\n",
       " '__dir__',\n",
       " '__doc__',\n",
       " '__eq__',\n",
       " '__format__',\n",
       " '__ge__',\n",
       " '__getattribute__',\n",
       " '__getitem__',\n",
       " '__getnewargs__',\n",
       " '__getstate__',\n",
       " '__gt__',\n",
       " '__hash__',\n",
       " '__init__',\n",
       " '__init_subclass__',\n",
       " '__iter__',\n",
       " '__le__',\n",
       " '__len__',\n",
       " '__lt__',\n",
       " '__mod__',\n",
       " '__mul__',\n",
       " '__ne__',\n",
       " '__new__',\n",
       " '__reduce__',\n",
       " '__reduce_ex__',\n",
       " '__repr__',\n",
       " '__rmod__',\n",
       " '__rmul__',\n",
       " '__setattr__',\n",
       " '__sizeof__',\n",
       " '__str__',\n",
       " '__subclasshook__',\n",
       " 'capitalize',\n",
       " 'casefold',\n",
       " 'center',\n",
       " 'count',\n",
       " 'encode',\n",
       " 'endswith',\n",
       " 'expandtabs',\n",
       " 'find',\n",
       " 'format',\n",
       " 'format_map',\n",
       " 'index',\n",
       " 'isalnum',\n",
       " 'isalpha',\n",
       " 'isascii',\n",
       " 'isdecimal',\n",
       " 'isdigit',\n",
       " 'isidentifier',\n",
       " 'islower',\n",
       " 'isnumeric',\n",
       " 'isprintable',\n",
       " 'isspace',\n",
       " 'istitle',\n",
       " 'isupper',\n",
       " 'join',\n",
       " 'ljust',\n",
       " 'lower',\n",
       " 'lstrip',\n",
       " 'maketrans',\n",
       " 'partition',\n",
       " 'removeprefix',\n",
       " 'removesuffix',\n",
       " 'replace',\n",
       " 'rfind',\n",
       " 'rindex',\n",
       " 'rjust',\n",
       " 'rpartition',\n",
       " 'rsplit',\n",
       " 'rstrip',\n",
       " 'split',\n",
       " 'splitlines',\n",
       " 'startswith',\n",
       " 'strip',\n",
       " 'swapcase',\n",
       " 'title',\n",
       " 'translate',\n",
       " 'upper',\n",
       " 'zfill']"
      ]
     },
     "execution_count": 44,
     "metadata": {},
     "output_type": "execute_result"
    }
   ],
   "source": [
    "dir('')"
   ]
  },
  {
   "cell_type": "code",
   "execution_count": 49,
   "id": "3feb6cfb",
   "metadata": {},
   "outputs": [
    {
     "data": {
      "text/plain": [
       "(False, True)"
      ]
     },
     "execution_count": 49,
     "metadata": {},
     "output_type": "execute_result"
    }
   ],
   "source": [
    "n1='1234'\n",
    "n1.isalpha(),n1.isnumeric()"
   ]
  },
  {
   "cell_type": "code",
   "execution_count": 50,
   "id": "b16ad6bb",
   "metadata": {},
   "outputs": [
    {
     "data": {
      "text/plain": [
       "(True, False)"
      ]
     },
     "execution_count": 50,
     "metadata": {},
     "output_type": "execute_result"
    }
   ],
   "source": [
    "n1='python1234'\n",
    "n1.isalnum(),n1.isnumeric()"
   ]
  },
  {
   "cell_type": "code",
   "execution_count": 56,
   "id": "520d9dc2",
   "metadata": {},
   "outputs": [
    {
     "data": {
      "text/plain": [
       "(False, False, False)"
      ]
     },
     "execution_count": 56,
     "metadata": {},
     "output_type": "execute_result"
    }
   ],
   "source": [
    "n1='10.6'\n",
    "n1.isalnum(),n1.isnumeric(),n1.isdecimal()"
   ]
  },
  {
   "cell_type": "code",
   "execution_count": null,
   "id": "1d4425ed",
   "metadata": {},
   "outputs": [],
   "source": [
    "# any method available to check the float value using string method\n"
   ]
  },
  {
   "cell_type": "code",
   "execution_count": 61,
   "id": "b52398b4",
   "metadata": {},
   "outputs": [
    {
     "data": {
      "text/plain": [
       "False"
      ]
     },
     "execution_count": 61,
     "metadata": {},
     "output_type": "execute_result"
    }
   ],
   "source": [
    "name='ram '\n",
    "name.isalnum()"
   ]
  },
  {
   "cell_type": "code",
   "execution_count": 62,
   "id": "95fd2b1d",
   "metadata": {},
   "outputs": [
    {
     "data": {
      "text/plain": [
       "True"
      ]
     },
     "execution_count": 62,
     "metadata": {},
     "output_type": "execute_result"
    }
   ],
   "source": [
    "# if method will not work direct way\n",
    "# then we do modifity the string\n",
    "string1='banking     '\n",
    "string1.strip().isalnum()"
   ]
  },
  {
   "cell_type": "code",
   "execution_count": null,
   "id": "127200e0",
   "metadata": {},
   "outputs": [],
   "source": [
    "-Q1 in a given sentence \n",
    "# what is the most repeated word\n",
    "-Q2 what is the max lenght of the string\n",
    "# what is the min length of the string"
   ]
  },
  {
   "cell_type": "code",
   "execution_count": null,
   "id": "77a7eb34",
   "metadata": {},
   "outputs": [],
   "source": [
    "# hello python"
   ]
  },
  {
   "cell_type": "code",
   "execution_count": null,
   "id": "4a3b1db2",
   "metadata": {},
   "outputs": [],
   "source": [
    "-Q3 string1='hyd' string2='chennai' string3='mumbai'\n",
    "# interms of ascii value"
   ]
  },
  {
   "cell_type": "code",
   "execution_count": null,
   "id": "902f2d45",
   "metadata": {},
   "outputs": [],
   "source": []
  },
  {
   "cell_type": "code",
   "execution_count": null,
   "id": "92846a9b",
   "metadata": {},
   "outputs": [],
   "source": []
  },
  {
   "cell_type": "code",
   "execution_count": null,
   "id": "5e9c67f9",
   "metadata": {},
   "outputs": [],
   "source": []
  },
  {
   "cell_type": "code",
   "execution_count": null,
   "id": "46b31c21",
   "metadata": {},
   "outputs": [],
   "source": []
  }
 ],
 "metadata": {
  "kernelspec": {
   "display_name": "Python 3 (ipykernel)",
   "language": "python",
   "name": "python3"
  },
  "language_info": {
   "codemirror_mode": {
    "name": "ipython",
    "version": 3
   },
   "file_extension": ".py",
   "mimetype": "text/x-python",
   "name": "python",
   "nbconvert_exporter": "python",
   "pygments_lexer": "ipython3",
   "version": "3.11.5"
  }
 },
 "nbformat": 4,
 "nbformat_minor": 5
}
