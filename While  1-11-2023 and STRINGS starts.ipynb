{
 "cells": [
  {
   "cell_type": "code",
   "execution_count": null,
   "id": "b782a032",
   "metadata": {},
   "outputs": [],
   "source": [
    "# wap ask the user enter a password\n",
    "# if the pasword=='python':\n",
    "# print('you are in')\n",
    "# you need to provide 3 chances\n",
    "# if he success 1 time , the loop should stop\n",
    "# if he fails:\n",
    "#         print(\"How many choics are left\")\n",
    "#         enter pass word\n"
   ]
  },
  {
   "cell_type": "code",
   "execution_count": 8,
   "id": "2cfd8ac2",
   "metadata": {},
   "outputs": [
    {
     "name": "stdout",
     "output_type": "stream",
     "text": [
      "enter password:3\n",
      "The passord is wrong\n",
      "enter password:2\n",
      "The passord is wrong\n",
      "enter password:python\n",
      "you won\n"
     ]
    }
   ],
   "source": [
    "i=0\n",
    "password='python'\n",
    "while i<3:\n",
    "    user_pwd=input(\"enter password:\")\n",
    "    if password==user_pwd:\n",
    "        print('you won')\n",
    "        break\n",
    "    else:\n",
    "        print('The passord is wrong')\n",
    "    i=i+1"
   ]
  },
  {
   "cell_type": "code",
   "execution_count": 23,
   "id": "fd9493b1",
   "metadata": {},
   "outputs": [
    {
     "name": "stdout",
     "output_type": "stream",
     "text": [
      "Enter chances :2\n",
      "enter password:pjhgv\n",
      "The passord is wrong\n",
      "Only 1 chances left\n",
      "enter password:hg\n",
      "The passord is wrong\n",
      "Only 0 chances left\n"
     ]
    }
   ],
   "source": [
    "i=0\n",
    "password='python'\n",
    "chance=eval(input(\"Enter chances :\"))\n",
    "while i<chance:\n",
    "    user_pwd=input(\"enter password:\")\n",
    "    if password==user_pwd:\n",
    "        print('you won')\n",
    "        break\n",
    "    else:\n",
    "        print('The passord is wrong')\n",
    "        print('Only {} chances left'.format(chance-i-1))\n",
    "    i=i+1"
   ]
  },
  {
   "cell_type": "code",
   "execution_count": 35,
   "id": "70a02ef2",
   "metadata": {},
   "outputs": [
    {
     "name": "stdout",
     "output_type": "stream",
     "text": [
      "Enter the number:2\n",
      "You enter a wrong number\n",
      "Enter the number:1\n",
      "You enter a wrong number\n",
      "Enter the number:3\n",
      "you won\n",
      "the game in 3 chances\n",
      "time taken is: 3.415001153945923\n"
     ]
    }
   ],
   "source": [
    "import time\n",
    "import random\n",
    "start=time.time()\n",
    "i=0\n",
    "r_n=random.randint(1,10)\n",
    "while True:\n",
    "    u_n=eval(input(\"Enter the number:\"))\n",
    "    if r_n==u_n:\n",
    "        print('you won')\n",
    "        print('the game in {} chances'.format(i+1))\n",
    "        break\n",
    "    else:\n",
    "        print('You enter a wrong number')\n",
    "    i=i+1\n",
    "end=time.time()\n",
    "print(\"time taken is:\",end-start)"
   ]
  },
  {
   "cell_type": "code",
   "execution_count": 36,
   "id": "130eaa27",
   "metadata": {},
   "outputs": [
    {
     "data": {
      "text/plain": [
       "0j"
      ]
     },
     "execution_count": 36,
     "metadata": {},
     "output_type": "execute_result"
    }
   ],
   "source": [
    "complex()\n",
    "#SHIFT +TAB (to display the units)"
   ]
  },
  {
   "cell_type": "code",
   "execution_count": null,
   "id": "27683d83",
   "metadata": {},
   "outputs": [],
   "source": [
    "#============Python Part-1===========\n",
    "syntax\n",
    "basics\n",
    "conditional : if else\n",
    "function \n",
    "loops: For / while\n",
    "# ==============Part-2=============\n",
    "-strings\n",
    "-list\n",
    "dic\n",
    "tuple\n",
    "sets\n",
    "file handling\n",
    "#=================================="
   ]
  },
  {
   "cell_type": "markdown",
   "id": "5d81e712",
   "metadata": {},
   "source": [
    "# strings"
   ]
  },
  {
   "cell_type": "code",
   "execution_count": 39,
   "id": "7156f7ff",
   "metadata": {},
   "outputs": [
    {
     "data": {
      "text/plain": [
       "str"
      ]
     },
     "execution_count": 39,
     "metadata": {},
     "output_type": "execute_result"
    }
   ],
   "source": [
    "name='python'\n",
    "type(name)"
   ]
  },
  {
   "cell_type": "code",
   "execution_count": 40,
   "id": "fdeb0e7d",
   "metadata": {},
   "outputs": [
    {
     "data": {
      "text/plain": [
       "'python'"
      ]
     },
     "execution_count": 40,
     "metadata": {},
     "output_type": "execute_result"
    }
   ],
   "source": [
    "name"
   ]
  },
  {
   "cell_type": "code",
   "execution_count": 42,
   "id": "b5ff2033",
   "metadata": {},
   "outputs": [
    {
     "data": {
      "text/plain": [
       "'python'"
      ]
     },
     "execution_count": 42,
     "metadata": {},
     "output_type": "execute_result"
    }
   ],
   "source": [
    "name='python'\n",
    "name"
   ]
  },
  {
   "cell_type": "code",
   "execution_count": 41,
   "id": "ffcac2e7",
   "metadata": {},
   "outputs": [
    {
     "name": "stdout",
     "output_type": "stream",
     "text": [
      "python\n"
     ]
    }
   ],
   "source": [
    "print(name)"
   ]
  },
  {
   "cell_type": "code",
   "execution_count": 46,
   "id": "828cbdb1",
   "metadata": {},
   "outputs": [],
   "source": [
    "# doc strind: triple qutoes \n",
    "string=\"\"\"Hai how are you\n",
    "   i'm fine\n",
    "   i'm learning python\"\"\""
   ]
  },
  {
   "cell_type": "markdown",
   "id": "ffc6bd59",
   "metadata": {},
   "source": [
    "### triple quotes is doc string"
   ]
  },
  {
   "cell_type": "code",
   "execution_count": 47,
   "id": "f310dd76",
   "metadata": {},
   "outputs": [
    {
     "data": {
      "text/plain": [
       "\"Hai how are you\\n   i'm fine\\n   i'm learning python\""
      ]
     },
     "execution_count": 47,
     "metadata": {},
     "output_type": "execute_result"
    }
   ],
   "source": [
    "string"
   ]
  },
  {
   "cell_type": "code",
   "execution_count": 48,
   "id": "1ca59152",
   "metadata": {},
   "outputs": [
    {
     "name": "stdout",
     "output_type": "stream",
     "text": [
      "hello'python'\n"
     ]
    }
   ],
   "source": [
    "print(\"hello'python'\")"
   ]
  },
  {
   "cell_type": "code",
   "execution_count": 49,
   "id": "acaf5d40",
   "metadata": {},
   "outputs": [
    {
     "name": "stdout",
     "output_type": "stream",
     "text": [
      "hello\"python\"\n"
     ]
    }
   ],
   "source": [
    "print('hello\"python\"')"
   ]
  },
  {
   "cell_type": "code",
   "execution_count": null,
   "id": "3c7679da",
   "metadata": {},
   "outputs": [],
   "source": [
    "vise versa"
   ]
  },
  {
   "cell_type": "markdown",
   "id": "2358d327",
   "metadata": {},
   "source": [
    "- type\n",
    "\n",
    "- len\n",
    "\n",
    "- min\n",
    "\n",
    "- max"
   ]
  },
  {
   "cell_type": "code",
   "execution_count": 50,
   "id": "babe752c",
   "metadata": {},
   "outputs": [
    {
     "data": {
      "text/plain": [
       "str"
      ]
     },
     "execution_count": 50,
     "metadata": {},
     "output_type": "execute_result"
    }
   ],
   "source": [
    "string1='python'\n",
    "type(string1)\n"
   ]
  },
  {
   "cell_type": "code",
   "execution_count": 53,
   "id": "b0c88201",
   "metadata": {},
   "outputs": [
    {
     "data": {
      "text/plain": [
       "6"
      ]
     },
     "execution_count": 53,
     "metadata": {},
     "output_type": "execute_result"
    }
   ],
   "source": [
    "len(string1)"
   ]
  },
  {
   "cell_type": "code",
   "execution_count": 55,
   "id": "bd4ea52d",
   "metadata": {},
   "outputs": [
    {
     "data": {
      "text/plain": [
       "'y'"
      ]
     },
     "execution_count": 55,
     "metadata": {},
     "output_type": "execute_result"
    }
   ],
   "source": [
    "max(string1)"
   ]
  },
  {
   "cell_type": "code",
   "execution_count": 56,
   "id": "63fa49db",
   "metadata": {},
   "outputs": [
    {
     "data": {
      "text/plain": [
       "'h'"
      ]
     },
     "execution_count": 56,
     "metadata": {},
     "output_type": "execute_result"
    }
   ],
   "source": [
    "min(string1)"
   ]
  },
  {
   "cell_type": "markdown",
   "id": "b6fe80ca",
   "metadata": {},
   "source": [
    "- in operator"
   ]
  },
  {
   "cell_type": "code",
   "execution_count": 64,
   "id": "e5b72f27",
   "metadata": {},
   "outputs": [
    {
     "name": "stdout",
     "output_type": "stream",
     "text": [
      "p ---> 112\n",
      "y ---> 121\n",
      "t ---> 116\n",
      "h ---> 104\n",
      "o ---> 111\n",
      "n ---> 110\n"
     ]
    }
   ],
   "source": [
    "for i in string1:\n",
    "    print(i,'--->',ord(i))"
   ]
  },
  {
   "cell_type": "code",
   "execution_count": 67,
   "id": "2e70d0a3",
   "metadata": {},
   "outputs": [
    {
     "data": {
      "text/plain": [
       "20"
      ]
     },
     "execution_count": 67,
     "metadata": {},
     "output_type": "execute_result"
    }
   ],
   "source": [
    "min([20,30,40])"
   ]
  },
  {
   "cell_type": "code",
   "execution_count": 68,
   "id": "00744671",
   "metadata": {},
   "outputs": [
    {
     "data": {
      "text/plain": [
       "3"
      ]
     },
     "execution_count": 68,
     "metadata": {},
     "output_type": "execute_result"
    }
   ],
   "source": [
    "len([20,30,40])"
   ]
  },
  {
   "cell_type": "code",
   "execution_count": null,
   "id": "b07293d8",
   "metadata": {},
   "outputs": [],
   "source": [
    "-type\n",
    "-max\n",
    "-min\n",
    "-len\n",
    "-in"
   ]
  },
  {
   "cell_type": "code",
   "execution_count": 69,
   "id": "c3dd092b",
   "metadata": {},
   "outputs": [],
   "source": [
    "string1='hi'\n",
    "string2='python'\n"
   ]
  },
  {
   "cell_type": "markdown",
   "id": "f497a12b",
   "metadata": {},
   "source": [
    " - string concatination"
   ]
  },
  {
   "cell_type": "code",
   "execution_count": 71,
   "id": "2f3e1fbd",
   "metadata": {},
   "outputs": [
    {
     "data": {
      "text/plain": [
       "'hipython'"
      ]
     },
     "execution_count": 71,
     "metadata": {},
     "output_type": "execute_result"
    }
   ],
   "source": [
    "string1+string2\n"
   ]
  },
  {
   "cell_type": "code",
   "execution_count": 73,
   "id": "bd6edc6b",
   "metadata": {},
   "outputs": [
    {
     "ename": "TypeError",
     "evalue": "can't multiply sequence by non-int of type 'str'",
     "output_type": "error",
     "traceback": [
      "\u001b[1;31m---------------------------------------------------------------------------\u001b[0m",
      "\u001b[1;31mTypeError\u001b[0m                                 Traceback (most recent call last)",
      "Cell \u001b[1;32mIn[73], line 1\u001b[0m\n\u001b[1;32m----> 1\u001b[0m string1\u001b[38;5;241m*\u001b[39mstring2\n",
      "\u001b[1;31mTypeError\u001b[0m: can't multiply sequence by non-int of type 'str'"
     ]
    }
   ],
   "source": [
    "string1*string2\n"
   ]
  },
  {
   "cell_type": "code",
   "execution_count": 77,
   "id": "985ad266",
   "metadata": {},
   "outputs": [
    {
     "data": {
      "text/plain": [
       "'pythonpythonpython'"
      ]
     },
     "execution_count": 77,
     "metadata": {},
     "output_type": "execute_result"
    }
   ],
   "source": [
    "3*string2"
   ]
  },
  {
   "cell_type": "code",
   "execution_count": 72,
   "id": "d3a49346",
   "metadata": {},
   "outputs": [
    {
     "ename": "TypeError",
     "evalue": "unsupported operand type(s) for -: 'str' and 'str'",
     "output_type": "error",
     "traceback": [
      "\u001b[1;31m---------------------------------------------------------------------------\u001b[0m",
      "\u001b[1;31mTypeError\u001b[0m                                 Traceback (most recent call last)",
      "Cell \u001b[1;32mIn[72], line 1\u001b[0m\n\u001b[1;32m----> 1\u001b[0m string1\u001b[38;5;241m-\u001b[39mstring2\n",
      "\u001b[1;31mTypeError\u001b[0m: unsupported operand type(s) for -: 'str' and 'str'"
     ]
    }
   ],
   "source": [
    "string1-string2  "
   ]
  },
  {
   "cell_type": "code",
   "execution_count": 74,
   "id": "5f222648",
   "metadata": {},
   "outputs": [
    {
     "ename": "TypeError",
     "evalue": "unsupported operand type(s) for /: 'str' and 'str'",
     "output_type": "error",
     "traceback": [
      "\u001b[1;31m---------------------------------------------------------------------------\u001b[0m",
      "\u001b[1;31mTypeError\u001b[0m                                 Traceback (most recent call last)",
      "Cell \u001b[1;32mIn[74], line 1\u001b[0m\n\u001b[1;32m----> 1\u001b[0m string1\u001b[38;5;241m/\u001b[39mstring2\n",
      "\u001b[1;31mTypeError\u001b[0m: unsupported operand type(s) for /: 'str' and 'str'"
     ]
    }
   ],
   "source": [
    "string1/string2"
   ]
  },
  {
   "cell_type": "code",
   "execution_count": null,
   "id": "4e88a0e6",
   "metadata": {},
   "outputs": [],
   "source": []
  },
  {
   "cell_type": "code",
   "execution_count": null,
   "id": "21159d51",
   "metadata": {},
   "outputs": [],
   "source": []
  },
  {
   "cell_type": "code",
   "execution_count": null,
   "id": "79b0de5f",
   "metadata": {},
   "outputs": [],
   "source": []
  }
 ],
 "metadata": {
  "kernelspec": {
   "display_name": "Python 3 (ipykernel)",
   "language": "python",
   "name": "python3"
  },
  "language_info": {
   "codemirror_mode": {
    "name": "ipython",
    "version": 3
   },
   "file_extension": ".py",
   "mimetype": "text/x-python",
   "name": "python",
   "nbconvert_exporter": "python",
   "pygments_lexer": "ipython3",
   "version": "3.11.5"
  }
 },
 "nbformat": 4,
 "nbformat_minor": 5
}
