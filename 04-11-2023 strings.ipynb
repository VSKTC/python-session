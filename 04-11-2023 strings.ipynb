{
 "cells": [
  {
   "cell_type": "code",
   "execution_count": 1,
   "id": "953d4d5b",
   "metadata": {},
   "outputs": [],
   "source": [
    "string1='HAI HAI hai hai'\n",
    "#capital is capital only\n",
    "# small is small only"
   ]
  },
  {
   "cell_type": "code",
   "execution_count": 2,
   "id": "ee62350d",
   "metadata": {},
   "outputs": [
    {
     "data": {
      "text/plain": [
       "2"
      ]
     },
     "execution_count": 2,
     "metadata": {},
     "output_type": "execute_result"
    }
   ],
   "source": [
    "string1.count('H')"
   ]
  },
  {
   "cell_type": "code",
   "execution_count": 3,
   "id": "2885f788",
   "metadata": {},
   "outputs": [
    {
     "data": {
      "text/plain": [
       "2"
      ]
     },
     "execution_count": 3,
     "metadata": {},
     "output_type": "execute_result"
    }
   ],
   "source": [
    "string1.count('h')"
   ]
  },
  {
   "cell_type": "code",
   "execution_count": 8,
   "id": "c80ddd57",
   "metadata": {},
   "outputs": [
    {
     "name": "stdout",
     "output_type": "stream",
     "text": [
      "hai hai hai hai\n"
     ]
    },
    {
     "data": {
      "text/plain": [
       "4"
      ]
     },
     "execution_count": 8,
     "metadata": {},
     "output_type": "execute_result"
    }
   ],
   "source": [
    "string1='HAI HAI hai hai'\n",
    "string2=string1.lower()\n",
    "print(string2)\n",
    "string2.count('h')"
   ]
  },
  {
   "cell_type": "code",
   "execution_count": 10,
   "id": "4f04bb6b",
   "metadata": {},
   "outputs": [
    {
     "data": {
      "text/plain": [
       "4"
      ]
     },
     "execution_count": 10,
     "metadata": {},
     "output_type": "execute_result"
    }
   ],
   "source": [
    "string1.lower().count('h')"
   ]
  },
  {
   "cell_type": "code",
   "execution_count": 15,
   "id": "8242f109",
   "metadata": {},
   "outputs": [
    {
     "name": "stdout",
     "output_type": "stream",
     "text": [
      "4\n"
     ]
    }
   ],
   "source": [
    "string1='HAI HAI hai hai'\n",
    "count=0\n",
    "for i in string1:\n",
    "    if i=='H' or i=='h':\n",
    "        count+=1\n",
    "print(count)"
   ]
  },
  {
   "cell_type": "code",
   "execution_count": 16,
   "id": "4f8df91b",
   "metadata": {},
   "outputs": [
    {
     "name": "stdout",
     "output_type": "stream",
     "text": [
      "4\n"
     ]
    }
   ],
   "source": [
    "string1='HAI HAI hai hai'\n",
    "count=0\n",
    "for i in string1.lower():\n",
    "    if i=='h':\n",
    "        count+=1\n",
    "print(count)"
   ]
  },
  {
   "cell_type": "code",
   "execution_count": 18,
   "id": "9cba62d0",
   "metadata": {},
   "outputs": [
    {
     "name": "stdout",
     "output_type": "stream",
     "text": [
      "4\n"
     ]
    }
   ],
   "source": [
    "string1='HAI HAI hai hai'\n",
    "count=0\n",
    "for i in string1:\n",
    "    if i.lower() =='h':\n",
    "        count+=1\n",
    "        \n",
    "print(count)"
   ]
  },
  {
   "cell_type": "code",
   "execution_count": 20,
   "id": "96329d1f",
   "metadata": {},
   "outputs": [
    {
     "name": "stdout",
     "output_type": "stream",
     "text": [
      "4\n"
     ]
    }
   ],
   "source": [
    "string1='HAI HAI hai hai'\n",
    "count=0\n",
    "for i in range(len(string1)):\n",
    "    if string1[i].lower() =='h':\n",
    "        count+=1\n",
    "        \n",
    "print(count)"
   ]
  },
  {
   "cell_type": "code",
   "execution_count": 24,
   "id": "799c546a",
   "metadata": {},
   "outputs": [
    {
     "name": "stdout",
     "output_type": "stream",
     "text": [
      "4\n",
      "4\n",
      "0\n",
      "3\n"
     ]
    }
   ],
   "source": [
    "string2='ola ola ola ola'\n",
    "print(string2.count('ola'))\n",
    "print(string2.count('o'))\n",
    "print(string2.count('oa'))\n",
    "print(string2.count('ola '))"
   ]
  },
  {
   "cell_type": "code",
   "execution_count": 26,
   "id": "208f0f27",
   "metadata": {},
   "outputs": [
    {
     "data": {
      "text/plain": [
       "3"
      ]
     },
     "execution_count": 26,
     "metadata": {},
     "output_type": "execute_result"
    }
   ],
   "source": [
    "string2.count('a',4)\n",
    "# string.count(<char>,start_index)"
   ]
  },
  {
   "cell_type": "code",
   "execution_count": 37,
   "id": "7cc0faa7",
   "metadata": {},
   "outputs": [
    {
     "name": "stdout",
     "output_type": "stream",
     "text": [
      "3\n"
     ]
    }
   ],
   "source": [
    "count=0\n",
    "string2='ola ola ola ola'\n",
    "for i in range(len(string2)):\n",
    "    if i>=4:\n",
    "        if string2[i]=='o':\n",
    "            count+=1\n",
    "print(count)"
   ]
  },
  {
   "cell_type": "code",
   "execution_count": 41,
   "id": "93e7b082",
   "metadata": {},
   "outputs": [
    {
     "name": "stdout",
     "output_type": "stream",
     "text": [
      "3\n"
     ]
    }
   ],
   "source": [
    "count=0\n",
    "string2='ola ola ola ola'\n",
    "for i in range(len(string2)-2):\n",
    "    if i>=4:\n",
    "        if string2[i]+string2[i+1]+string2[i+2]=='ola':\n",
    "            count+=1\n",
    "print(count)"
   ]
  },
  {
   "cell_type": "code",
   "execution_count": null,
   "id": "270f4754",
   "metadata": {},
   "outputs": [],
   "source": []
  }
 ],
 "metadata": {
  "kernelspec": {
   "display_name": "Python 3 (ipykernel)",
   "language": "python",
   "name": "python3"
  },
  "language_info": {
   "codemirror_mode": {
    "name": "ipython",
    "version": 3
   },
   "file_extension": ".py",
   "mimetype": "text/x-python",
   "name": "python",
   "nbconvert_exporter": "python",
   "pygments_lexer": "ipython3",
   "version": "3.11.5"
  }
 },
 "nbformat": 4,
 "nbformat_minor": 5
}
