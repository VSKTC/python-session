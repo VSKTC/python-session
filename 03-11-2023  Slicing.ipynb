{
 "cells": [
  {
   "cell_type": "markdown",
   "id": "ed561220",
   "metadata": {},
   "source": [
    "$ mutabality-imutabality$"
   ]
  },
  {
   "cell_type": "code",
   "execution_count": 1,
   "id": "f9e40941",
   "metadata": {},
   "outputs": [],
   "source": [
    "string1='python'"
   ]
  },
  {
   "cell_type": "markdown",
   "id": "bfcb518c",
   "metadata": {},
   "source": [
    "- if you change the value by using index valie then it is mutablity\n",
    " - if you not change the value by using index operation is is immutability"
   ]
  },
  {
   "cell_type": "code",
   "execution_count": 3,
   "id": "efa63863",
   "metadata": {},
   "outputs": [
    {
     "ename": "TypeError",
     "evalue": "'str' object does not support item assignment",
     "output_type": "error",
     "traceback": [
      "\u001b[1;31m---------------------------------------------------------------------------\u001b[0m",
      "\u001b[1;31mTypeError\u001b[0m                                 Traceback (most recent call last)",
      "Cell \u001b[1;32mIn[3], line 1\u001b[0m\n\u001b[1;32m----> 1\u001b[0m string1[\u001b[38;5;241m0\u001b[39m]\u001b[38;5;241m=\u001b[39m\u001b[38;5;124m'\u001b[39m\u001b[38;5;124mp\u001b[39m\u001b[38;5;124m'\u001b[39m\n",
      "\u001b[1;31mTypeError\u001b[0m: 'str' object does not support item assignment"
     ]
    }
   ],
   "source": [
    "string1[0]='p'"
   ]
  },
  {
   "cell_type": "markdown",
   "id": "04599661",
   "metadata": {},
   "source": [
    "- strings are immutable"
   ]
  },
  {
   "cell_type": "code",
   "execution_count": 5,
   "id": "d255433e",
   "metadata": {},
   "outputs": [
    {
     "data": {
      "text/plain": [
       "[100, 20, 30]"
      ]
     },
     "execution_count": 5,
     "metadata": {},
     "output_type": "execute_result"
    }
   ],
   "source": [
    "list1=[10,20,30]\n",
    "list1[0]=100\n",
    "list1"
   ]
  },
  {
   "cell_type": "markdown",
   "id": "be5a14e3",
   "metadata": {},
   "source": [
    "# Slicing"
   ]
  },
  {
   "cell_type": "code",
   "execution_count": null,
   "id": "b13118e6",
   "metadata": {},
   "outputs": [],
   "source": [
    "# this concept is same as range() in for loop"
   ]
  },
  {
   "cell_type": "code",
   "execution_count": 26,
   "id": "241bceac",
   "metadata": {},
   "outputs": [
    {
     "data": {
      "text/plain": [
       "'h'"
      ]
     },
     "execution_count": 26,
     "metadata": {},
     "output_type": "execute_result"
    }
   ],
   "source": [
    "string1='hello how are you'\n",
    "string1[0]"
   ]
  },
  {
   "cell_type": "code",
   "execution_count": 11,
   "id": "f4f80bea",
   "metadata": {},
   "outputs": [
    {
     "data": {
      "text/plain": [
       "'llo How '"
      ]
     },
     "execution_count": 11,
     "metadata": {},
     "output_type": "execute_result"
    }
   ],
   "source": [
    "# string[start:stop]\n",
    "string1[2:10]\n",
    "# start=2\n",
    "#stop=10-1=9"
   ]
  },
  {
   "cell_type": "code",
   "execution_count": 12,
   "id": "e970246a",
   "metadata": {},
   "outputs": [
    {
     "data": {
      "text/plain": [
       "'el o r '"
      ]
     },
     "execution_count": 12,
     "metadata": {},
     "output_type": "execute_result"
    }
   ],
   "source": [
    "string1[1:15:2]\n",
    "#start=1\n",
    "#stop=15-1=14\n",
    "#step=2\n",
    "#1 3 5 7 9 11 13\n",
    "#e i   o   r"
   ]
  },
  {
   "cell_type": "code",
   "execution_count": 13,
   "id": "20072e75",
   "metadata": {},
   "outputs": [
    {
     "data": {
      "text/plain": [
       "''"
      ]
     },
     "execution_count": 13,
     "metadata": {},
     "output_type": "execute_result"
    }
   ],
   "source": [
    "string1[1:15:-2]\n",
    "#start=1\n",
    "#stop=15-1=14\n",
    "#step=-2"
   ]
  },
  {
   "cell_type": "code",
   "execution_count": 14,
   "id": "7d7083c3",
   "metadata": {},
   "outputs": [
    {
     "data": {
      "text/plain": [
       "'hello How are you'"
      ]
     },
     "execution_count": 14,
     "metadata": {},
     "output_type": "execute_result"
    }
   ],
   "source": [
    "string1[:]\n",
    "#start=0\n",
    "#stop= Till last charector"
   ]
  },
  {
   "cell_type": "code",
   "execution_count": 15,
   "id": "934cd30d",
   "metadata": {},
   "outputs": [
    {
     "data": {
      "text/plain": [
       "'hello How are you'"
      ]
     },
     "execution_count": 15,
     "metadata": {},
     "output_type": "execute_result"
    }
   ],
   "source": [
    "string1[::]"
   ]
  },
  {
   "cell_type": "code",
   "execution_count": null,
   "id": "accfed2c",
   "metadata": {},
   "outputs": [],
   "source": [
    "#start= 0\n",
    "#stop= Till last charector\n",
    "#step= 1"
   ]
  },
  {
   "cell_type": "code",
   "execution_count": null,
   "id": "94ffd18c",
   "metadata": {},
   "outputs": [],
   "source": [
    "- nothing mention at start position : simply staring of letter\n",
    "- nothing mentioned at stop postion : simply last letter\n",
    "- nothing mentioned at step size : it is +ve dir with step value +1"
   ]
  },
  {
   "cell_type": "code",
   "execution_count": 16,
   "id": "e9665fab",
   "metadata": {},
   "outputs": [
    {
     "data": {
      "text/plain": [
       "'hello How are you'"
      ]
     },
     "execution_count": 16,
     "metadata": {},
     "output_type": "execute_result"
    }
   ],
   "source": [
    "string1[0:]"
   ]
  },
  {
   "cell_type": "code",
   "execution_count": 19,
   "id": "19160537",
   "metadata": {},
   "outputs": [
    {
     "data": {
      "text/plain": [
       "'hello How are you'"
      ]
     },
     "execution_count": 19,
     "metadata": {},
     "output_type": "execute_result"
    }
   ],
   "source": [
    "string1[:len(string1)]"
   ]
  },
  {
   "cell_type": "code",
   "execution_count": 20,
   "id": "19ca2906",
   "metadata": {},
   "outputs": [
    {
     "data": {
      "text/plain": [
       "'hello How are you'"
      ]
     },
     "execution_count": 20,
     "metadata": {},
     "output_type": "execute_result"
    }
   ],
   "source": [
    "string1[:]"
   ]
  },
  {
   "cell_type": "code",
   "execution_count": 21,
   "id": "90627ea6",
   "metadata": {},
   "outputs": [
    {
     "data": {
      "text/plain": [
       "'hello How are you'"
      ]
     },
     "execution_count": 21,
     "metadata": {},
     "output_type": "execute_result"
    }
   ],
   "source": [
    "string1[::]"
   ]
  },
  {
   "cell_type": "code",
   "execution_count": null,
   "id": "d4a9a087",
   "metadata": {},
   "outputs": [],
   "source": [
    "h e l l o   h o w    a  r  e     y o  u\n",
    "0 1 2 3 4 5 6 7 8 9 10 11 12 13 14 15 16"
   ]
  },
  {
   "cell_type": "code",
   "execution_count": 27,
   "id": "3ed84f79",
   "metadata": {},
   "outputs": [
    {
     "data": {
      "text/plain": [
       "''"
      ]
     },
     "execution_count": 27,
     "metadata": {},
     "output_type": "execute_result"
    }
   ],
   "source": [
    "string1[-2:-15]"
   ]
  },
  {
   "cell_type": "code",
   "execution_count": null,
   "id": "c91dde66",
   "metadata": {},
   "outputs": [],
   "source": [
    "string1[-2:-15:-1]\n",
    "#start=-2 stop=-15+1=14 dir=-ve possible"
   ]
  },
  {
   "cell_type": "code",
   "execution_count": 29,
   "id": "2b6b0d46",
   "metadata": {},
   "outputs": [
    {
     "data": {
      "text/plain": [
       "''"
      ]
     },
     "execution_count": 29,
     "metadata": {},
     "output_type": "execute_result"
    }
   ],
   "source": [
    "string1[-15:-2:-1]\n",
    "#start=-15 stop=-2+1=-1 dir=-ve impossible"
   ]
  },
  {
   "cell_type": "code",
   "execution_count": 30,
   "id": "b7985f93",
   "metadata": {},
   "outputs": [
    {
     "data": {
      "text/plain": [
       "'lohwaey'"
      ]
     },
     "execution_count": 30,
     "metadata": {},
     "output_type": "execute_result"
    }
   ],
   "source": [
    "string1[-15:-2:2]"
   ]
  },
  {
   "cell_type": "code",
   "execution_count": 31,
   "id": "b64c5820",
   "metadata": {},
   "outputs": [
    {
     "data": {
      "text/plain": [
       "'woh ol'"
      ]
     },
     "execution_count": 31,
     "metadata": {},
     "output_type": "execute_result"
    }
   ],
   "source": [
    "string1[8:-15:-1]"
   ]
  },
  {
   "cell_type": "code",
   "execution_count": 35,
   "id": "c27acf16",
   "metadata": {},
   "outputs": [
    {
     "data": {
      "text/plain": [
       "'w'"
      ]
     },
     "execution_count": 35,
     "metadata": {},
     "output_type": "execute_result"
    }
   ],
   "source": [
    "string1[8:-10:-1]"
   ]
  },
  {
   "cell_type": "code",
   "execution_count": 36,
   "id": "81d1573d",
   "metadata": {},
   "outputs": [
    {
     "data": {
      "text/plain": [
       "'w'"
      ]
     },
     "execution_count": 36,
     "metadata": {},
     "output_type": "execute_result"
    }
   ],
   "source": [
    "string1[8:-10:-2]"
   ]
  },
  {
   "cell_type": "code",
   "execution_count": 38,
   "id": "30ebb3ed",
   "metadata": {},
   "outputs": [
    {
     "data": {
      "text/plain": [
       "'w '"
      ]
     },
     "execution_count": 38,
     "metadata": {},
     "output_type": "execute_result"
    }
   ],
   "source": [
    "string1[8:-15:-3]"
   ]
  },
  {
   "cell_type": "code",
   "execution_count": 32,
   "id": "de9fb369",
   "metadata": {},
   "outputs": [
    {
     "data": {
      "text/plain": [
       "'hello how are you'"
      ]
     },
     "execution_count": 32,
     "metadata": {},
     "output_type": "execute_result"
    }
   ],
   "source": [
    "string1[::1]"
   ]
  },
  {
   "cell_type": "markdown",
   "id": "6a873b65",
   "metadata": {},
   "source": [
    "- reverse"
   ]
  },
  {
   "cell_type": "code",
   "execution_count": 33,
   "id": "14325f56",
   "metadata": {},
   "outputs": [
    {
     "data": {
      "text/plain": [
       "'uoy era woh olleh'"
      ]
     },
     "execution_count": 33,
     "metadata": {},
     "output_type": "execute_result"
    }
   ],
   "source": [
    "string1[::-1]"
   ]
  },
  {
   "cell_type": "markdown",
   "id": "a0cc82b7",
   "metadata": {},
   "source": [
    "### string methods:"
   ]
  },
  {
   "cell_type": "code",
   "execution_count": 39,
   "id": "07d4c627",
   "metadata": {},
   "outputs": [
    {
     "data": {
      "text/plain": [
       "['__add__',\n",
       " '__class__',\n",
       " '__contains__',\n",
       " '__delattr__',\n",
       " '__dir__',\n",
       " '__doc__',\n",
       " '__eq__',\n",
       " '__format__',\n",
       " '__ge__',\n",
       " '__getattribute__',\n",
       " '__getitem__',\n",
       " '__getnewargs__',\n",
       " '__getstate__',\n",
       " '__gt__',\n",
       " '__hash__',\n",
       " '__init__',\n",
       " '__init_subclass__',\n",
       " '__iter__',\n",
       " '__le__',\n",
       " '__len__',\n",
       " '__lt__',\n",
       " '__mod__',\n",
       " '__mul__',\n",
       " '__ne__',\n",
       " '__new__',\n",
       " '__reduce__',\n",
       " '__reduce_ex__',\n",
       " '__repr__',\n",
       " '__rmod__',\n",
       " '__rmul__',\n",
       " '__setattr__',\n",
       " '__sizeof__',\n",
       " '__str__',\n",
       " '__subclasshook__',\n",
       " 'capitalize',\n",
       " 'casefold',\n",
       " 'center',\n",
       " 'count',\n",
       " 'encode',\n",
       " 'endswith',\n",
       " 'expandtabs',\n",
       " 'find',\n",
       " 'format',\n",
       " 'format_map',\n",
       " 'index',\n",
       " 'isalnum',\n",
       " 'isalpha',\n",
       " 'isascii',\n",
       " 'isdecimal',\n",
       " 'isdigit',\n",
       " 'isidentifier',\n",
       " 'islower',\n",
       " 'isnumeric',\n",
       " 'isprintable',\n",
       " 'isspace',\n",
       " 'istitle',\n",
       " 'isupper',\n",
       " 'join',\n",
       " 'ljust',\n",
       " 'lower',\n",
       " 'lstrip',\n",
       " 'maketrans',\n",
       " 'partition',\n",
       " 'removeprefix',\n",
       " 'removesuffix',\n",
       " 'replace',\n",
       " 'rfind',\n",
       " 'rindex',\n",
       " 'rjust',\n",
       " 'rpartition',\n",
       " 'rsplit',\n",
       " 'rstrip',\n",
       " 'split',\n",
       " 'splitlines',\n",
       " 'startswith',\n",
       " 'strip',\n",
       " 'swapcase',\n",
       " 'title',\n",
       " 'translate',\n",
       " 'upper',\n",
       " 'zfill']"
      ]
     },
     "execution_count": 39,
     "metadata": {},
     "output_type": "execute_result"
    }
   ],
   "source": [
    "dir('name')"
   ]
  },
  {
   "cell_type": "markdown",
   "id": "b6ecb0f7",
   "metadata": {},
   "source": [
    "$ capitalize$"
   ]
  },
  {
   "cell_type": "code",
   "execution_count": 40,
   "id": "a2276177",
   "metadata": {},
   "outputs": [],
   "source": [
    "name= 'naresh it'"
   ]
  },
  {
   "cell_type": "code",
   "execution_count": 41,
   "id": "8ba67475",
   "metadata": {},
   "outputs": [
    {
     "name": "stdout",
     "output_type": "stream",
     "text": [
      "Help on built-in function capitalize:\n",
      "\n",
      "capitalize() method of builtins.str instance\n",
      "    Return a capitalized version of the string.\n",
      "    \n",
      "    More specifically, make the first character have upper case and the rest lower\n",
      "    case.\n",
      "\n"
     ]
    }
   ],
   "source": [
    "help(name.capitalize)"
   ]
  },
  {
   "cell_type": "code",
   "execution_count": 42,
   "id": "a1b91c89",
   "metadata": {},
   "outputs": [
    {
     "data": {
      "text/plain": [
       "'Naresh it'"
      ]
     },
     "execution_count": 42,
     "metadata": {},
     "output_type": "execute_result"
    }
   ],
   "source": [
    "name.capitalize()"
   ]
  },
  {
   "cell_type": "code",
   "execution_count": 50,
   "id": "7d97538b",
   "metadata": {},
   "outputs": [
    {
     "name": "stdout",
     "output_type": "stream",
     "text": [
      "Help on built-in function upper:\n",
      "\n",
      "upper() method of builtins.str instance\n",
      "    Return a copy of the string converted to uppercase.\n",
      "\n"
     ]
    }
   ],
   "source": [
    "help(name.upper)"
   ]
  },
  {
   "cell_type": "code",
   "execution_count": 51,
   "id": "026cefa9",
   "metadata": {},
   "outputs": [
    {
     "data": {
      "text/plain": [
       "'NARESH IT'"
      ]
     },
     "execution_count": 51,
     "metadata": {},
     "output_type": "execute_result"
    }
   ],
   "source": [
    "name.upper()"
   ]
  },
  {
   "cell_type": "code",
   "execution_count": 56,
   "id": "3062cba6",
   "metadata": {},
   "outputs": [
    {
     "name": "stdout",
     "output_type": "stream",
     "text": [
      "Help on built-in function lower:\n",
      "\n",
      "lower() method of builtins.str instance\n",
      "    Return a copy of the string converted to lowercase.\n",
      "\n"
     ]
    }
   ],
   "source": [
    "help(name.lower)"
   ]
  },
  {
   "cell_type": "code",
   "execution_count": 57,
   "id": "4205374c",
   "metadata": {},
   "outputs": [
    {
     "data": {
      "text/plain": [
       "'naresh it'"
      ]
     },
     "execution_count": 57,
     "metadata": {},
     "output_type": "execute_result"
    }
   ],
   "source": [
    "name.lower()"
   ]
  },
  {
   "cell_type": "code",
   "execution_count": 64,
   "id": "51a22d16",
   "metadata": {},
   "outputs": [
    {
     "name": "stdout",
     "output_type": "stream",
     "text": [
      "Help on built-in function casefold:\n",
      "\n",
      "casefold() method of builtins.str instance\n",
      "    Return a version of the string suitable for caseless comparisons.\n",
      "\n"
     ]
    }
   ],
   "source": [
    "name='Naresh It'\n",
    "help(name.casefold)"
   ]
  },
  {
   "cell_type": "code",
   "execution_count": 63,
   "id": "e28faf5e",
   "metadata": {},
   "outputs": [
    {
     "data": {
      "text/plain": [
       "'naresh it'"
      ]
     },
     "execution_count": 63,
     "metadata": {},
     "output_type": "execute_result"
    }
   ],
   "source": [
    "name.casefold()"
   ]
  },
  {
   "cell_type": "code",
   "execution_count": 68,
   "id": "ebf3078a",
   "metadata": {},
   "outputs": [
    {
     "data": {
      "text/plain": [
       "'Hello'"
      ]
     },
     "execution_count": 68,
     "metadata": {},
     "output_type": "execute_result"
    }
   ],
   "source": [
    "string1='hello'\n",
    "#output:string1='Hello'\n",
    "'H'+string1[1:]"
   ]
  },
  {
   "cell_type": "code",
   "execution_count": 69,
   "id": "69ee9ab0",
   "metadata": {},
   "outputs": [
    {
     "name": "stdout",
     "output_type": "stream",
     "text": [
      "Hello\n"
     ]
    }
   ],
   "source": [
    "string2='H'\n",
    "string3=string2+string1[1:]\n",
    "print(string3)"
   ]
  },
  {
   "cell_type": "code",
   "execution_count": null,
   "id": "993ce0a9",
   "metadata": {},
   "outputs": [],
   "source": []
  }
 ],
 "metadata": {
  "kernelspec": {
   "display_name": "Python 3 (ipykernel)",
   "language": "python",
   "name": "python3"
  },
  "language_info": {
   "codemirror_mode": {
    "name": "ipython",
    "version": 3
   },
   "file_extension": ".py",
   "mimetype": "text/x-python",
   "name": "python",
   "nbconvert_exporter": "python",
   "pygments_lexer": "ipython3",
   "version": "3.11.5"
  }
 },
 "nbformat": 4,
 "nbformat_minor": 5
}
