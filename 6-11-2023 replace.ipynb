{
 "cells": [
  {
   "cell_type": "code",
   "execution_count": null,
   "id": "e6c22471",
   "metadata": {},
   "outputs": [],
   "source": [
    "# all togrther"
   ]
  },
  {
   "cell_type": "code",
   "execution_count": 1,
   "id": "0dce9433",
   "metadata": {},
   "outputs": [
    {
     "data": {
      "text/plain": [
       "'weLcome'"
      ]
     },
     "execution_count": 1,
     "metadata": {},
     "output_type": "execute_result"
    }
   ],
   "source": [
    "string1='welcome'\n",
    "#===========slice + concatination ==========\n",
    "string1[:2]+'L'+string1[3:]\n"
   ]
  },
  {
   "cell_type": "code",
   "execution_count": null,
   "id": "77c1584c",
   "metadata": {},
   "outputs": [],
   "source": [
    "#================replace method=========="
   ]
  },
  {
   "cell_type": "code",
   "execution_count": 2,
   "id": "bc27b3b7",
   "metadata": {},
   "outputs": [
    {
     "data": {
      "text/plain": [
       "'weLcome'"
      ]
     },
     "execution_count": 2,
     "metadata": {},
     "output_type": "execute_result"
    }
   ],
   "source": [
    "string1.replace('l','L')"
   ]
  },
  {
   "cell_type": "code",
   "execution_count": null,
   "id": "a56e6c44",
   "metadata": {},
   "outputs": [],
   "source": [
    "# input restart \n",
    "# out1: $estart\n",
    "# out2: resta$t"
   ]
  },
  {
   "cell_type": "code",
   "execution_count": 19,
   "id": "b1e5f934",
   "metadata": {},
   "outputs": [
    {
     "data": {
      "text/plain": [
       "'$estart'"
      ]
     },
     "execution_count": 19,
     "metadata": {},
     "output_type": "execute_result"
    }
   ],
   "source": [
    "string2='restart'\n",
    "string2.replace('r','$',1)\n",
    "# replace method will replace all occurence method\n",
    "# 1 means , only replace one occurence"
   ]
  },
  {
   "cell_type": "markdown",
   "id": "aabe306e",
   "metadata": {},
   "source": [
    "- when ever you see slash in the function inside then (/)\n",
    "- then don't provide variable name"
   ]
  },
  {
   "cell_type": "code",
   "execution_count": 20,
   "id": "09d08edf",
   "metadata": {},
   "outputs": [
    {
     "data": {
      "text/plain": [
       "'resta$t'"
      ]
     },
     "execution_count": 20,
     "metadata": {},
     "output_type": "execute_result"
    }
   ],
   "source": [
    "# now i want to do second occurence\n",
    "# as of now we are counting the index and then string1 \n",
    "string2[1:] # 'estart'\n",
    "string2[:1] # 'r'\n",
    "string2[:1]+string2[1:].replace('r','$',1)"
   ]
  },
  {
   "cell_type": "code",
   "execution_count": 23,
   "id": "a7a9106a",
   "metadata": {},
   "outputs": [
    {
     "data": {
      "text/plain": [
       "'resta$t'"
      ]
     },
     "execution_count": 23,
     "metadata": {},
     "output_type": "execute_result"
    }
   ],
   "source": [
    "string2[::-1].replace('r','$',1)[::-1]"
   ]
  },
  {
   "cell_type": "code",
   "execution_count": 25,
   "id": "b0759d98",
   "metadata": {},
   "outputs": [
    {
     "name": "stdout",
     "output_type": "stream",
     "text": [
      "resta$t\n"
     ]
    }
   ],
   "source": [
    "str1=string2[1:] # 'estart'\n",
    "str2=string2[:1] # 'r'\n",
    "str3=str1.replace('r','$',1)\n",
    "print(str2+str3)"
   ]
  },
  {
   "cell_type": "markdown",
   "id": "f6db1d94",
   "metadata": {},
   "source": [
    "## string in index"
   ]
  },
  {
   "cell_type": "code",
   "execution_count": 29,
   "id": "28b40de3",
   "metadata": {},
   "outputs": [
    {
     "data": {
      "text/plain": [
       "2"
      ]
     },
     "execution_count": 29,
     "metadata": {},
     "output_type": "execute_result"
    }
   ],
   "source": [
    "string1='python'\n",
    "# if i want to know\n",
    "# index of 't'\n",
    "string1.index('t')"
   ]
  },
  {
   "cell_type": "code",
   "execution_count": 33,
   "id": "118cbc24",
   "metadata": {},
   "outputs": [
    {
     "name": "stdout",
     "output_type": "stream",
     "text": [
      "3 6 12\n"
     ]
    }
   ],
   "source": [
    "string1='restart how to'\n",
    "#get the first 't'\n",
    "f_o=string1.index('t')\n",
    "s_o=string1.index('t',f_o+1)\n",
    "t_o=string1.index('t',s_o+1)\n",
    "print(f_o,s_o,t_o)"
   ]
  },
  {
   "cell_type": "code",
   "execution_count": 36,
   "id": "8b823b9a",
   "metadata": {},
   "outputs": [
    {
     "name": "stdout",
     "output_type": "stream",
     "text": [
      "0\n"
     ]
    },
    {
     "ename": "ValueError",
     "evalue": "substring not found",
     "output_type": "error",
     "traceback": [
      "\u001b[1;31m---------------------------------------------------------------------------\u001b[0m",
      "\u001b[1;31mValueError\u001b[0m                                Traceback (most recent call last)",
      "Cell \u001b[1;32mIn[36], line 2\u001b[0m\n\u001b[0;32m      1\u001b[0m \u001b[38;5;28mprint\u001b[39m(string1\u001b[38;5;241m.\u001b[39mcount(\u001b[38;5;124m'\u001b[39m\u001b[38;5;124mT\u001b[39m\u001b[38;5;124m'\u001b[39m)) \u001b[38;5;66;03m#0\u001b[39;00m\n\u001b[1;32m----> 2\u001b[0m \u001b[38;5;28mprint\u001b[39m(string1\u001b[38;5;241m.\u001b[39mindex(\u001b[38;5;124m'\u001b[39m\u001b[38;5;124mT\u001b[39m\u001b[38;5;124m'\u001b[39m)) \u001b[38;5;66;03m# sub string error\u001b[39;00m\n\u001b[0;32m      3\u001b[0m \u001b[38;5;28mprint\u001b[39m(string1\u001b[38;5;241m.\u001b[39mreplace(\u001b[38;5;124m'\u001b[39m\u001b[38;5;124mT\u001b[39m\u001b[38;5;124m'\u001b[39m,\u001b[38;5;124m'\u001b[39m\u001b[38;5;124m&\u001b[39m\u001b[38;5;124m'\u001b[39m))\n",
      "\u001b[1;31mValueError\u001b[0m: substring not found"
     ]
    }
   ],
   "source": [
    "print(string1.count('T')) #0\n",
    "print(string1.index('T')) # sub string error"
   ]
  },
  {
   "cell_type": "code",
   "execution_count": 37,
   "id": "fc51d1bf",
   "metadata": {},
   "outputs": [
    {
     "name": "stdout",
     "output_type": "stream",
     "text": [
      "restart how to\n"
     ]
    }
   ],
   "source": [
    "print(string1.replace('T','&')) # NO error"
   ]
  },
  {
   "cell_type": "code",
   "execution_count": 38,
   "id": "7786b1a6",
   "metadata": {},
   "outputs": [
    {
     "name": "stdout",
     "output_type": "stream",
     "text": [
      "3 6 12\n"
     ]
    }
   ],
   "source": [
    "string1='restart how to'\n",
    "#get the first 't'\n",
    "f_o=string1.find('t')\n",
    "s_o=string1.find('t',f_o+1)\n",
    "t_o=string1.find('t',s_o+1)\n",
    "print(f_o,s_o,t_o)"
   ]
  },
  {
   "cell_type": "markdown",
   "id": "60f8c9ca",
   "metadata": {},
   "source": [
    "- if nothing in the string then \n",
    "- Return -1 on failure."
   ]
  },
  {
   "cell_type": "code",
   "execution_count": 41,
   "id": "1673ae90",
   "metadata": {},
   "outputs": [
    {
     "name": "stdout",
     "output_type": "stream",
     "text": [
      "-1\n"
     ]
    }
   ],
   "source": [
    "string1='restart how to'\n",
    "print(string1.find('TTT')) # -"
   ]
  },
  {
   "cell_type": "markdown",
   "id": "0d75705a",
   "metadata": {},
   "source": [
    "- capitalize/ casefold/ upper/ lower\n",
    "- count\n",
    "- replace\n",
    "- index/find\n",
    "\n",
    "\n",
    "\n",
    "# slipt"
   ]
  },
  {
   "cell_type": "code",
   "execution_count": 45,
   "id": "80d146e4",
   "metadata": {},
   "outputs": [
    {
     "data": {
      "text/plain": [
       "['restart', 'how', 'to']"
      ]
     },
     "execution_count": 45,
     "metadata": {},
     "output_type": "execute_result"
    }
   ],
   "source": [
    "string1='restart how to'\n",
    "# Nothing mentioned means it will take the space\n",
    "\n",
    "f_o=string1.split()\n",
    "\n",
    "f_o"
   ]
  },
  {
   "cell_type": "code",
   "execution_count": 49,
   "id": "41b69247",
   "metadata": {},
   "outputs": [
    {
     "data": {
      "text/plain": [
       "['hai how', 'are you']"
      ]
     },
     "execution_count": 49,
     "metadata": {},
     "output_type": "execute_result"
    }
   ],
   "source": [
    "string2='hai how,are you'\n",
    "string2.split(',')"
   ]
  },
  {
   "cell_type": "code",
   "execution_count": 51,
   "id": "220b8e64",
   "metadata": {},
   "outputs": [
    {
     "name": "stdout",
     "output_type": "stream",
     "text": [
      "hai how,are you\n"
     ]
    }
   ],
   "source": [
    "var1='hai how'\n",
    "var2='are you'\n",
    "print(var1,var2,sep=',')"
   ]
  },
  {
   "cell_type": "code",
   "execution_count": 52,
   "id": "6794b13e",
   "metadata": {},
   "outputs": [
    {
     "data": {
      "text/plain": [
       "['h', 'i how,', 're you']"
      ]
     },
     "execution_count": 52,
     "metadata": {},
     "output_type": "execute_result"
    }
   ],
   "source": [
    "string2='hai how,are you'\n",
    "string2.split('a')"
   ]
  },
  {
   "cell_type": "code",
   "execution_count": 66,
   "id": "a490e54e",
   "metadata": {},
   "outputs": [
    {
     "data": {
      "text/plain": [
       "['hai how,are you']"
      ]
     },
     "execution_count": 66,
     "metadata": {},
     "output_type": "execute_result"
    }
   ],
   "source": [
    "string2='hai how,are you'\n",
    "string2.split('ghjkl')"
   ]
  },
  {
   "cell_type": "code",
   "execution_count": null,
   "id": "c8b1d6a9",
   "metadata": {},
   "outputs": [],
   "source": []
  }
 ],
 "metadata": {
  "kernelspec": {
   "display_name": "Python 3 (ipykernel)",
   "language": "python",
   "name": "python3"
  },
  "language_info": {
   "codemirror_mode": {
    "name": "ipython",
    "version": 3
   },
   "file_extension": ".py",
   "mimetype": "text/x-python",
   "name": "python",
   "nbconvert_exporter": "python",
   "pygments_lexer": "ipython3",
   "version": "3.11.5"
  }
 },
 "nbformat": 4,
 "nbformat_minor": 5
}
