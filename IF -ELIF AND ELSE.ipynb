{
 "cells": [
  {
   "cell_type": "code",
   "execution_count": null,
   "id": "e9999a2f",
   "metadata": {},
   "outputs": [],
   "source": [
    "#WAP ask the user enter distance\n",
    "#if the dis between 0 and 2 kms the fare is 20re\n",
    "#if the dis between 2km to 4km the fare is 40rs\n",
    "#if the dis between 4km to 6km the fare is 60rs\n",
    "#if the dis more than 6km print the fare is 100rs"
   ]
  },
  {
   "cell_type": "code",
   "execution_count": 20,
   "id": "a59ae329",
   "metadata": {},
   "outputs": [
    {
     "name": "stdout",
     "output_type": "stream",
     "text": [
      "Enter distance in KMS :5\n",
      "the fare is 60rs\n"
     ]
    }
   ],
   "source": [
    "try:\n",
    "    dis=eval(input(\"Enter distance in KMS :\"))\n",
    "    if 0<dis<=2:\n",
    "        print(\"the fare is 20rs\")\n",
    "    elif 2<dis<=4:\n",
    "        print(\"the fare is 40rs\")\n",
    "    elif 4<dis<=6:\n",
    "        print(\"the fare is 60rs\")\n",
    "    else:\n",
    "        print(\"the fare is 100rs\")\n",
    "except Exception as e:\n",
    "    print(e)"
   ]
  },
  {
   "cell_type": "code",
   "execution_count": 21,
   "id": "a81b594d",
   "metadata": {},
   "outputs": [
    {
     "name": "stdout",
     "output_type": "stream",
     "text": [
      "Enter distance in Kms :5\n",
      "the fare is 60rs\n"
     ]
    }
   ],
   "source": [
    "try:\n",
    "    dis=eval(input(\"Enter distance in Kms :\"))\n",
    "    if dis>0 and dis<=2:\n",
    "        print(\"the fare is 20rs\")\n",
    "    elif dis>2 and dis<=4:\n",
    "        print(\"the fare is 40rs\")\n",
    "    elif dis>4 and dis<=6:\n",
    "        print(\"the fare is 60rs\")\n",
    "    else:\n",
    "        print(\"the fare is 100rs\")\n",
    "except Exception as e:\n",
    "    print(e)"
   ]
  },
  {
   "cell_type": "code",
   "execution_count": null,
   "id": "101b9074",
   "metadata": {},
   "outputs": [],
   "source": [
    "x y xandy x or y\n",
    "0 0   0     0\n",
    "0 1   0     1 \n",
    "1 0   0     1\n",
    "1 1   1     1"
   ]
  },
  {
   "cell_type": "code",
   "execution_count": 22,
   "id": "5d5bb611",
   "metadata": {},
   "outputs": [
    {
     "name": "stdout",
     "output_type": "stream",
     "text": [
      "Enter distance :5\n",
      "the fare is 60rs\n"
     ]
    }
   ],
   "source": [
    "try:\n",
    "    dis=eval(input(\"Enter distance :\"))\n",
    "    if dis>=6: \n",
    "        print(\"the fare is 100rs\")\n",
    "    elif dis>=4:\n",
    "        print(\"the fare is 60rs\")\n",
    "    elif dis>=2:\n",
    "        print(\"the fare is 40rs\")\n",
    "    else:\n",
    "        print(\"the fare is less than 2kms is 20rs\")\n",
    "except Exception as e:\n",
    "    print(e)"
   ]
  },
  {
   "cell_type": "code",
   "execution_count": null,
   "id": "0c9b96b0",
   "metadata": {},
   "outputs": [],
   "source": [
    "0-2 : 20rs\n",
    "2-4 : 40rs\n",
    "4-6 : 60rs\n"
   ]
  },
  {
   "cell_type": "code",
   "execution_count": null,
   "id": "49ee42a5",
   "metadata": {},
   "outputs": [],
   "source": [
    "#wap ask the  user enter percentage\n",
    "#if % >90 print Grade A\n",
    "#if % between 70 and 90 print Grade B\n",
    "#if % between 50 and 70 print Grade C\n",
    "#if % less than 50 print Grade D"
   ]
  },
  {
   "cell_type": "code",
   "execution_count": 24,
   "id": "729e312f",
   "metadata": {},
   "outputs": [
    {
     "name": "stdout",
     "output_type": "stream",
     "text": [
      "Enter percentage :90\n",
      " Grade B\n"
     ]
    }
   ],
   "source": [
    "try:\n",
    "    p=eval(input(\"Enter percentage :\"))\n",
    "    if p>90:\n",
    "        print(\" Grade A\")\n",
    "    elif p>70:\n",
    "        print(\" Grade B\")\n",
    "    elif p>50:\n",
    "        print(\" Grade C\")\n",
    "    else:\n",
    "        print(\" Grade B\")\n",
    "except Exception as e:\n",
    "    print(e)"
   ]
  },
  {
   "cell_type": "code",
   "execution_count": 33,
   "id": "37644763",
   "metadata": {},
   "outputs": [],
   "source": [
    "# WAP ask the user enter a num\n",
    "# check the 1 condition if num>=0\n",
    "# if that is true check one more condition if num==0 then print it is a zero num\n",
    "# otherwise it is a positive num\n",
    "\n",
    "# otherwise it is a negative num"
   ]
  },
  {
   "cell_type": "code",
   "execution_count": 34,
   "id": "270593fe",
   "metadata": {},
   "outputs": [
    {
     "name": "stdout",
     "output_type": "stream",
     "text": [
      "Enter a num :+742\n",
      "It is positive num\n"
     ]
    }
   ],
   "source": [
    "try:\n",
    "    num=eval(input(\"Enter a num :\"))\n",
    "    if num>=0:\n",
    "        if num==0:\n",
    "            print(\"It is zero num\")\n",
    "        else:\n",
    "            print(\"It is positive num\")\n",
    "    else:\n",
    "        print(\"It is a negative num\")\n",
    "except Exception as e:\n",
    "    print(e)"
   ]
  },
  {
   "cell_type": "code",
   "execution_count": null,
   "id": "8d11cfbf",
   "metadata": {},
   "outputs": [],
   "source": [
    "# enter num greater than or equal to zero\n",
    "# check if it is between 1 and 99;\n",
    "#check it is 0 it is zero\n",
    "# check if it is more than 99 ; print "
   ]
  },
  {
   "cell_type": "code",
   "execution_count": 36,
   "id": "b2bf2a2f",
   "metadata": {},
   "outputs": [
    {
     "name": "stdout",
     "output_type": "stream",
     "text": [
      "enter num greater than or equal to zero :52\n",
      "num between 1 and 99\n"
     ]
    }
   ],
   "source": [
    "try:\n",
    "    num=eval(input(\"enter num greater than or equal to zero :\"))\n",
    "    if num>1 and num<99:\n",
    "        print(\"num between 1 and 99\")\n",
    "    elif num==0:\n",
    "        print(\"Zero\")\n",
    "    else:\n",
    "        print(\"out of range\")\n",
    "except Exception as e:\n",
    "    print(e)"
   ]
  },
  {
   "cell_type": "code",
   "execution_count": 41,
   "id": "3d078f2e",
   "metadata": {},
   "outputs": [
    {
     "name": "stdout",
     "output_type": "stream",
     "text": [
      "enter num greater than or equal to zero :53\n",
      "num between 1 and 99\n"
     ]
    }
   ],
   "source": [
    "try:\n",
    "    num=eval(input(\"enter num greater than or equal to zero :\"))\n",
    "    if num>99:\n",
    "        print(\"out of range\")\n",
    "    elif num>1:\n",
    "        print(\"num between 1 and 99\")\n",
    "    else:\n",
    "        print(\"zero\")\n",
    "except Exception as e:\n",
    "    print(e)"
   ]
  },
  {
   "cell_type": "code",
   "execution_count": 38,
   "id": "c794a83f",
   "metadata": {},
   "outputs": [
    {
     "name": "stdout",
     "output_type": "stream",
     "text": [
      "enter num greater than or equal to zero :52\n",
      "num between 1 and 99\n"
     ]
    }
   ],
   "source": [
    "try:\n",
    "    num=eval(input(\"enter num greater than or equal to zero :\"))\n",
    "    if num<99:\n",
    "        if num==0:\n",
    "            print(\"Zero\")\n",
    "        else:\n",
    "            print(\"num between 1 and 99\")\n",
    "    else:\n",
    "        print(\"out of range\")\n",
    "except Exception as e:\n",
    "    print(e)"
   ]
  },
  {
   "cell_type": "code",
   "execution_count": 43,
   "id": "bac33dd1",
   "metadata": {},
   "outputs": [
    {
     "name": "stdout",
     "output_type": "stream",
     "text": [
      "enter num greater than or equal to zero :-53\n",
      "num is negative\n"
     ]
    }
   ],
   "source": [
    "try:\n",
    "    num=eval(input(\"enter num greater than or equal to zero :\"))\n",
    "    if num<99:\n",
    "        if num==0:\n",
    "            print(\"Zero\")\n",
    "        elif num<0:\n",
    "            print(\"num is negative\")\n",
    "        else:\n",
    "            print(\"num between 1 and 99\")\n",
    "    else:\n",
    "        print(\"out of range\")\n",
    "except Exception as e:\n",
    "    print(e)"
   ]
  },
  {
   "cell_type": "code",
   "execution_count": null,
   "id": "c578a08e",
   "metadata": {},
   "outputs": [],
   "source": [
    "#WAP ASK THE user enter a gender\n",
    "# if gende==male and again ask the user enter MALE\n",
    "# if age>25 then print he is man \n",
    "# otherwise he is a boy\n",
    "\n",
    "#otherwise\n",
    "#ask the user\n",
    "#if age >25 then print she is women\n",
    "#otherwise she is a girl"
   ]
  },
  {
   "cell_type": "code",
   "execution_count": 58,
   "id": "03c4f70c",
   "metadata": {},
   "outputs": [
    {
     "name": "stdout",
     "output_type": "stream",
     "text": [
      "enter a gender :'eudygbrdh'\n",
      "Enter age :68542\n",
      "She is a women\n"
     ]
    }
   ],
   "source": [
    "try:\n",
    "    gender=eval(input(\"enter a gender :\"))\n",
    "    if gender=='male':\n",
    "        age=eval(input(\"Enter age :\"))\n",
    "        if age>25:\n",
    "            print(\"He is a man\")\n",
    "        else:\n",
    "            print(\"He is a boy\")\n",
    "    else:\n",
    "        age=eval(input(\"Enter age :\"))\n",
    "        if age>25:\n",
    "            print(\"She is a women\")\n",
    "        else:\n",
    "            print(\"She is a girl\")\n",
    "except Exception as e:\n",
    "    print(e)      "
   ]
  },
  {
   "cell_type": "code",
   "execution_count": 12,
   "id": "c951e130",
   "metadata": {},
   "outputs": [
    {
     "name": "stdout",
     "output_type": "stream",
     "text": [
      "enter a gender :'male'\n",
      "Enter age :20\n",
      "He is a boy\n"
     ]
    }
   ],
   "source": [
    "try:\n",
    "    gender=eval(input(\"enter a gender :\"))\n",
    "    if gender=='male':\n",
    "        age=eval(input(\"Enter age :\"))\n",
    "        if age>25:\n",
    "            print(\"He is a man\")\n",
    "        else:\n",
    "            print(\"He is a boy\")\n",
    "    else:\n",
    "        age=eval(input(\"Enter age :\"))\n",
    "        if age>25:\n",
    "            print(\"She is a women\")\n",
    "        else:\n",
    "            print(\"She is a girl\")\n",
    "except Exception as e:\n",
    "    print(e)      "
   ]
  },
  {
   "cell_type": "code",
   "execution_count": null,
   "id": "d6c8f5a2",
   "metadata": {},
   "outputs": [],
   "source": [
    "#WAp ask the user enter 3 nums\n",
    "# find which is greater number\n",
    "\n",
    "# frequent INTERVIEW question"
   ]
  },
  {
   "cell_type": "code",
   "execution_count": 8,
   "id": "b0e3c587",
   "metadata": {},
   "outputs": [
    {
     "name": "stdout",
     "output_type": "stream",
     "text": [
      "Enter a num1 :985239841\n",
      "Enter a num2 :-41\n",
      "Enter a num3 :87412841265\n",
      "n3 is greater\n"
     ]
    }
   ],
   "source": [
    "try:\n",
    "    n1=eval(input(\"Enter a num1 :\"))\n",
    "    n2=eval(input(\"Enter a num2 :\"))\n",
    "    n3=eval(input(\"Enter a num3 :\"))\n",
    "    if n3> n1 and n3>n2:\n",
    "        print(\"n3 is greater\")\n",
    "    elif n2>n3 and n2>n1:\n",
    "        print(\"n2 is greater\")\n",
    "    else:\n",
    "        print(\"n1 is greater\")\n",
    "except Exception as e:\n",
    "    print(e)     "
   ]
  },
  {
   "cell_type": "code",
   "execution_count": 9,
   "id": "d8e90400",
   "metadata": {},
   "outputs": [
    {
     "name": "stdout",
     "output_type": "stream",
     "text": [
      "Enter a num1 :85\n",
      "Enter a num2 :963\n",
      "Enter a num3 :-6\n",
      "n2 is greater\n"
     ]
    }
   ],
   "source": [
    "try:\n",
    "    n1=eval(input(\"Enter a num1 :\"))\n",
    "    n2=eval(input(\"Enter a num2 :\"))\n",
    "    n3=eval(input(\"Enter a num3 :\"))\n",
    "    if n3> n1 and n2:\n",
    "        print(\"n3 is greater\")\n",
    "    elif n2> n3 and n1:\n",
    "        print(\"n2 is greater\")\n",
    "    else:\n",
    "        print(\"n1 is greater\")\n",
    "except Exception as e:\n",
    "    print(e)     \n"
   ]
  },
  {
   "cell_type": "code",
   "execution_count": 14,
   "id": "b4206d66",
   "metadata": {},
   "outputs": [
    {
     "name": "stdout",
     "output_type": "stream",
     "text": [
      "Enter a num1 :8\n",
      "Enter a num2 :6\n",
      "Enter a num3 :2\n",
      "n1 is greater\n"
     ]
    }
   ],
   "source": [
    "try:\n",
    "    n1=eval(input(\"Enter a num1 :\"))\n",
    "    n2=eval(input(\"Enter a num2 :\"))\n",
    "    n3=eval(input(\"Enter a num3 :\"))\n",
    "    if n3> n1 and n2:\n",
    "        if n2> n3 and n1:\n",
    "            print(\"n2 is greater\")\n",
    "        else:\n",
    "            print(\"n3 is greater\")\n",
    "    else:\n",
    "        print(\"n1 is greater\")\n",
    "except Exception as e:\n",
    "    print(e)     "
   ]
  },
  {
   "cell_type": "code",
   "execution_count": null,
   "id": "f01a33b4",
   "metadata": {},
   "outputs": [],
   "source": []
  },
  {
   "cell_type": "code",
   "execution_count": null,
   "id": "875d9bcb",
   "metadata": {},
   "outputs": [],
   "source": []
  },
  {
   "cell_type": "code",
   "execution_count": null,
   "id": "25ef5ff7",
   "metadata": {},
   "outputs": [],
   "source": []
  }
 ],
 "metadata": {
  "kernelspec": {
   "display_name": "Python 3 (ipykernel)",
   "language": "python",
   "name": "python3"
  },
  "language_info": {
   "codemirror_mode": {
    "name": "ipython",
    "version": 3
   },
   "file_extension": ".py",
   "mimetype": "text/x-python",
   "name": "python",
   "nbconvert_exporter": "python",
   "pygments_lexer": "ipython3",
   "version": "3.11.5"
  }
 },
 "nbformat": 4,
 "nbformat_minor": 5
}
