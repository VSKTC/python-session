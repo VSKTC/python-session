{
 "cells": [
  {
   "cell_type": "markdown",
   "id": "bcc24cf2",
   "metadata": {},
   "source": [
    "### lambda function with one arguments"
   ]
  },
  {
   "cell_type": "code",
   "execution_count": 1,
   "id": "d42fbae1",
   "metadata": {},
   "outputs": [
    {
     "data": {
      "text/plain": [
       "20"
      ]
     },
     "execution_count": 1,
     "metadata": {},
     "output_type": "execute_result"
    }
   ],
   "source": [
    "# normal functon\n",
    "\n",
    "def add(x):\n",
    "    return(x+10)\n",
    "\n",
    "add(10)"
   ]
  },
  {
   "cell_type": "code",
   "execution_count": null,
   "id": "b0304ce0",
   "metadata": {},
   "outputs": [],
   "source": [
    "# how many arguments are there?  x\n",
    "# what you are returing)         x+10\n",
    "\n",
    "<funtion name>= lambda <arguments names>: <return> "
   ]
  },
  {
   "cell_type": "code",
   "execution_count": 4,
   "id": "5675a40d",
   "metadata": {},
   "outputs": [
    {
     "data": {
      "text/plain": [
       "20"
      ]
     },
     "execution_count": 4,
     "metadata": {},
     "output_type": "execute_result"
    }
   ],
   "source": [
    "add= lambda x:x+10 # function is ready\n",
    "add(10)"
   ]
  },
  {
   "cell_type": "code",
   "execution_count": 5,
   "id": "a85b1284",
   "metadata": {},
   "outputs": [
    {
     "data": {
      "text/plain": [
       "100"
      ]
     },
     "execution_count": 5,
     "metadata": {},
     "output_type": "execute_result"
    }
   ],
   "source": [
    "def mul(num):\n",
    "    return(num*num)\n",
    "mul(10)"
   ]
  },
  {
   "cell_type": "code",
   "execution_count": 7,
   "id": "cad6be14",
   "metadata": {},
   "outputs": [
    {
     "data": {
      "text/plain": [
       "100"
      ]
     },
     "execution_count": 7,
     "metadata": {},
     "output_type": "execute_result"
    }
   ],
   "source": [
    "mul=lambda num:num*num\n",
    "mul(10)"
   ]
  },
  {
   "cell_type": "code",
   "execution_count": 8,
   "id": "1bf5c429",
   "metadata": {},
   "outputs": [
    {
     "data": {
      "text/plain": [
       "27"
      ]
     },
     "execution_count": 8,
     "metadata": {},
     "output_type": "execute_result"
    }
   ],
   "source": [
    "def cube(val):\n",
    "    return(val*val*val)\n",
    "cube(3)"
   ]
  },
  {
   "cell_type": "code",
   "execution_count": 9,
   "id": "18cd7aa0",
   "metadata": {},
   "outputs": [
    {
     "data": {
      "text/plain": [
       "27"
      ]
     },
     "execution_count": 9,
     "metadata": {},
     "output_type": "execute_result"
    }
   ],
   "source": [
    "cube=lambda val: val*val*val\n",
    "cube(3)"
   ]
  },
  {
   "cell_type": "markdown",
   "id": "a53cba0c",
   "metadata": {},
   "source": [
    "### lambda function with two arguements"
   ]
  },
  {
   "cell_type": "code",
   "execution_count": 11,
   "id": "4bd7e772",
   "metadata": {},
   "outputs": [
    {
     "data": {
      "text/plain": [
       "30"
      ]
     },
     "execution_count": 11,
     "metadata": {},
     "output_type": "execute_result"
    }
   ],
   "source": [
    "def sum(a,b):\n",
    "    return(a+b)\n",
    "sum(10,20)"
   ]
  },
  {
   "cell_type": "code",
   "execution_count": 12,
   "id": "a278595c",
   "metadata": {},
   "outputs": [
    {
     "data": {
      "text/plain": [
       "30"
      ]
     },
     "execution_count": 12,
     "metadata": {},
     "output_type": "execute_result"
    }
   ],
   "source": [
    "sum= lambda a,b: a+b\n",
    "sum(10,20)"
   ]
  },
  {
   "cell_type": "code",
   "execution_count": 13,
   "id": "5809709a",
   "metadata": {},
   "outputs": [
    {
     "data": {
      "text/plain": [
       "6"
      ]
     },
     "execution_count": 13,
     "metadata": {},
     "output_type": "execute_result"
    }
   ],
   "source": [
    "def avg(a,b,c):\n",
    "    return(a+b+c)\n",
    "avg(1,2,3)"
   ]
  },
  {
   "cell_type": "code",
   "execution_count": 15,
   "id": "5459a1a3",
   "metadata": {},
   "outputs": [
    {
     "data": {
      "text/plain": [
       "60"
      ]
     },
     "execution_count": 15,
     "metadata": {},
     "output_type": "execute_result"
    }
   ],
   "source": [
    "avg= lambda a,b,c:a+b+c\n",
    "avg(10,20,30)"
   ]
  },
  {
   "cell_type": "code",
   "execution_count": 16,
   "id": "66abe5ef",
   "metadata": {},
   "outputs": [
    {
     "data": {
      "text/plain": [
       "43.333333333333336"
      ]
     },
     "execution_count": 16,
     "metadata": {},
     "output_type": "execute_result"
    }
   ],
   "source": [
    "def avg(a,b,c=100):\n",
    "    return((a+b+c)/3)\n",
    "avg(10,20)"
   ]
  },
  {
   "cell_type": "code",
   "execution_count": 19,
   "id": "13e7a4a3",
   "metadata": {},
   "outputs": [
    {
     "data": {
      "text/plain": [
       "43.333333333333336"
      ]
     },
     "execution_count": 19,
     "metadata": {},
     "output_type": "execute_result"
    }
   ],
   "source": [
    "avg= lambda a,b,c=100:((a+b+c)/3)\n",
    "avg(10,20)"
   ]
  },
  {
   "cell_type": "code",
   "execution_count": 21,
   "id": "ee7b9cf6",
   "metadata": {},
   "outputs": [
    {
     "data": {
      "text/plain": [
       "43.33"
      ]
     },
     "execution_count": 21,
     "metadata": {},
     "output_type": "execute_result"
    }
   ],
   "source": [
    "avg= lambda a,b,c=100:round((a+b+c)/3,2)\n",
    "avg(10,20)"
   ]
  },
  {
   "cell_type": "markdown",
   "id": "fdf7093b",
   "metadata": {},
   "source": [
    "### lambda function with if-else"
   ]
  },
  {
   "cell_type": "code",
   "execution_count": 20,
   "id": "16637f38",
   "metadata": {},
   "outputs": [
    {
     "data": {
      "text/plain": [
       "2"
      ]
     },
     "execution_count": 20,
     "metadata": {},
     "output_type": "execute_result"
    }
   ],
   "source": [
    "def greater (n1,n2):\n",
    "    if n1>n2:\n",
    "        return(n1)\n",
    "    else:\n",
    "        return(n2)\n",
    "greater(1,2)"
   ]
  },
  {
   "cell_type": "code",
   "execution_count": 22,
   "id": "49977321",
   "metadata": {},
   "outputs": [
    {
     "data": {
      "text/plain": [
       "2"
      ]
     },
     "execution_count": 22,
     "metadata": {},
     "output_type": "execute_result"
    }
   ],
   "source": [
    "greater= lambda n1,n2 : n1 if n1>n2 else n2\n",
    "greater(1,2)"
   ]
  },
  {
   "cell_type": "code",
   "execution_count": null,
   "id": "706949cb",
   "metadata": {},
   "outputs": [],
   "source": [
    "<function_name>=lambda <arg1,arg2> : <if_output> <if condition> else <else_output>"
   ]
  },
  {
   "cell_type": "markdown",
   "id": "58588559",
   "metadata": {},
   "source": [
    "***lambda function with the list "
   ]
  },
  {
   "cell_type": "code",
   "execution_count": 28,
   "id": "ac12c399",
   "metadata": {},
   "outputs": [
    {
     "data": {
      "text/plain": [
       "['Hyd', 'Mumbai', 'Delhi']"
      ]
     },
     "execution_count": 28,
     "metadata": {},
     "output_type": "execute_result"
    }
   ],
   "source": [
    "# ################### method1\n",
    "list1=['hyd','mumbai','delhi']\n",
    "output=[]\n",
    "for i in list1:\n",
    "    output.append(i.capitalize())\n",
    "output"
   ]
  },
  {
   "cell_type": "markdown",
   "id": "8531ab7c",
   "metadata": {},
   "source": [
    "# list comprehention means we need to be \n",
    "# the program in one line"
   ]
  },
  {
   "cell_type": "code",
   "execution_count": null,
   "id": "9bf4e970",
   "metadata": {},
   "outputs": [],
   "source": [
    "# ###################### method 2"
   ]
  },
  {
   "cell_type": "code",
   "execution_count": 29,
   "id": "29659823",
   "metadata": {},
   "outputs": [
    {
     "data": {
      "text/plain": [
       "['Hyd', 'Mumbai', 'Delhi']"
      ]
     },
     "execution_count": 29,
     "metadata": {},
     "output_type": "execute_result"
    }
   ],
   "source": [
    "list1=['hyd','mumbai','delhi']\n",
    "output=[i.capitalize() for i in list1]\n",
    "output"
   ]
  },
  {
   "cell_type": "markdown",
   "id": "13986599",
   "metadata": {},
   "source": [
    "$maping$"
   ]
  },
  {
   "cell_type": "code",
   "execution_count": 33,
   "id": "6aa547a4",
   "metadata": {},
   "outputs": [
    {
     "data": {
      "text/plain": [
       "(<function __main__.<lambda>(i)>, ['hyd', 'mumbai', 'delhi'])"
      ]
     },
     "execution_count": 33,
     "metadata": {},
     "output_type": "execute_result"
    }
   ],
   "source": [
    "lambda i:i.capitalize(), list1\n",
    "# <function __main__.<lambda>(i)>\n",
    "def abc(i):\n",
    "    return(i.capitalize())"
   ]
  },
  {
   "cell_type": "code",
   "execution_count": 37,
   "id": "331331b6",
   "metadata": {},
   "outputs": [
    {
     "data": {
      "text/plain": [
       "['Hyd', 'Mumbai', 'Delhi']"
      ]
     },
     "execution_count": 37,
     "metadata": {},
     "output_type": "execute_result"
    }
   ],
   "source": [
    "list(map(lambda i:i.capitalize(), list1))\n",
    "# step-1: create a lambda function : lambda i:i>capitalize()\n",
    "# s-2: add your iterator\n",
    "\n",
    "# s1,s2 : lambda i:i>capitalize(),list1\n",
    "# step-3 : mapping of both s1 and s-2\n",
    "#         map(s-1,s-2)\n",
    "#         map(lambda i:i>capitalize(),list1)\n",
    "# step-4 : you need to save the result agin in alist or tuple\n",
    "\n",
    "# list (map(step1,step2))\n",
    "# list (map(lambda i:i>capitalize(),list1))"
   ]
  },
  {
   "cell_type": "code",
   "execution_count": null,
   "id": "f26679d3",
   "metadata": {},
   "outputs": [],
   "source": [
    "######################## method3\n",
    "lambda i:i.capitalize()  # iterate the value"
   ]
  },
  {
   "cell_type": "code",
   "execution_count": null,
   "id": "75f9677a",
   "metadata": {},
   "outputs": [],
   "source": [
    "lambda i:i.capitalize(), <iterator>\n",
    "# lambda <var>: <o/p>,<list1/string/tuple>"
   ]
  },
  {
   "cell_type": "code",
   "execution_count": null,
   "id": "77b1ab4c",
   "metadata": {},
   "outputs": [],
   "source": [
    "# what is mean by iterator\n",
    "\n",
    "#  which data itype you can iterate\n",
    "\n",
    "# which data type you can print by using for loop"
   ]
  },
  {
   "cell_type": "code",
   "execution_count": null,
   "id": "819ad435",
   "metadata": {},
   "outputs": [],
   "source": [
    "string\n",
    "dict\n",
    "set\n",
    "list\n",
    "tuple are iterators"
   ]
  },
  {
   "cell_type": "code",
   "execution_count": 39,
   "id": "0b823fba",
   "metadata": {},
   "outputs": [
    {
     "name": "stdout",
     "output_type": "stream",
     "text": [
      "nohtyp"
     ]
    }
   ],
   "source": [
    "val=reversed('python')\n",
    "for i in val:\n",
    "    print(i,end='')"
   ]
  },
  {
   "cell_type": "code",
   "execution_count": 40,
   "id": "e06ad312",
   "metadata": {},
   "outputs": [
    {
     "data": {
      "text/plain": [
       "[1, 4, 9, 16]"
      ]
     },
     "execution_count": 40,
     "metadata": {},
     "output_type": "execute_result"
    }
   ],
   "source": [
    "list1=[1,2,3,4]\n",
    "# output= [1,4,9,16]\n",
    "# create a normal function if it has a single value\n",
    "list(map(lambda i:i*i,list1))"
   ]
  },
  {
   "cell_type": "code",
   "execution_count": 59,
   "id": "c1f53bff",
   "metadata": {},
   "outputs": [
    {
     "data": {
      "text/plain": [
       "[1, 4, 9, 16]"
      ]
     },
     "execution_count": 59,
     "metadata": {},
     "output_type": "execute_result"
    }
   ],
   "source": [
    "list1=[1,2,3,4]\n",
    "\n",
    "def square(num):\n",
    "    return(num*num)\n",
    "square(10)\n",
    "list(map(lambda num:num*num, list1))"
   ]
  },
  {
   "cell_type": "code",
   "execution_count": 43,
   "id": "d79af601",
   "metadata": {},
   "outputs": [
    {
     "data": {
      "text/plain": [
       "[1, 4, 9, 16]"
      ]
     },
     "execution_count": 43,
     "metadata": {},
     "output_type": "execute_result"
    }
   ],
   "source": [
    "out=[num*num for num in list1]\n",
    "out"
   ]
  },
  {
   "cell_type": "markdown",
   "id": "e662986f",
   "metadata": {},
   "source": [
    "### filter"
   ]
  },
  {
   "cell_type": "code",
   "execution_count": 48,
   "id": "3d67a733",
   "metadata": {},
   "outputs": [
    {
     "data": {
      "text/plain": [
       "['biryani', 'buvaneshwar', 'rasagulla']"
      ]
     },
     "execution_count": 48,
     "metadata": {},
     "output_type": "execute_result"
    }
   ],
   "source": [
    "list1=['hyd','biryani','buvaneshwar','rasagulla']\n",
    "# output: [biryani, bhuvaneshwar, rasagula]\n",
    "list(filter(lambda i:len(i)>3, list1))"
   ]
  },
  {
   "cell_type": "code",
   "execution_count": 53,
   "id": "d5e25985",
   "metadata": {},
   "outputs": [
    {
     "data": {
      "text/plain": [
       "['biryani', 'buvaneshwar', 'rasagulla']"
      ]
     },
     "execution_count": 53,
     "metadata": {},
     "output_type": "execute_result"
    }
   ],
   "source": [
    "list1=['hyd','biryani','buvaneshwar','rasagulla']\n",
    "# return the items with has greater than 3\n",
    "out=[]\n",
    "for i in list1:\n",
    "    if len(i)>3:\n",
    "        out.append(i)\n",
    "out\n",
    "\n"
   ]
  },
  {
   "cell_type": "code",
   "execution_count": 62,
   "id": "2a9df81a",
   "metadata": {},
   "outputs": [
    {
     "data": {
      "text/plain": [
       "['bir#yani', 'buvan#eshwar', 'rasa#gulla']"
      ]
     },
     "execution_count": 62,
     "metadata": {},
     "output_type": "execute_result"
    }
   ],
   "source": [
    "list1=['hyd','bir#yani','buvan#eshwar','rasa#gulla']\n",
    "list(filter(lambda i:'#' in i , list1))"
   ]
  },
  {
   "cell_type": "code",
   "execution_count": 67,
   "id": "a595ea1e",
   "metadata": {},
   "outputs": [
    {
     "ename": "SyntaxError",
     "evalue": "invalid syntax (488925064.py, line 2)",
     "output_type": "error",
     "traceback": [
      "\u001b[1;36m  Cell \u001b[1;32mIn[67], line 2\u001b[1;36m\u001b[0m\n\u001b[1;33m    list(filter(lambda i:i if i%2==0: else i, list1))\u001b[0m\n\u001b[1;37m                                    ^\u001b[0m\n\u001b[1;31mSyntaxError\u001b[0m\u001b[1;31m:\u001b[0m invalid syntax\n"
     ]
    }
   ],
   "source": [
    "list1=[1,2,3,4,5,6]\n",
    "list(filter(lambda i:i if i%2==0: else i, list1))"
   ]
  },
  {
   "cell_type": "code",
   "execution_count": 69,
   "id": "b7185018",
   "metadata": {},
   "outputs": [
    {
     "name": "stdout",
     "output_type": "stream",
     "text": [
      "1 odd\n",
      "2 even\n",
      "3 odd\n",
      "4 even\n",
      "5 odd\n",
      "6 even\n"
     ]
    }
   ],
   "source": [
    "list1=[1,2,3,4,5,6]\n",
    "for i in list1:\n",
    "    if i%2==0:\n",
    "        print(i,'even')\n",
    "    else:\n",
    "        print(i,'odd')"
   ]
  },
  {
   "cell_type": "code",
   "execution_count": 80,
   "id": "af0965c4",
   "metadata": {},
   "outputs": [
    {
     "data": {
      "text/plain": [
       "[{1: 'odd'}, {2: 'even'}, {3: 'odd'}, {4: 'even'}, {5: 'odd'}, {6: 'even'}]"
      ]
     },
     "execution_count": 80,
     "metadata": {},
     "output_type": "execute_result"
    }
   ],
   "source": [
    "list(map(lambda i:{i:'even'} if i%2==0 else {i:'odd'}, list1))"
   ]
  },
  {
   "cell_type": "code",
   "execution_count": null,
   "id": "d2faff61",
   "metadata": {},
   "outputs": [],
   "source": []
  }
 ],
 "metadata": {
  "kernelspec": {
   "display_name": "Python 3 (ipykernel)",
   "language": "python",
   "name": "python3"
  },
  "language_info": {
   "codemirror_mode": {
    "name": "ipython",
    "version": 3
   },
   "file_extension": ".py",
   "mimetype": "text/x-python",
   "name": "python",
   "nbconvert_exporter": "python",
   "pygments_lexer": "ipython3",
   "version": "3.11.5"
  }
 },
 "nbformat": 4,
 "nbformat_minor": 5
}
