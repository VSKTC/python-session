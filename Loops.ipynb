{
 "cells": [
  {
   "cell_type": "code",
   "execution_count": 1,
   "id": "28d3c060",
   "metadata": {},
   "outputs": [
    {
     "name": "stdout",
     "output_type": "stream",
     "text": [
      "Enter a number:5\n",
      "Odd\n"
     ]
    }
   ],
   "source": [
    "n=eval(input(\"Enter a number:\"))\n",
    "if n%2==0:\n",
    "    print(\"Even\")\n",
    "else:\n",
    "    print(\"Odd\")"
   ]
  },
  {
   "cell_type": "code",
   "execution_count": null,
   "id": "b8a9ac87",
   "metadata": {},
   "outputs": [],
   "source": []
  },
  {
   "cell_type": "code",
   "execution_count": 5,
   "id": "caf30c56",
   "metadata": {},
   "outputs": [
    {
     "name": "stdout",
     "output_type": "stream",
     "text": [
      "10 Even\n",
      "11 Odd\n",
      "12 Even\n",
      "13 Odd\n",
      "14 Even\n",
      "15 Odd\n",
      "16 Even\n",
      "17 Odd\n",
      "18 Even\n",
      "19 Odd\n",
      "20 Even\n",
      "21 Odd\n",
      "22 Even\n",
      "23 Odd\n",
      "24 Even\n",
      "25 Odd\n",
      "26 Even\n",
      "27 Odd\n",
      "28 Even\n",
      "29 Odd\n",
      "30 Even\n",
      "31 Odd\n",
      "32 Even\n",
      "33 Odd\n",
      "34 Even\n",
      "35 Odd\n",
      "36 Even\n",
      "37 Odd\n",
      "38 Even\n",
      "39 Odd\n"
     ]
    }
   ],
   "source": [
    "for i in range(10,40):\n",
    "    if i%2==0:\n",
    "        print(\"{} Even\".format(i))\n",
    "    else:\n",
    "        print(\"{} Odd\".format(i))\n"
   ]
  },
  {
   "cell_type": "code",
   "execution_count": 9,
   "id": "db7c154b",
   "metadata": {},
   "outputs": [],
   "source": [
    "def even_odd(a,b):\n",
    "    try:\n",
    "        for i in range(a,b):\n",
    "            if i%2==0:\n",
    "                print(\"{} Even\".format(i))\n",
    "            else:\n",
    "                print(\"{} Odd\".format(i))\n",
    "    except Exception as e:\n",
    "        print(e)\n"
   ]
  },
  {
   "cell_type": "code",
   "execution_count": 8,
   "id": "bf27a9a6",
   "metadata": {},
   "outputs": [
    {
     "name": "stdout",
     "output_type": "stream",
     "text": [
      "10 Even\n",
      "11 Odd\n",
      "12 Even\n",
      "13 Odd\n",
      "14 Even\n",
      "15 Odd\n",
      "16 Even\n",
      "17 Odd\n",
      "18 Even\n",
      "19 Odd\n",
      "20 Even\n",
      "21 Odd\n",
      "22 Even\n",
      "23 Odd\n",
      "24 Even\n",
      "25 Odd\n",
      "26 Even\n",
      "27 Odd\n",
      "28 Even\n",
      "29 Odd\n",
      "30 Even\n",
      "31 Odd\n",
      "32 Even\n",
      "33 Odd\n",
      "34 Even\n",
      "35 Odd\n",
      "36 Even\n",
      "37 Odd\n",
      "38 Even\n",
      "39 Odd\n"
     ]
    }
   ],
   "source": [
    "even_odd()"
   ]
  },
  {
   "cell_type": "code",
   "execution_count": 10,
   "id": "da47cdc2",
   "metadata": {},
   "outputs": [
    {
     "name": "stdout",
     "output_type": "stream",
     "text": [
      "10 Even\n",
      "11 Odd\n",
      "12 Even\n",
      "13 Odd\n",
      "14 Even\n",
      "15 Odd\n",
      "16 Even\n",
      "17 Odd\n",
      "18 Even\n",
      "19 Odd\n"
     ]
    }
   ],
   "source": [
    "even_odd(10,20)"
   ]
  },
  {
   "cell_type": "code",
   "execution_count": 18,
   "id": "10288c13",
   "metadata": {},
   "outputs": [
    {
     "name": "stdout",
     "output_type": "stream",
     "text": [
      "10 Even\n",
      "11 Odd\n",
      "12 Even\n",
      "13 Odd\n",
      "14 Even\n"
     ]
    }
   ],
   "source": [
    "def even_odd(start,stop):\n",
    "    try:\n",
    "        for i in range(start,stop):\n",
    "            if i%2==0:\n",
    "                print(\"{} Even\".format(i))\n",
    "            else:\n",
    "                print(\"{} Odd\".format(i))\n",
    "    except Exception as e:\n",
    "        print(e)\n",
    "even_odd(10,15)"
   ]
  },
  {
   "cell_type": "code",
   "execution_count": 19,
   "id": "857f0a10",
   "metadata": {},
   "outputs": [
    {
     "name": "stdout",
     "output_type": "stream",
     "text": [
      " enter start value:5\n",
      " enter stop value:10\n",
      "5 Odd\n",
      "6 Even\n",
      "7 Odd\n",
      "8 Even\n",
      "9 Odd\n"
     ]
    }
   ],
   "source": [
    "#Global variable\n",
    "start= eval( input(\" enter start value:\"))\n",
    "stop= eval( input(\" enter stop value:\"))\n",
    "def even_odd():\n",
    "    try:\n",
    "        for i in range(start,stop):\n",
    "            if i%2==0:\n",
    "                print(\"{} Even\".format(i))\n",
    "            else:\n",
    "                print(\"{} Odd\".format(i))\n",
    "    except Exception as e:\n",
    "        print(e)\n",
    "even_odd()"
   ]
  },
  {
   "cell_type": "code",
   "execution_count": 24,
   "id": "aefe10ab",
   "metadata": {},
   "outputs": [
    {
     "name": "stdout",
     "output_type": "stream",
     "text": [
      " enter start value:1\n",
      " enter stop value:5\n",
      "1 Odd\n",
      "2 Even\n",
      "3 Odd\n",
      "4 Even\n"
     ]
    }
   ],
   "source": [
    "# function in function\n",
    "def get_values():\n",
    "    start= eval( input(\" enter start value:\"))\n",
    "    stop= eval( input(\" enter stop value:\"))\n",
    "    return(start,stop)\n",
    "\n",
    "def even_odd():\n",
    "    try:\n",
    "        start,stop=get_values()\n",
    "        for i in range(start,stop):\n",
    "            if i%2==0:\n",
    "                print(\"{} Even\".format(i))\n",
    "            else:\n",
    "                print(\"{} Odd\".format(i))\n",
    "    except Exception as e:\n",
    "        print(e)\n",
    "even_odd()"
   ]
  },
  {
   "cell_type": "code",
   "execution_count": 25,
   "id": "b728671b",
   "metadata": {},
   "outputs": [
    {
     "name": "stdout",
     "output_type": "stream",
     "text": [
      " enter start value:2\n",
      " enter stop value:5\n",
      "2 Even\n",
      "3 Odd\n",
      "4 Even\n"
     ]
    }
   ],
   "source": [
    "# function in function\n",
    "def get_values():\n",
    "    start= eval( input(\" enter start value:\"))\n",
    "    stop= eval( input(\" enter stop value:\"))\n",
    "    return(start,stop)\n",
    "\n",
    "def even_odd():\n",
    "    try:\n",
    "        n1,n2=get_values()\n",
    "        for i in range(n1,n2):\n",
    "            if i%2==0:\n",
    "                print(\"{} Even\".format(i))\n",
    "            else:\n",
    "                print(\"{} Odd\".format(i))\n",
    "    except Exception as e:\n",
    "        print(e)\n",
    "even_odd()"
   ]
  },
  {
   "cell_type": "code",
   "execution_count": 27,
   "id": "567a431e",
   "metadata": {},
   "outputs": [
    {
     "data": {
      "text/plain": [
       "(10, 20)"
      ]
     },
     "execution_count": 27,
     "metadata": {},
     "output_type": "execute_result"
    }
   ],
   "source": [
    "def v():\n",
    "    n1=10\n",
    "    n2=20\n",
    "    return(n1,n2)\n",
    "n1,n2=v()\n",
    "n1,n2"
   ]
  },
  {
   "cell_type": "code",
   "execution_count": null,
   "id": "fc57a41f",
   "metadata": {},
   "outputs": [],
   "source": []
  },
  {
   "cell_type": "code",
   "execution_count": 29,
   "id": "81db85af",
   "metadata": {},
   "outputs": [
    {
     "name": "stdout",
     "output_type": "stream",
     "text": [
      "hai\n",
      "hello\n",
      "good morning\n",
      "good morning\n",
      "good morning\n",
      "bye\n"
     ]
    }
   ],
   "source": [
    "print(\"hai\")\n",
    "print(\"hello\")\n",
    "for i in range(3):\n",
    "    print(\"good\",end=\" \")\n",
    "    print(\"morning\")\n",
    "    \n",
    "print(\"bye\")"
   ]
  },
  {
   "cell_type": "code",
   "execution_count": 40,
   "id": "a584c0df",
   "metadata": {},
   "outputs": [
    {
     "name": "stdout",
     "output_type": "stream",
     "text": [
      "75 Odd \n",
      "13 Odd \n",
      "84 Even \n",
      "60 Even \n",
      "19 Odd \n",
      "29 Odd \n",
      "63 Odd \n",
      "98 Even \n",
      "23 Odd \n",
      "65 Odd \n"
     ]
    }
   ],
   "source": [
    "import random\n",
    "for i in range(10):\n",
    "    n=random.randint(1,100)\n",
    "    if n%2==0:\n",
    "        print(\"{} Even \".format(n))\n",
    "    else:\n",
    "        print(\"{} Odd \".format(n))"
   ]
  },
  {
   "cell_type": "code",
   "execution_count": 41,
   "id": "31126f40",
   "metadata": {},
   "outputs": [
    {
     "name": "stdout",
     "output_type": "stream",
     "text": [
      "94 Even \n",
      "92 Even \n",
      "52 Even \n",
      "17 Odd \n",
      "86 Even \n",
      "46 Even \n",
      "95 Odd \n",
      "46 Even \n",
      "42 Even \n",
      "51 Odd \n"
     ]
    }
   ],
   "source": [
    "for i in range(10):\n",
    "    n=random.randint(1,100)\n",
    "    if n%2==0:\n",
    "        print(\"{} Even \".format(n))\n",
    "    else:\n",
    "        print(\"{} Odd \".format(n))"
   ]
  },
  {
   "cell_type": "code",
   "execution_count": 49,
   "id": "3c677a6c",
   "metadata": {},
   "outputs": [
    {
     "name": "stdout",
     "output_type": "stream",
     "text": [
      "Enter a number :5\n",
      "You Lost\n",
      "Enter a number :6\n",
      "You Lost\n",
      "Enter a number :4\n",
      "You Lost\n"
     ]
    }
   ],
   "source": [
    "import random\n",
    "n1=random.randint(1,100)\n",
    "for i in range(3):\n",
    "    n2=eval(input(\"Enter a number :\"))\n",
    "    if n1==n2:\n",
    "        print(\"You Won\")\n",
    "    else:\n",
    "        print(\"You Lost\")"
   ]
  },
  {
   "cell_type": "code",
   "execution_count": 77,
   "id": "074c000f",
   "metadata": {},
   "outputs": [
    {
     "name": "stdout",
     "output_type": "stream",
     "text": [
      "Enter chances :2\n",
      "Enter a number :2\n",
      "You Lost\n",
      "Only 1 left\n",
      "Enter a number :3\n",
      "You Lost\n",
      "Only 0 left\n",
      "Your all chances are over Better luck Next Time \n"
     ]
    }
   ],
   "source": [
    "import random\n",
    "num=eval(input(\"Enter chances :\"))\n",
    "n1=random.randint(1,20)\n",
    "for i in range(num):\n",
    "    n2=eval(input(\"Enter a number :\"))\n",
    "    if n1==n2:\n",
    "        print(\"You Won\")\n",
    "        break\n",
    "    else:\n",
    "        print(\"You Lost\")\n",
    "        print(\"Only {} left\".format(num-1-i))\n",
    "print(\"Your all chances are over Better luck Next Time \")"
   ]
  },
  {
   "cell_type": "code",
   "execution_count": null,
   "id": "9e141f83",
   "metadata": {},
   "outputs": [],
   "source": [
    "#-------------------Case-1: Guss program----------\n",
    "#case-2: No of chances printing\n",
    "#c-3:take chances from use\n",
    "#c-4:when chances are over better than next time\n",
    "#c-5:"
   ]
  },
  {
   "cell_type": "code",
   "execution_count": 79,
   "id": "30bcd866",
   "metadata": {},
   "outputs": [
    {
     "name": "stdout",
     "output_type": "stream",
     "text": [
      "Enter chances :1\n",
      "Enter a number :2\n",
      "You Lost\n",
      "Only 0 left\n",
      "Your all chances are over Better luck Next Time \n"
     ]
    }
   ],
   "source": [
    "import random\n",
    "num=eval(input(\"Enter chances :\"))\n",
    "n1=random.randint(1,20)\n",
    "for i in range(num):\n",
    "    n2=eval(input(\"Enter a number :\"))\n",
    "    if n1==n2:\n",
    "        print(\"You Won\")\n",
    "    elif \n",
    "        break\n",
    "    else:\n",
    "        print(\"You Lost\")\n",
    "        print(\"Only {} left\".format(num-1-i))\n",
    "print(\"Your all chances are over Better luck Next Time \")"
   ]
  },
  {
   "cell_type": "code",
   "execution_count": null,
   "id": "21e38434",
   "metadata": {},
   "outputs": [],
   "source": []
  },
  {
   "cell_type": "code",
   "execution_count": null,
   "id": "617602d3",
   "metadata": {},
   "outputs": [],
   "source": []
  }
 ],
 "metadata": {
  "kernelspec": {
   "display_name": "Python 3 (ipykernel)",
   "language": "python",
   "name": "python3"
  },
  "language_info": {
   "codemirror_mode": {
    "name": "ipython",
    "version": 3
   },
   "file_extension": ".py",
   "mimetype": "text/x-python",
   "name": "python",
   "nbconvert_exporter": "python",
   "pygments_lexer": "ipython3",
   "version": "3.11.5"
  }
 },
 "nbformat": 4,
 "nbformat_minor": 5
}
