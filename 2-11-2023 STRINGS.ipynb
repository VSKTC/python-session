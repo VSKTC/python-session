{
 "cells": [
  {
   "cell_type": "code",
   "execution_count": null,
   "id": "dac64f97",
   "metadata": {},
   "outputs": [],
   "source": [
    "How to read the string\n",
    "''single quotes\n",
    "\" \" \n",
    "\"\"\" \"\"\"\n",
    "type\n",
    "len\n",
    "max\n",
    "min\n",
    "+ : concatination\n",
    "- : minus\n",
    "*\n",
    "/"
   ]
  },
  {
   "cell_type": "code",
   "execution_count": 3,
   "id": "5b8d94bd",
   "metadata": {},
   "outputs": [],
   "source": [
    "string1='hello'\n",
    "string2='Python'"
   ]
  },
  {
   "cell_type": "code",
   "execution_count": 4,
   "id": "d1e9f77a",
   "metadata": {},
   "outputs": [
    {
     "data": {
      "text/plain": [
       "'helloPython'"
      ]
     },
     "execution_count": 4,
     "metadata": {},
     "output_type": "execute_result"
    }
   ],
   "source": [
    "string1+string2"
   ]
  },
  {
   "cell_type": "code",
   "execution_count": 5,
   "id": "d1a2a74d",
   "metadata": {},
   "outputs": [
    {
     "data": {
      "text/plain": [
       "'hellohello'"
      ]
     },
     "execution_count": 5,
     "metadata": {},
     "output_type": "execute_result"
    }
   ],
   "source": [
    "2*string1"
   ]
  },
  {
   "cell_type": "markdown",
   "id": "260f5e1d",
   "metadata": {},
   "source": [
    "# indexing "
   ]
  },
  {
   "cell_type": "code",
   "execution_count": 7,
   "id": "b5505826",
   "metadata": {},
   "outputs": [],
   "source": [
    "name='Python'"
   ]
  },
  {
   "cell_type": "code",
   "execution_count": null,
   "id": "19855f5b",
   "metadata": {},
   "outputs": [],
   "source": [
    "# how many letters are there 6\n",
    "# python index start with 0\n",
    "p y t h o n\n",
    "0 1 2 3 4 5"
   ]
  },
  {
   "cell_type": "code",
   "execution_count": 8,
   "id": "55c4a15e",
   "metadata": {},
   "outputs": [
    {
     "data": {
      "text/plain": [
       "'P'"
      ]
     },
     "execution_count": 8,
     "metadata": {},
     "output_type": "execute_result"
    }
   ],
   "source": [
    "name[0]"
   ]
  },
  {
   "cell_type": "code",
   "execution_count": 9,
   "id": "e84190f7",
   "metadata": {},
   "outputs": [
    {
     "data": {
      "text/plain": [
       "'y'"
      ]
     },
     "execution_count": 9,
     "metadata": {},
     "output_type": "execute_result"
    }
   ],
   "source": [
    "name[1]"
   ]
  },
  {
   "cell_type": "code",
   "execution_count": 10,
   "id": "ac4348bb",
   "metadata": {},
   "outputs": [
    {
     "data": {
      "text/plain": [
       "'t'"
      ]
     },
     "execution_count": 10,
     "metadata": {},
     "output_type": "execute_result"
    }
   ],
   "source": [
    "name[2]"
   ]
  },
  {
   "cell_type": "code",
   "execution_count": 13,
   "id": "12e3e255",
   "metadata": {},
   "outputs": [
    {
     "data": {
      "text/plain": [
       "'h'"
      ]
     },
     "execution_count": 13,
     "metadata": {},
     "output_type": "execute_result"
    }
   ],
   "source": [
    "name[3]"
   ]
  },
  {
   "cell_type": "code",
   "execution_count": 11,
   "id": "d2c0854d",
   "metadata": {},
   "outputs": [
    {
     "data": {
      "text/plain": [
       "'o'"
      ]
     },
     "execution_count": 11,
     "metadata": {},
     "output_type": "execute_result"
    }
   ],
   "source": [
    "name[4]"
   ]
  },
  {
   "cell_type": "code",
   "execution_count": 12,
   "id": "a208e609",
   "metadata": {},
   "outputs": [
    {
     "data": {
      "text/plain": [
       "'n'"
      ]
     },
     "execution_count": 12,
     "metadata": {},
     "output_type": "execute_result"
    }
   ],
   "source": [
    "name[5]"
   ]
  },
  {
   "cell_type": "code",
   "execution_count": 14,
   "id": "45bfd4ee",
   "metadata": {},
   "outputs": [
    {
     "name": "stdout",
     "output_type": "stream",
     "text": [
      "Python"
     ]
    }
   ],
   "source": [
    "# how to print any word/ sentence by using range method\n",
    "for i in range(6):\n",
    "    print(name[i],end='')\n",
    "# iter1: i=0 name[0] p\n",
    "# iter2: i=1 name[1] y"
   ]
  },
  {
   "cell_type": "code",
   "execution_count": 15,
   "id": "72fda7a7",
   "metadata": {},
   "outputs": [
    {
     "name": "stdout",
     "output_type": "stream",
     "text": [
      "P\n",
      "y\n",
      "t\n",
      "h\n",
      "o\n",
      "n\n"
     ]
    }
   ],
   "source": [
    "for i in range(6):\n",
    "    print(name[i])"
   ]
  },
  {
   "cell_type": "markdown",
   "id": "ffb7f719",
   "metadata": {},
   "source": [
    "### Error :string out of range"
   ]
  },
  {
   "cell_type": "code",
   "execution_count": 16,
   "id": "e3fdf776",
   "metadata": {},
   "outputs": [
    {
     "name": "stdout",
     "output_type": "stream",
     "text": [
      "p\n",
      "y\n",
      "t\n",
      "h\n",
      "o\n",
      "n\n"
     ]
    },
    {
     "ename": "IndexError",
     "evalue": "string index out of range",
     "output_type": "error",
     "traceback": [
      "\u001b[1;31m---------------------------------------------------------------------------\u001b[0m",
      "\u001b[1;31mIndexError\u001b[0m                                Traceback (most recent call last)",
      "Cell \u001b[1;32mIn[16], line 3\u001b[0m\n\u001b[0;32m      1\u001b[0m name\u001b[38;5;241m=\u001b[39m\u001b[38;5;124m'\u001b[39m\u001b[38;5;124mpython\u001b[39m\u001b[38;5;124m'\u001b[39m\n\u001b[0;32m      2\u001b[0m \u001b[38;5;28;01mfor\u001b[39;00m i \u001b[38;5;129;01min\u001b[39;00m \u001b[38;5;28mrange\u001b[39m(\u001b[38;5;241m7\u001b[39m):\n\u001b[1;32m----> 3\u001b[0m     \u001b[38;5;28mprint\u001b[39m(name[i])\n",
      "\u001b[1;31mIndexError\u001b[0m: string index out of range"
     ]
    }
   ],
   "source": [
    "name='python'\n",
    "for i in range(7):\n",
    "    print(name[i])"
   ]
  },
  {
   "cell_type": "code",
   "execution_count": 21,
   "id": "6a71b388",
   "metadata": {},
   "outputs": [
    {
     "name": "stdout",
     "output_type": "stream",
     "text": [
      "17\n",
      "hello how are you"
     ]
    }
   ],
   "source": [
    "name1='hello how are you'\n",
    "# space also consider one character\n",
    "print(len(name1))\n",
    "for i in range(len(name1)):\n",
    "    print(name1[i],end='')"
   ]
  },
  {
   "cell_type": "code",
   "execution_count": null,
   "id": "761fd3d1",
   "metadata": {},
   "outputs": [],
   "source": [
    "# wap ask the user print letter given using for loop\n",
    "# the index of p is : 0\n",
    "# the index of y is : 1"
   ]
  },
  {
   "cell_type": "code",
   "execution_count": 22,
   "id": "167a9176",
   "metadata": {},
   "outputs": [
    {
     "name": "stdout",
     "output_type": "stream",
     "text": [
      "6\n",
      "the index of p is : 0\n",
      "the index of y is : 1\n",
      "the index of t is : 2\n",
      "the index of h is : 3\n",
      "the index of o is : 4\n",
      "the index of n is : 5\n"
     ]
    }
   ],
   "source": [
    "name1='python'\n",
    "# space also consider one character\n",
    "print(len(name1))\n",
    "for i in range(len(name1)):\n",
    "    print(\"the index of {} is : {}\".format(name1[i],i))"
   ]
  },
  {
   "cell_type": "code",
   "execution_count": 26,
   "id": "f111612c",
   "metadata": {},
   "outputs": [
    {
     "name": "stdout",
     "output_type": "stream",
     "text": [
      "the index of p is : 0\n",
      "the index of y is : 1\n",
      "the index of t is : 2\n",
      "the index of h is : 3\n",
      "the index of o is : 4\n",
      "the index of n is : 5\n"
     ]
    }
   ],
   "source": [
    "name1='python'\n",
    "i=0\n",
    "while i<len(name1):\n",
    "    print(\"the index of {} is : {}\".format(name1[i],i))\n",
    "    i=i+1"
   ]
  },
  {
   "cell_type": "code",
   "execution_count": null,
   "id": "d2c8d890",
   "metadata": {},
   "outputs": [],
   "source": [
    "-6-5-4-3-2-1\n",
    "p y t h o n\n",
    "0 1 2 3 4 5===> +ve index"
   ]
  },
  {
   "cell_type": "code",
   "execution_count": 28,
   "id": "58f14853",
   "metadata": {},
   "outputs": [
    {
     "data": {
      "text/plain": [
       "'o'"
      ]
     },
     "execution_count": 28,
     "metadata": {},
     "output_type": "execute_result"
    }
   ],
   "source": [
    "name[-2]"
   ]
  },
  {
   "cell_type": "code",
   "execution_count": 32,
   "id": "cace729d",
   "metadata": {},
   "outputs": [
    {
     "name": "stdout",
     "output_type": "stream",
     "text": [
      "the index of p is : -6\n",
      "the index of y is : -5\n",
      "the index of t is : -4\n",
      "the index of h is : -3\n",
      "the index of o is : -2\n",
      "the index of n is : -1\n"
     ]
    }
   ],
   "source": [
    "name1='python'\n",
    "for i in range(len(name1)): \n",
    "    print(\"the index of {} is : {}\".format(name1[i],i-len(name1)))"
   ]
  },
  {
   "cell_type": "code",
   "execution_count": 40,
   "id": "0c944914",
   "metadata": {},
   "outputs": [
    {
     "name": "stdout",
     "output_type": "stream",
     "text": [
      "the index of p is : -6\n",
      "the index of y is : -5\n",
      "the index of t is : -4\n",
      "the index of h is : -3\n",
      "the index of o is : -2\n",
      "the index of n is : -1\n"
     ]
    }
   ],
   "source": [
    "name1='python'\n",
    "for i in range(len(name1)): \n",
    "    print(\"the index of {} is : {}\".format(name1[i],i-6))"
   ]
  },
  {
   "cell_type": "code",
   "execution_count": 38,
   "id": "3f15f2cc",
   "metadata": {},
   "outputs": [
    {
     "name": "stdout",
     "output_type": "stream",
     "text": [
      "the index of p is : -6\n",
      "the index of y is : -5\n",
      "the index of t is : -4\n",
      "the index of h is : -3\n",
      "the index of o is : -2\n",
      "the index of n is : -1\n"
     ]
    }
   ],
   "source": [
    "name1='python'\n",
    "for i in range(-len(name1),0): \n",
    "    print(\"the index of {} is : {}\".format(name1[i],i))"
   ]
  },
  {
   "cell_type": "code",
   "execution_count": 42,
   "id": "88acfc76",
   "metadata": {},
   "outputs": [
    {
     "name": "stdout",
     "output_type": "stream",
     "text": [
      "the index of p is : -6\n",
      "the index of y is : -5\n",
      "the index of t is : -4\n",
      "the index of h is : -3\n",
      "the index of o is : -2\n",
      "the index of n is : -1\n"
     ]
    }
   ],
   "source": [
    "i=0\n",
    "while i<len(name1):\n",
    "    print(\"the index of {} is : {}\".format(name1[i],i-len(name1)))\n",
    "    i+=1"
   ]
  },
  {
   "cell_type": "code",
   "execution_count": 52,
   "id": "188c91c4",
   "metadata": {},
   "outputs": [
    {
     "name": "stdout",
     "output_type": "stream",
     "text": [
      "the index of p is : -6\n",
      "the index of y is : -5\n",
      "the index of t is : -4\n",
      "the index of h is : -3\n",
      "the index of o is : -2\n",
      "the index of n is : -1\n"
     ]
    }
   ],
   "source": [
    "i=-6\n",
    "while i<len(name1):\n",
    "    print(\"the index of {} is : {}\".format(name1[i],i))\n",
    "    i+=1\n",
    "    if i==0:\n",
    "        break"
   ]
  },
  {
   "cell_type": "code",
   "execution_count": 61,
   "id": "1b7c6e10",
   "metadata": {},
   "outputs": [
    {
     "name": "stdout",
     "output_type": "stream",
     "text": [
      "the index of p is : -6\n",
      "the index of y is : -5\n",
      "the index of t is : -4\n",
      "the index of h is : -3\n",
      "the index of o is : -2\n",
      "the index of n is : -1\n"
     ]
    }
   ],
   "source": [
    "name1='python'\n",
    "i=-len(name1)\n",
    "while i<0:\n",
    "    print(\"the index of {} is : {}\".format(name1[i],i))\n",
    "    i+=1"
   ]
  },
  {
   "cell_type": "code",
   "execution_count": 59,
   "id": "15ec0a49",
   "metadata": {},
   "outputs": [
    {
     "name": "stdout",
     "output_type": "stream",
     "text": [
      "the +ve index is 0 and negative index is -6 for p \n",
      "the +ve index is 1 and negative index is -5 for y \n",
      "the +ve index is 2 and negative index is -4 for t \n",
      "the +ve index is 3 and negative index is -3 for h \n",
      "the +ve index is 4 and negative index is -2 for o \n",
      "the +ve index is 5 and negative index is -1 for n \n"
     ]
    }
   ],
   "source": [
    "name1='python'\n",
    "for i in range(len(name1)): \n",
    "    print(\"the +ve index is {} and negative index is {} for {} \".format(i,i-len(name1),name1[i]))"
   ]
  },
  {
   "cell_type": "code",
   "execution_count": 69,
   "id": "48e4c074",
   "metadata": {},
   "outputs": [
    {
     "name": "stdout",
     "output_type": "stream",
     "text": [
      "'goat'\n",
      "the +ve index is 0 and negative index is -4 for g \n",
      "the +ve index is 1 and negative index is -3 for o \n",
      "the +ve index is 2 and negative index is -2 for a \n",
      "the +ve index is 3 and negative index is -1 for t \n"
     ]
    }
   ],
   "source": [
    "name1=eval(input())\n",
    "i=0\n",
    "while i<len(name1):\n",
    "    print(\"the +ve index is {} and negative index is {} for {} \".format(i,i-len(name1),name1[i]))\n",
    "    i+=1"
   ]
  },
  {
   "cell_type": "code",
   "execution_count": 73,
   "id": "e79e15ef",
   "metadata": {},
   "outputs": [
    {
     "name": "stdout",
     "output_type": "stream",
     "text": [
      "'hello'\n",
      "the +ve index is 0 and negative index is -5 for h \n",
      "the +ve index is 1 and negative index is -4 for e \n",
      "the +ve index is 2 and negative index is -3 for l \n",
      "the +ve index is 3 and negative index is -2 for l \n",
      "the +ve index is 4 and negative index is -1 for o \n"
     ]
    }
   ],
   "source": [
    "name1=eval(input())\n",
    "i=-len(name1)\n",
    "while i<0:\n",
    "    print(\"the +ve index is {} and negative index is {} for {} \".format(i+len(name1),i,name1[i]))\n",
    "    i+=1"
   ]
  },
  {
   "cell_type": "code",
   "execution_count": 93,
   "id": "ed0ddda3",
   "metadata": {},
   "outputs": [
    {
     "name": "stdout",
     "output_type": "stream",
     "text": [
      "h\n",
      "a\n",
      "i\n",
      " \n",
      "h\n",
      "o\n",
      "w\n",
      " \n",
      "a\n",
      "r\n",
      "e\n",
      " \n",
      "y\n",
      "o\n",
      "u\n",
      "there are : 2 a's\n"
     ]
    }
   ],
   "source": [
    "sent='hai how are you'\n",
    "#Q1 print how many a's are there:3\n",
    "#Q2 print the index of 'a':\n",
    "#Q3 pri\n",
    "#Q3 print the number of unique:1\n",
    "count=0\n",
    "for i in range(len(sent)):\n",
    "    print(sent[i])\n",
    "    if sent[i]=='a':\n",
    "        count=count+1\n",
    "print(\"there are : {} a's\".format(count))"
   ]
  },
  {
   "cell_type": "code",
   "execution_count": 100,
   "id": "e8ab4bb9",
   "metadata": {},
   "outputs": [
    {
     "name": "stdout",
     "output_type": "stream",
     "text": [
      "1\n",
      "8\n",
      "there are : 2 a's\n"
     ]
    }
   ],
   "source": [
    "sent='hai how are you'\n",
    "#Q1 print how many a's are there:3\n",
    "#Q2 print the index of 'a':\n",
    "#Q3 pri\n",
    "#Q3 print the number of unique:1\n",
    "count=0\n",
    "for i in range(len(sent)):\n",
    "    if sent[i]=='a':\n",
    "        count=count+1\n",
    "        print(i)\n",
    "print(\"there are : {} a's\".format(count))"
   ]
  },
  {
   "cell_type": "code",
   "execution_count": 101,
   "id": "448b883c",
   "metadata": {},
   "outputs": [
    {
     "name": "stdout",
     "output_type": "stream",
     "text": [
      "a\n",
      "a\n"
     ]
    }
   ],
   "source": [
    "sent='hai how are you'\n",
    "#Q1 print how many a's are there:3\n",
    "#Q2 print the index of 'a':\n",
    "#Q3 pri\n",
    "#Q3 print the number of unique:1\n",
    "count=0\n",
    "for i in range(len(sent)):\n",
    "    if sent[i]=='a':\n",
    "        print(sent[i])"
   ]
  },
  {
   "cell_type": "code",
   "execution_count": 1,
   "id": "8dd5919b",
   "metadata": {},
   "outputs": [
    {
     "name": "stdout",
     "output_type": "stream",
     "text": [
      "a\n",
      "i\n",
      "a\n",
      "i\n",
      "o\n",
      "a\n",
      "e\n",
      "o\n",
      "u\n",
      "aioeu\n"
     ]
    }
   ],
   "source": [
    "string=''\n",
    "sent='hai hai how are you'\n",
    "for i in range(len(sent)):\n",
    "    if sent[i] in ('aeiou'):\n",
    "        print(sent[i])\n",
    "        if sent[i] not in string:\n",
    "            \n",
    "            string=string+sent[i]\n",
    "print(string)\n",
    "            "
   ]
  },
  {
   "cell_type": "code",
   "execution_count": null,
   "id": "348b8558",
   "metadata": {},
   "outputs": [],
   "source": [
    "How to read the list\n",
    "single/double quotes\n",
    "triple \"\"\"  \"\"\"\n",
    "type len max min \n",
    "concatination addition of strings+\n",
    "index operations\n",
    "How to iterate char letter for using  range function\n",
    "we also learn while loop\n",
    "+ve/-ve both combine\n",
    "counting the number of 'a'\n",
    "index of 'a'\n",
    "no of vowels\n",
    "no of uniques"
   ]
  },
  {
   "cell_type": "code",
   "execution_count": null,
   "id": "04fc6d9a",
   "metadata": {},
   "outputs": [],
   "source": []
  }
 ],
 "metadata": {
  "kernelspec": {
   "display_name": "Python 3 (ipykernel)",
   "language": "python",
   "name": "python3"
  },
  "language_info": {
   "codemirror_mode": {
    "name": "ipython",
    "version": 3
   },
   "file_extension": ".py",
   "mimetype": "text/x-python",
   "name": "python",
   "nbconvert_exporter": "python",
   "pygments_lexer": "ipython3",
   "version": "3.11.5"
  }
 },
 "nbformat": 4,
 "nbformat_minor": 5
}
