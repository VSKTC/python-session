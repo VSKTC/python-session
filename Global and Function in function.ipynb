{
 "cells": [
  {
   "cell_type": "code",
   "execution_count": 1,
   "id": "226752d8",
   "metadata": {},
   "outputs": [],
   "source": [
    "a=20\n",
    "\n",
    "def val():\n",
    "    a=30\n",
    "    print(\"The value of a :\", a)"
   ]
  },
  {
   "cell_type": "code",
   "execution_count": 4,
   "id": "346c5c9f",
   "metadata": {},
   "outputs": [
    {
     "name": "stdout",
     "output_type": "stream",
     "text": [
      "The value of a : 30\n"
     ]
    }
   ],
   "source": [
    "val()"
   ]
  },
  {
   "cell_type": "code",
   "execution_count": 3,
   "id": "62120373",
   "metadata": {},
   "outputs": [
    {
     "name": "stdout",
     "output_type": "stream",
     "text": [
      "20\n"
     ]
    }
   ],
   "source": [
    "print(a)\n",
    "\n",
    "# my main aim is a=30 without return\n",
    "# i want to use latest a value that is 30 outside the function\n",
    "# you need to convert local to global"
   ]
  },
  {
   "cell_type": "code",
   "execution_count": null,
   "id": "9bef44e6",
   "metadata": {},
   "outputs": [],
   "source": [
    "global keyword"
   ]
  },
  {
   "cell_type": "code",
   "execution_count": 5,
   "id": "269832a6",
   "metadata": {},
   "outputs": [],
   "source": [
    "a=20 # global variable\n",
    "\n",
    "def val():\n",
    "    global a\n",
    "    a=30\n",
    "    print(\"The value of a :\", a)"
   ]
  },
  {
   "cell_type": "code",
   "execution_count": 6,
   "id": "f269eea5",
   "metadata": {},
   "outputs": [
    {
     "name": "stdout",
     "output_type": "stream",
     "text": [
      "The value of a : 30\n"
     ]
    }
   ],
   "source": [
    "val()"
   ]
  },
  {
   "cell_type": "code",
   "execution_count": 7,
   "id": "db7ea706",
   "metadata": {},
   "outputs": [
    {
     "name": "stdout",
     "output_type": "stream",
     "text": [
      "30\n"
     ]
    }
   ],
   "source": [
    "print(a)"
   ]
  },
  {
   "cell_type": "code",
   "execution_count": 16,
   "id": "7b4d5b97",
   "metadata": {},
   "outputs": [
    {
     "name": "stdout",
     "output_type": "stream",
     "text": [
      "50\n"
     ]
    }
   ],
   "source": [
    "n1=30\n",
    "def add(n2,n3):\n",
    "    global n1\n",
    "    n1=n2+n3\n",
    "\n",
    "    \n",
    "add(20,30)\n",
    "print(n1)"
   ]
  },
  {
   "cell_type": "code",
   "execution_count": null,
   "id": "15e70e8b",
   "metadata": {},
   "outputs": [],
   "source": [
    "# i want to use n2 also use outside function call"
   ]
  },
  {
   "cell_type": "code",
   "execution_count": 19,
   "id": "9452ffb5",
   "metadata": {},
   "outputs": [
    {
     "name": "stdout",
     "output_type": "stream",
     "text": [
      "70\n",
      "30\n"
     ]
    }
   ],
   "source": [
    "n1=30\n",
    "def add(n2,n3):\n",
    "    global n1\n",
    "    n1=n2+n3\n",
    "    return(n2)\n",
    "    \n",
    "n2=add(30,40)\n",
    "print(n1)\n",
    "print(n2)"
   ]
  },
  {
   "cell_type": "code",
   "execution_count": null,
   "id": "f0e7a4cf",
   "metadata": {},
   "outputs": [],
   "source": [
    "# can i use g v as n2\n",
    "# parameters never become a global variable \n",
    "# that are always inside only"
   ]
  },
  {
   "cell_type": "code",
   "execution_count": 21,
   "id": "166b68e3",
   "metadata": {},
   "outputs": [
    {
     "ename": "SyntaxError",
     "evalue": "name 'n2' is parameter and global (1635580920.py, line 4)",
     "output_type": "error",
     "traceback": [
      "\u001b[1;36m  Cell \u001b[1;32mIn[21], line 4\u001b[1;36m\u001b[0m\n\u001b[1;33m    global n2\u001b[0m\n\u001b[1;37m    ^\u001b[0m\n\u001b[1;31mSyntaxError\u001b[0m\u001b[1;31m:\u001b[0m name 'n2' is parameter and global\n"
     ]
    }
   ],
   "source": [
    "n1=30\n",
    "def add(n2,n3):\n",
    "    global n1\n",
    "    global n2\n",
    "    n1=n2+n3    \n",
    "n2=add(30,40)\n",
    "print(n1)\n",
    "print(n2)"
   ]
  },
  {
   "cell_type": "code",
   "execution_count": 35,
   "id": "674927f1",
   "metadata": {},
   "outputs": [
    {
     "name": "stdout",
     "output_type": "stream",
     "text": [
      "70\n",
      "30\n"
     ]
    }
   ],
   "source": [
    "num1=30\n",
    "def add(num2,num3):\n",
    "    global num1\n",
    "    num1=num2+num3\n",
    "    return(num2)\n",
    "num2=add(30,40)\n",
    "print(num1)\n",
    "print(num2)"
   ]
  },
  {
   "cell_type": "code",
   "execution_count": 33,
   "id": "63ab947a",
   "metadata": {},
   "outputs": [
    {
     "name": "stdout",
     "output_type": "stream",
     "text": [
      "enter a number:20\n",
      "60\n",
      "20\n"
     ]
    }
   ],
   "source": [
    "n1=30\n",
    "def add(n3):\n",
    "    global n1,n2\n",
    "    n2=eval(input(\"enter a number:\"))\n",
    "    n1=n2+n3    \n",
    "add(40)\n",
    "print(n1)\n",
    "print(n2)"
   ]
  },
  {
   "cell_type": "code",
   "execution_count": null,
   "id": "603d6924",
   "metadata": {},
   "outputs": [],
   "source": [
    "# tip and total bill\n"
   ]
  },
  {
   "cell_type": "code",
   "execution_count": 41,
   "id": "ee751636",
   "metadata": {},
   "outputs": [
    {
     "name": "stdout",
     "output_type": "stream",
     "text": [
      "1050.0\n"
     ]
    }
   ],
   "source": [
    "bill=1000\n",
    "def t_bill(tip):\n",
    "    global t_bill\n",
    "    tip=bill*(tip/100)\n",
    "    t_bill=bill+tip\n",
    "t_bill(5)\n",
    "print(t_bill)\n",
    "    \n"
   ]
  },
  {
   "cell_type": "code",
   "execution_count": 45,
   "id": "06d69bb5",
   "metadata": {},
   "outputs": [
    {
     "name": "stdout",
     "output_type": "stream",
     "text": [
      "1030\n"
     ]
    }
   ],
   "source": [
    "bill=1000\n",
    "def t_bill(tip=30):\n",
    "    global t_bill\n",
    "    t_bill=bill+tip\n",
    "\n",
    "t_bill()    \n",
    "print(t_bill)"
   ]
  },
  {
   "cell_type": "markdown",
   "id": "55a73db9",
   "metadata": {},
   "source": [
    "# functions in functions"
   ]
  },
  {
   "cell_type": "code",
   "execution_count": 46,
   "id": "ab71915e",
   "metadata": {},
   "outputs": [
    {
     "name": "stdout",
     "output_type": "stream",
     "text": [
      "VSKT\n",
      "Hello Good Morning\n",
      "how do you do\n"
     ]
    }
   ],
   "source": [
    "def greet():\n",
    "    print(\"Hello Good Morning\")\n",
    "\n",
    "def hay():\n",
    "    print(\"VSKT\")\n",
    "    greet()\n",
    "    print(\"how do you do\")\n",
    "    \n",
    "hay()"
   ]
  },
  {
   "cell_type": "code",
   "execution_count": 49,
   "id": "f8f07a7b",
   "metadata": {},
   "outputs": [
    {
     "name": "stdout",
     "output_type": "stream",
     "text": [
      "How much 3+2?:\n",
      "good morning\n",
      "name\n",
      "I think I don't know\n",
      "end the story\n"
     ]
    }
   ],
   "source": [
    "def greet1():\n",
    "    print(\"name\")\n",
    "\n",
    "def greet2():\n",
    "    print(\"good morning\")\n",
    "    \n",
    "def greet3():\n",
    "    print(\"How much 3+2?:\")\n",
    "    \n",
    "def greet4():\n",
    "    print(\"I think I don't know\")\n",
    "    \n",
    "def solve():\n",
    "    greet3()\n",
    "    greet2()\n",
    "    greet1()\n",
    "    greet4()\n",
    "    print(\"end the story\")\n",
    "    \n",
    "solve()"
   ]
  },
  {
   "cell_type": "code",
   "execution_count": 51,
   "id": "a38cd830",
   "metadata": {},
   "outputs": [
    {
     "name": "stdout",
     "output_type": "stream",
     "text": [
      "How much 3+2?:\n",
      "good morning\n",
      "hello python\n",
      "I think I don't know\n",
      "end the story\n"
     ]
    }
   ],
   "source": [
    "def greet1(name):\n",
    "    print(\"hello\",name)\n",
    "\n",
    "def greet2():\n",
    "    print(\"good morning\")\n",
    "    \n",
    "def greet3():\n",
    "    print(\"How much 3+2?:\")\n",
    "    \n",
    "def greet4():\n",
    "    print(\"I think I don't know\")\n",
    "    \n",
    "def solve(name):\n",
    "    greet3()\n",
    "    greet2()\n",
    "    greet1(name)\n",
    "    greet4()\n",
    "    print(\"end the story\")\n",
    "    \n",
    "solve(\"python\")"
   ]
  },
  {
   "cell_type": "code",
   "execution_count": 56,
   "id": "b3ceb219",
   "metadata": {},
   "outputs": [
    {
     "name": "stdout",
     "output_type": "stream",
     "text": [
      "How much 3+2?: 8\n",
      "good morning sunil\n",
      "hello python\n",
      "I think I don't know\n",
      "end the story\n"
     ]
    }
   ],
   "source": [
    "def greet1(name):\n",
    "    print(\"hello\",name)\n",
    "\n",
    "def greet2(name1):\n",
    "    print(\"good morning\",name1)\n",
    "    \n",
    "def greet3(val):\n",
    "    print(\"How much 3+2?:\",val)\n",
    "    \n",
    "def greet4():\n",
    "    print(\"I think I don't know\")\n",
    "    \n",
    "def solve(val,name,name1):\n",
    "    greet3(val)\n",
    "    greet2(name1)\n",
    "    greet1(name)\n",
    "    greet4()\n",
    "    print(\"end the story\")\n",
    "    \n",
    "solve(8,\"python\",\"sunil\")"
   ]
  },
  {
   "cell_type": "code",
   "execution_count": null,
   "id": "53da543c",
   "metadata": {},
   "outputs": [],
   "source": [
    "# simple cal"
   ]
  },
  {
   "cell_type": "code",
   "execution_count": 68,
   "id": "f5865877",
   "metadata": {},
   "outputs": [
    {
     "name": "stdout",
     "output_type": "stream",
     "text": [
      "if you enter 1 print as add\n",
      "if you enter 2 print as sub\n",
      "if you enter 3 print as mul\n",
      "if you enter 4 print as div\n",
      "Enter a number1\n",
      "addition of 10 and 20 is: 30\n"
     ]
    }
   ],
   "source": [
    "def add(a,b):\n",
    "    print(\"addition of {} and {} is: {}\".format(a,b,a+b))\n",
    "def sub(a,b):\n",
    "    print(\"subtration of {} and {} is: {}\".format(a,b,a-b))\n",
    "def mul(a,b):\n",
    "    print(\"multiplication of {} and {} is: {}\".format(a,b,a*b))\n",
    "def div(a,b):\n",
    "    print(\"Divition of {} and {} is: {}\".format(a,b,a/b))\n",
    "def cal(a,b):\n",
    "    print(\"if you enter 1 print as add\")\n",
    "    print(\"if you enter 2 print as sub\")\n",
    "    print(\"if you enter 3 print as mul\")\n",
    "    print(\"if you enter 4 print as div\")\n",
    "\n",
    "    n=eval(input(\"Enter a number\"))\n",
    "    if n==1:\n",
    "        add(a,b)\n",
    "    elif n==2:\n",
    "        sub(a,b)\n",
    "    elif n==3:\n",
    "        mul(a,b)\n",
    "    else:+-\n",
    "        div(a,b)\n",
    "cal(10,20)"
   ]
  },
  {
   "cell_type": "code",
   "execution_count": 60,
   "id": "d6163aab",
   "metadata": {},
   "outputs": [
    {
     "name": "stdout",
     "output_type": "stream",
     "text": [
      "Enter a number1\n",
      "30\n"
     ]
    }
   ],
   "source": [
    "def add(a,b):\n",
    "    print(a+b)\n",
    "def sub(a,b):\n",
    "    print(a-b)\n",
    "def mul(a,b):\n",
    "    print(a*b)\n",
    "def div(a,b):\n",
    "    print(a/b)\n",
    "def cal(a,b):\n",
    "    n=eval(input(\"Enter a number\"))\n",
    "    if n==1:\n",
    "        add(a,b)\n",
    "    elif n==2:\n",
    "        sub(a,b)\n",
    "    elif n==4:\n",
    "        mul(a,b)\n",
    "    else:\n",
    "        div(a,b)\n",
    "cal(10,20)"
   ]
  },
  {
   "cell_type": "code",
   "execution_count": null,
   "id": "3b1b198e",
   "metadata": {},
   "outputs": [],
   "source": []
  },
  {
   "cell_type": "code",
   "execution_count": null,
   "id": "c463f35b",
   "metadata": {},
   "outputs": [],
   "source": []
  },
  {
   "cell_type": "code",
   "execution_count": null,
   "id": "773a741b",
   "metadata": {},
   "outputs": [],
   "source": []
  }
 ],
 "metadata": {
  "kernelspec": {
   "display_name": "Python 3 (ipykernel)",
   "language": "python",
   "name": "python3"
  },
  "language_info": {
   "codemirror_mode": {
    "name": "ipython",
    "version": 3
   },
   "file_extension": ".py",
   "mimetype": "text/x-python",
   "name": "python",
   "nbconvert_exporter": "python",
   "pygments_lexer": "ipython3",
   "version": "3.11.5"
  }
 },
 "nbformat": 4,
 "nbformat_minor": 5
}
