{
 "cells": [
  {
   "cell_type": "markdown",
   "id": "f45e8454",
   "metadata": {},
   "source": [
    "# For\n",
    "# While"
   ]
  },
  {
   "cell_type": "code",
   "execution_count": null,
   "id": "97f5b60c",
   "metadata": {},
   "outputs": [],
   "source": [
    "loops means circle\n",
    "if you want to iterate same task many num of times, then we go for loops\n",
    "if we want to use same code many times use functions\n"
   ]
  },
  {
   "cell_type": "code",
   "execution_count": null,
   "id": "5f0fcef5",
   "metadata": {},
   "outputs": [],
   "source": [
    "if <condition> : \n",
    "    indentation will be there\n",
    "    "
   ]
  },
  {
   "cell_type": "code",
   "execution_count": null,
   "id": "137a658a",
   "metadata": {},
   "outputs": [],
   "source": [
    "# if i want to print first 10 numbers\n"
   ]
  },
  {
   "cell_type": "code",
   "execution_count": null,
   "id": "18f39a58",
   "metadata": {},
   "outputs": [],
   "source": [
    "- intialization (start point)\n",
    "- condition  ( stop )\n",
    "- increment or decrement"
   ]
  },
  {
   "cell_type": "markdown",
   "id": "c6e6f994",
   "metadata": {},
   "source": [
    "**Note**\n",
    "The index always start with zero\n"
   ]
  },
  {
   "cell_type": "code",
   "execution_count": null,
   "id": "185185ac",
   "metadata": {},
   "outputs": [],
   "source": [
    "12345678910\n",
    "i=1\n",
    "i=2\n",
    "i=3"
   ]
  },
  {
   "cell_type": "code",
   "execution_count": 1,
   "id": "d80fc2c1",
   "metadata": {},
   "outputs": [
    {
     "name": "stdout",
     "output_type": "stream",
     "text": [
      "0\n",
      "1\n",
      "2\n",
      "3\n",
      "4\n",
      "5\n",
      "6\n",
      "7\n",
      "8\n",
      "9\n"
     ]
    }
   ],
   "source": [
    "for i in range(10):\n",
    "    print(i)\n",
    "    #i= want________________i=0, i=1, i=3,............i=9\n",
    "    # start=0 (python index start with zero)\n",
    "    # i in range(10)=============== start/stop/incre.\n",
    "    #nothing mentioned means zero is the starting point."
   ]
  },
  {
   "cell_type": "markdown",
   "id": "97a45cae",
   "metadata": {},
   "source": [
    "*pattern-1*"
   ]
  },
  {
   "cell_type": "code",
   "execution_count": null,
   "id": "9226f639",
   "metadata": {},
   "outputs": [],
   "source": [
    "range(stop)\n",
    "\n",
    "- start=0  # python index start with zero\n",
    "- end= stop-1\n",
    "- increment"
   ]
  },
  {
   "cell_type": "code",
   "execution_count": 7,
   "id": "339c4e0e",
   "metadata": {},
   "outputs": [
    {
     "name": "stdout",
     "output_type": "stream",
     "text": [
      "0 1 2 3 4 5 6 7 8 9 10 11 12 13 14 15 16 17 18 19 "
     ]
    }
   ],
   "source": [
    "for i in range(20):\n",
    "    print(i,end=' ')\n",
    "    #start=0\n",
    "    #end=stop-1\n",
    "    #increment"
   ]
  },
  {
   "cell_type": "markdown",
   "id": "5c096bbb",
   "metadata": {},
   "source": [
    "*pattern-2*"
   ]
  },
  {
   "cell_type": "code",
   "execution_count": null,
   "id": "5118ad54",
   "metadata": {},
   "outputs": [],
   "source": [
    "range(start,stop)\n",
    " start=start\n",
    " end=stop-1\n",
    " incremental\n",
    "    \n",
    "for example: range (10,20)\n",
    "start=10\n",
    "stop=20-1=19\n",
    "incremental"
   ]
  },
  {
   "cell_type": "code",
   "execution_count": 9,
   "id": "722c7d59",
   "metadata": {},
   "outputs": [
    {
     "name": "stdout",
     "output_type": "stream",
     "text": [
      "10 11 12 13 14 15 16 17 18 19 "
     ]
    }
   ],
   "source": [
    "for i in range(10,20):\n",
    "    print(i,end=\" \")"
   ]
  },
  {
   "cell_type": "code",
   "execution_count": null,
   "id": "7b4e5be9",
   "metadata": {},
   "outputs": [],
   "source": []
  },
  {
   "cell_type": "markdown",
   "id": "b1f382c6",
   "metadata": {},
   "source": [
    "*pattern-3*"
   ]
  },
  {
   "cell_type": "code",
   "execution_count": null,
   "id": "6cdabc07",
   "metadata": {},
   "outputs": [],
   "source": [
    "range(start,stop,step)\n",
    "\n",
    "1- start=start\n",
    "- stop value depends on sign on step value\n",
    "- step sign is +: incremental\n",
    "- step sign is -: decremental\n",
    "    "
   ]
  },
  {
   "cell_type": "code",
   "execution_count": null,
   "id": "f1b182b5",
   "metadata": {},
   "outputs": [],
   "source": [
    "for i in range(5,20,3)\n",
    "#start=5\n",
    "#stop=decide on step sign\n",
    "#step=3 ======== +ve\n",
    "# end= stop-1 = 20-3 = 19\n",
    "\n",
    "for i in range(5,20,3)\n",
    "# step= -3\n",
    "#end = stop+1 = 20+1 = 21"
   ]
  },
  {
   "cell_type": "code",
   "execution_count": null,
   "id": "53f7552f",
   "metadata": {},
   "outputs": [],
   "source": [
    "for i in range(5,20,3)\n",
    "#===================fix the value ==============\n",
    "# start= 5\n",
    "# stop= +ve\n",
    "# end= stop-1 = 20-1 =19\n",
    "#==================anser is possible ============\n",
    "#-------------------> forward\n",
    "\n",
    "#==================answer=============\n",
    "5 (5 8 11 14 17)    19\n"
   ]
  },
  {
   "cell_type": "code",
   "execution_count": 10,
   "id": "3c795163",
   "metadata": {},
   "outputs": [
    {
     "name": "stdout",
     "output_type": "stream",
     "text": [
      "5 8 11 14 17 "
     ]
    }
   ],
   "source": [
    "for i in range(5,20,3):\n",
    "    print(i,end=\" \")"
   ]
  },
  {
   "cell_type": "code",
   "execution_count": 11,
   "id": "0639ff66",
   "metadata": {},
   "outputs": [
    {
     "name": "stdout",
     "output_type": "stream",
     "text": [
      "-5 -8 -11 -14 -17 "
     ]
    }
   ],
   "source": [
    "for i in range(-5,-20,-3):\n",
    "    print(i,end=\" \")\n",
    "#start value=-5\n",
    "#step sign -ve\n",
    "# decrement\n",
    "# end stop+1=-20+1=-19\n",
    "##########possivle or not##########\n",
    "#<------------------- reverse\n",
    "# ober 2\n",
    "#-5 -8 -11 -14 -17"
   ]
  },
  {
   "cell_type": "code",
   "execution_count": 12,
   "id": "e4a5c6a2",
   "metadata": {},
   "outputs": [],
   "source": [
    "for i in range(5,20,-3):\n",
    "    print(i,end='')\n",
    "#start= 5\n",
    "#sign -ve\n",
    "#decrement\n",
    "#end= stop+1 = 20+1=21\n",
    "#<----------------\n",
    "#reverse"
   ]
  },
  {
   "cell_type": "code",
   "execution_count": 14,
   "id": "c1ba27f1",
   "metadata": {},
   "outputs": [
    {
     "name": "stdout",
     "output_type": "stream",
     "text": [
      "10 13 16 19 22 25 28 "
     ]
    }
   ],
   "source": [
    "for i in range(10,30,3):\n",
    "    print(i,end=\" \")\n",
    "#start=10, dir=+ve, stop=30-1=29, forward\n",
    "#possible#P"
   ]
  },
  {
   "cell_type": "code",
   "execution_count": 15,
   "id": "44b971e9",
   "metadata": {},
   "outputs": [],
   "source": [
    "for i in range(10,30,-3):\n",
    "    print(i,end=\" \")\n",
    "    #NP"
   ]
  },
  {
   "cell_type": "code",
   "execution_count": 16,
   "id": "86a1a015",
   "metadata": {},
   "outputs": [],
   "source": [
    "for i in range(10,-30,3):\n",
    "    print(i,end=\" \")\n",
    "    #NP"
   ]
  },
  {
   "cell_type": "code",
   "execution_count": 17,
   "id": "c8564e22",
   "metadata": {},
   "outputs": [
    {
     "name": "stdout",
     "output_type": "stream",
     "text": [
      "10 7 4 1 -2 -5 -8 -11 -14 -17 -20 -23 -26 -29 "
     ]
    }
   ],
   "source": [
    "for i in range(10,-30,-3):\n",
    "    print(i,end=\" \")\n",
    "    #P"
   ]
  },
  {
   "cell_type": "code",
   "execution_count": 18,
   "id": "0f36f6f7",
   "metadata": {},
   "outputs": [
    {
     "name": "stdout",
     "output_type": "stream",
     "text": [
      "-10 -13 -16 -19 -22 -25 -28 "
     ]
    }
   ],
   "source": [
    "for i in range(-10,-30,-3):\n",
    "    print(i,end=\" \")\n",
    "    #P"
   ]
  },
  {
   "cell_type": "code",
   "execution_count": 19,
   "id": "3733489e",
   "metadata": {},
   "outputs": [],
   "source": [
    "for i in range(-10,-30,3):\n",
    "    print(i,end=\" \")\n",
    "    #NP"
   ]
  },
  {
   "cell_type": "code",
   "execution_count": 20,
   "id": "ea6c4846",
   "metadata": {},
   "outputs": [
    {
     "name": "stdout",
     "output_type": "stream",
     "text": [
      "-10 -7 -4 -1 2 5 8 11 14 17 20 23 26 29 "
     ]
    }
   ],
   "source": [
    "for i in range(-10,30,3):\n",
    "    print(i,end=\" \")\n",
    "    #P"
   ]
  },
  {
   "cell_type": "code",
   "execution_count": 21,
   "id": "3b9abdb2",
   "metadata": {},
   "outputs": [
    {
     "name": "stdout",
     "output_type": "stream",
     "text": [
      "40 37 34 31 28 25 22 19 16 13 10 7 "
     ]
    }
   ],
   "source": [
    "for i in range(40,5,-3):\n",
    "    print(i,end=\" \")\n",
    "    \n",
    "    #Possible"
   ]
  },
  {
   "cell_type": "code",
   "execution_count": null,
   "id": "82d6d88e",
   "metadata": {},
   "outputs": [],
   "source": [
    "# WAP ask the user print 1 st 10 square num\n",
    "#1 to 10\n",
    "#1 4 9 16 "
   ]
  },
  {
   "cell_type": "code",
   "execution_count": 28,
   "id": "b8026757",
   "metadata": {},
   "outputs": [
    {
     "name": "stdout",
     "output_type": "stream",
     "text": [
      "The square of 1 is 1\n",
      "The square of 2 is 4\n",
      "The square of 3 is 9\n",
      "The square of 4 is 16\n",
      "The square of 5 is 25\n",
      "The square of 6 is 36\n",
      "The square of 7 is 49\n",
      "The square of 8 is 64\n",
      "The square of 9 is 81\n",
      "The square of 10 is 100\n"
     ]
    }
   ],
   "source": [
    "for i in range(1,11):\n",
    "    print(\"The square of {} is {}\". format(i,i*i))"
   ]
  },
  {
   "cell_type": "code",
   "execution_count": 31,
   "id": "7efaa22f",
   "metadata": {},
   "outputs": [
    {
     "name": "stdout",
     "output_type": "stream",
     "text": [
      "7 * 1 = 7\n",
      "7 * 2 = 14\n",
      "7 * 3 = 21\n",
      "7 * 4 = 28\n",
      "7 * 5 = 35\n",
      "7 * 6 = 42\n",
      "7 * 7 = 49\n",
      "7 * 8 = 56\n",
      "7 * 9 = 63\n",
      "7 * 10 = 70\n"
     ]
    }
   ],
   "source": [
    "#wap to print 7 table 7*1=7 upto 10\n",
    "for i in range(1,11):\n",
    "    print(\"7 * {} = {}\". format(i,7*i))"
   ]
  },
  {
   "cell_type": "code",
   "execution_count": 2,
   "id": "d4b04b91",
   "metadata": {},
   "outputs": [
    {
     "name": "stdout",
     "output_type": "stream",
     "text": [
      "1369\n",
      "3249\n",
      "4096\n",
      "3136\n",
      "8649\n"
     ]
    }
   ],
   "source": [
    "#wap wap ask the user take a random number between 1 to 100 and print square of number\n",
    "# abd this operator do 5 times\n",
    "for i in range(5):\n",
    "    import random\n",
    "    n=random.randint(1,100)\n",
    "    sq_num=n*n\n",
    "    sq_num\n",
    "    print(sq_num)\n"
   ]
  },
  {
   "cell_type": "code",
   "execution_count": 1,
   "id": "6fa5126d",
   "metadata": {},
   "outputs": [
    {
     "name": "stdout",
     "output_type": "stream",
     "text": [
      "1849\n",
      "5329\n",
      "9025\n",
      "1024\n",
      "8649\n"
     ]
    }
   ],
   "source": [
    "for i in range(5):\n",
    "    import random\n",
    "    n=random.randint(1,100)\n",
    "    s_n=n*n\n",
    "    print(s_n)"
   ]
  },
  {
   "cell_type": "code",
   "execution_count": 40,
   "id": "977fedd1",
   "metadata": {},
   "outputs": [
    {
     "name": "stdout",
     "output_type": "stream",
     "text": [
      "0\n",
      "1\n",
      "2\n",
      "3\n",
      "4\n"
     ]
    }
   ],
   "source": [
    "for i in range(5):\n",
    "    print(i)"
   ]
  },
  {
   "cell_type": "code",
   "execution_count": 44,
   "id": "3ddd3d69",
   "metadata": {},
   "outputs": [
    {
     "name": "stdout",
     "output_type": "stream",
     "text": [
      "The square of 23 is 529\n",
      "The square of 23 is 529\n",
      "The square of 70 is 4900\n",
      "The square of 40 is 1600\n",
      "The square of 27 is 729\n"
     ]
    }
   ],
   "source": [
    "import random\n",
    "for i in range(5):\n",
    "    num=random.randint(1,100)\n",
    "    print(\"The square of {} is {}\".format(num,num*num))\n",
    "    "
   ]
  },
  {
   "cell_type": "code",
   "execution_count": null,
   "id": "be3c44d4",
   "metadata": {},
   "outputs": [],
   "source": [
    "# for loop is just a joint wheel"
   ]
  },
  {
   "cell_type": "code",
   "execution_count": null,
   "id": "a028a999",
   "metadata": {},
   "outputs": [],
   "source": []
  },
  {
   "cell_type": "code",
   "execution_count": null,
   "id": "8b1bbfb4",
   "metadata": {},
   "outputs": [],
   "source": []
  }
 ],
 "metadata": {
  "kernelspec": {
   "display_name": "Python 3 (ipykernel)",
   "language": "python",
   "name": "python3"
  },
  "language_info": {
   "codemirror_mode": {
    "name": "ipython",
    "version": 3
   },
   "file_extension": ".py",
   "mimetype": "text/x-python",
   "name": "python",
   "nbconvert_exporter": "python",
   "pygments_lexer": "ipython3",
   "version": "3.11.5"
  }
 },
 "nbformat": 4,
 "nbformat_minor": 5
}
