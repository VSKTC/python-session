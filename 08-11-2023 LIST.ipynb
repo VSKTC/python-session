{
 "cells": [
  {
   "cell_type": "code",
   "execution_count": 1,
   "id": "daf4612d",
   "metadata": {},
   "outputs": [
    {
     "data": {
      "text/plain": [
       "[1, 2, 3, 4]"
      ]
     },
     "execution_count": 1,
     "metadata": {},
     "output_type": "execute_result"
    }
   ],
   "source": [
    "list1=[1,2,3,4]\n",
    "list1\n",
    "# array of elements stored in square brackets"
   ]
  },
  {
   "cell_type": "code",
   "execution_count": 2,
   "id": "c74ba6d4",
   "metadata": {},
   "outputs": [
    {
     "data": {
      "text/plain": [
       "['A', 'B', 'C', 'D']"
      ]
     },
     "execution_count": 2,
     "metadata": {},
     "output_type": "execute_result"
    }
   ],
   "source": [
    "list2=['A','B','C','D']\n",
    "list2"
   ]
  },
  {
   "cell_type": "code",
   "execution_count": 4,
   "id": "aa2763c8",
   "metadata": {},
   "outputs": [
    {
     "data": {
      "text/plain": [
       "['Apple', 1234]"
      ]
     },
     "execution_count": 4,
     "metadata": {},
     "output_type": "execute_result"
    }
   ],
   "source": [
    "list3=['Apple',1234]\n",
    "list3"
   ]
  },
  {
   "cell_type": "code",
   "execution_count": 7,
   "id": "797f8431",
   "metadata": {},
   "outputs": [
    {
     "data": {
      "text/plain": [
       "['A', 1, 5.2, (10+30j)]"
      ]
     },
     "execution_count": 7,
     "metadata": {},
     "output_type": "execute_result"
    }
   ],
   "source": [
    "list4=['A',1,5.2,10+30j]\n",
    "list4"
   ]
  },
  {
   "cell_type": "markdown",
   "id": "103a07ee",
   "metadata": {},
   "source": [
    "- list is a heterogeneous property\n",
    "- any kind of data type emements we can store in the form of list"
   ]
  },
  {
   "cell_type": "code",
   "execution_count": 9,
   "id": "b9e500b1",
   "metadata": {},
   "outputs": [
    {
     "data": {
      "text/plain": [
       "[100, 100, 100]"
      ]
     },
     "execution_count": 9,
     "metadata": {},
     "output_type": "execute_result"
    }
   ],
   "source": [
    "list5=[100,100,100]\n",
    "list5"
   ]
  },
  {
   "cell_type": "code",
   "execution_count": 10,
   "id": "9e5aa84a",
   "metadata": {},
   "outputs": [
    {
     "data": {
      "text/plain": [
       "['A', 'a']"
      ]
     },
     "execution_count": 10,
     "metadata": {},
     "output_type": "execute_result"
    }
   ],
   "source": [
    "list6=['A','a']\n",
    "list6"
   ]
  },
  {
   "cell_type": "code",
   "execution_count": 11,
   "id": "64a2f979",
   "metadata": {},
   "outputs": [
    {
     "data": {
      "text/plain": [
       "['hai how are you', [1, 2, 3]]"
      ]
     },
     "execution_count": 11,
     "metadata": {},
     "output_type": "execute_result"
    }
   ],
   "source": [
    "list7=['hai how are you',[1,2,3]]\n",
    "list7"
   ]
  },
  {
   "cell_type": "markdown",
   "id": "fb8215d7",
   "metadata": {},
   "source": [
    "- list in list also it can take"
   ]
  },
  {
   "cell_type": "code",
   "execution_count": 13,
   "id": "f1031b74",
   "metadata": {},
   "outputs": [
    {
     "data": {
      "text/plain": [
       "list"
      ]
     },
     "execution_count": 13,
     "metadata": {},
     "output_type": "execute_result"
    }
   ],
   "source": [
    "type(list1)"
   ]
  },
  {
   "cell_type": "code",
   "execution_count": 19,
   "id": "ea9b1383",
   "metadata": {},
   "outputs": [
    {
     "name": "stdout",
     "output_type": "stream",
     "text": [
      "[1, 2, 3, 4]\n"
     ]
    }
   ],
   "source": [
    "print(list1)"
   ]
  },
  {
   "cell_type": "markdown",
   "id": "36f06faa",
   "metadata": {},
   "source": [
    "$len-max-min-sum$ "
   ]
  },
  {
   "cell_type": "code",
   "execution_count": 23,
   "id": "a7d13efb",
   "metadata": {},
   "outputs": [
    {
     "name": "stdout",
     "output_type": "stream",
     "text": [
      "[1, 2, 3, 4]\n",
      "4\n",
      "4\n",
      "1\n",
      "10\n"
     ]
    }
   ],
   "source": [
    "print(list1)\n",
    "print(len(list1))\n",
    "print(max(list1))\n",
    "print(min(list1))\n",
    "print(sum(list1))"
   ]
  },
  {
   "cell_type": "code",
   "execution_count": 25,
   "id": "8ecf91cc",
   "metadata": {},
   "outputs": [
    {
     "name": "stdout",
     "output_type": "stream",
     "text": [
      "['A', 'B', 'C', 'D']\n",
      "4\n",
      "D\n",
      "A\n"
     ]
    },
    {
     "ename": "TypeError",
     "evalue": "unsupported operand type(s) for +: 'int' and 'str'",
     "output_type": "error",
     "traceback": [
      "\u001b[1;31m---------------------------------------------------------------------------\u001b[0m",
      "\u001b[1;31mTypeError\u001b[0m                                 Traceback (most recent call last)",
      "Cell \u001b[1;32mIn[25], line 5\u001b[0m\n\u001b[0;32m      3\u001b[0m \u001b[38;5;28mprint\u001b[39m(\u001b[38;5;28mmax\u001b[39m(list2))\n\u001b[0;32m      4\u001b[0m \u001b[38;5;28mprint\u001b[39m(\u001b[38;5;28mmin\u001b[39m(list2))\n\u001b[1;32m----> 5\u001b[0m \u001b[38;5;28mprint\u001b[39m(\u001b[38;5;28msum\u001b[39m(list2))\n",
      "\u001b[1;31mTypeError\u001b[0m: unsupported operand type(s) for +: 'int' and 'str'"
     ]
    }
   ],
   "source": [
    "print(list2)\n",
    "print(len(list2))\n",
    "print(max(list2))\n",
    "print(min(list2))\n",
    "print(sum(list2))"
   ]
  },
  {
   "cell_type": "code",
   "execution_count": 26,
   "id": "6c7db5fb",
   "metadata": {},
   "outputs": [
    {
     "name": "stdout",
     "output_type": "stream",
     "text": [
      "['Apple', 1234]\n",
      "2\n"
     ]
    },
    {
     "ename": "TypeError",
     "evalue": "'>' not supported between instances of 'int' and 'str'",
     "output_type": "error",
     "traceback": [
      "\u001b[1;31m---------------------------------------------------------------------------\u001b[0m",
      "\u001b[1;31mTypeError\u001b[0m                                 Traceback (most recent call last)",
      "Cell \u001b[1;32mIn[26], line 3\u001b[0m\n\u001b[0;32m      1\u001b[0m \u001b[38;5;28mprint\u001b[39m(list3)\n\u001b[0;32m      2\u001b[0m \u001b[38;5;28mprint\u001b[39m(\u001b[38;5;28mlen\u001b[39m(list3))\n\u001b[1;32m----> 3\u001b[0m \u001b[38;5;28mprint\u001b[39m(\u001b[38;5;28mmax\u001b[39m(list3))\n\u001b[0;32m      4\u001b[0m \u001b[38;5;28mprint\u001b[39m(\u001b[38;5;28mmin\u001b[39m(list3))\n\u001b[0;32m      5\u001b[0m \u001b[38;5;28mprint\u001b[39m(\u001b[38;5;28msum\u001b[39m(list3))\n",
      "\u001b[1;31mTypeError\u001b[0m: '>' not supported between instances of 'int' and 'str'"
     ]
    }
   ],
   "source": [
    "print(list3)\n",
    "print(len(list3))\n",
    "print(max(list3))\n",
    "print(min(list3))\n",
    "print(sum(list3))"
   ]
  },
  {
   "cell_type": "code",
   "execution_count": 27,
   "id": "5a215380",
   "metadata": {},
   "outputs": [
    {
     "name": "stdout",
     "output_type": "stream",
     "text": [
      "['A', 1, 5.2, (10+30j)]\n",
      "4\n"
     ]
    },
    {
     "ename": "TypeError",
     "evalue": "'>' not supported between instances of 'int' and 'str'",
     "output_type": "error",
     "traceback": [
      "\u001b[1;31m---------------------------------------------------------------------------\u001b[0m",
      "\u001b[1;31mTypeError\u001b[0m                                 Traceback (most recent call last)",
      "Cell \u001b[1;32mIn[27], line 3\u001b[0m\n\u001b[0;32m      1\u001b[0m \u001b[38;5;28mprint\u001b[39m(list4)\n\u001b[0;32m      2\u001b[0m \u001b[38;5;28mprint\u001b[39m(\u001b[38;5;28mlen\u001b[39m(list4))\n\u001b[1;32m----> 3\u001b[0m \u001b[38;5;28mprint\u001b[39m(\u001b[38;5;28mmax\u001b[39m(list4))\n\u001b[0;32m      4\u001b[0m \u001b[38;5;28mprint\u001b[39m(\u001b[38;5;28mmin\u001b[39m(list4))\n\u001b[0;32m      5\u001b[0m \u001b[38;5;28mprint\u001b[39m(\u001b[38;5;28msum\u001b[39m(list4))\n",
      "\u001b[1;31mTypeError\u001b[0m: '>' not supported between instances of 'int' and 'str'"
     ]
    }
   ],
   "source": [
    "print(list4)\n",
    "print(len(list4))\n",
    "print(max(list4))\n",
    "print(min(list4))\n",
    "print(sum(list4))"
   ]
  },
  {
   "cell_type": "code",
   "execution_count": 29,
   "id": "e6f98874",
   "metadata": {},
   "outputs": [
    {
     "name": "stdout",
     "output_type": "stream",
     "text": [
      "[100, 100, 100]\n",
      "3\n",
      "100\n",
      "100\n",
      "300\n"
     ]
    }
   ],
   "source": [
    "print(list5)\n",
    "print(len(list5))\n",
    "print(max(list5))\n",
    "print(min(list5))\n",
    "print(sum(list5))"
   ]
  },
  {
   "cell_type": "code",
   "execution_count": 30,
   "id": "3549e03c",
   "metadata": {},
   "outputs": [
    {
     "name": "stdout",
     "output_type": "stream",
     "text": [
      "['A', 'a']\n",
      "2\n",
      "a\n",
      "A\n"
     ]
    },
    {
     "ename": "TypeError",
     "evalue": "unsupported operand type(s) for +: 'int' and 'str'",
     "output_type": "error",
     "traceback": [
      "\u001b[1;31m---------------------------------------------------------------------------\u001b[0m",
      "\u001b[1;31mTypeError\u001b[0m                                 Traceback (most recent call last)",
      "Cell \u001b[1;32mIn[30], line 5\u001b[0m\n\u001b[0;32m      3\u001b[0m \u001b[38;5;28mprint\u001b[39m(\u001b[38;5;28mmax\u001b[39m(list6))\n\u001b[0;32m      4\u001b[0m \u001b[38;5;28mprint\u001b[39m(\u001b[38;5;28mmin\u001b[39m(list6))\n\u001b[1;32m----> 5\u001b[0m \u001b[38;5;28mprint\u001b[39m(\u001b[38;5;28msum\u001b[39m(list6))\n",
      "\u001b[1;31mTypeError\u001b[0m: unsupported operand type(s) for +: 'int' and 'str'"
     ]
    }
   ],
   "source": [
    "print(list6)\n",
    "print(len(list6))\n",
    "print(max(list6))\n",
    "print(min(list6))\n",
    "print(sum(list6))"
   ]
  },
  {
   "cell_type": "code",
   "execution_count": 31,
   "id": "a2b12cb4",
   "metadata": {},
   "outputs": [
    {
     "name": "stdout",
     "output_type": "stream",
     "text": [
      "['hai how are you', [1, 2, 3]]\n",
      "2\n"
     ]
    },
    {
     "ename": "TypeError",
     "evalue": "'>' not supported between instances of 'list' and 'str'",
     "output_type": "error",
     "traceback": [
      "\u001b[1;31m---------------------------------------------------------------------------\u001b[0m",
      "\u001b[1;31mTypeError\u001b[0m                                 Traceback (most recent call last)",
      "Cell \u001b[1;32mIn[31], line 3\u001b[0m\n\u001b[0;32m      1\u001b[0m \u001b[38;5;28mprint\u001b[39m(list7)\n\u001b[0;32m      2\u001b[0m \u001b[38;5;28mprint\u001b[39m(\u001b[38;5;28mlen\u001b[39m(list7))\n\u001b[1;32m----> 3\u001b[0m \u001b[38;5;28mprint\u001b[39m(\u001b[38;5;28mmax\u001b[39m(list7))\n\u001b[0;32m      4\u001b[0m \u001b[38;5;28mprint\u001b[39m(\u001b[38;5;28mmin\u001b[39m(list7))\n\u001b[0;32m      5\u001b[0m \u001b[38;5;28mprint\u001b[39m(\u001b[38;5;28msum\u001b[39m(list7))\n",
      "\u001b[1;31mTypeError\u001b[0m: '>' not supported between instances of 'list' and 'str'"
     ]
    }
   ],
   "source": [
    "print(list7)\n",
    "print(len(list7))\n",
    "print(max(list7))\n",
    "print(min(list7))\n",
    "print(sum(list7))"
   ]
  },
  {
   "cell_type": "code",
   "execution_count": 32,
   "id": "61666fda",
   "metadata": {},
   "outputs": [
    {
     "name": "stdout",
     "output_type": "stream",
     "text": [
      "[1, 2, 3, 4]\n",
      "['A', 'B', 'C', 'D']\n"
     ]
    }
   ],
   "source": [
    "print(list1)\n",
    "print(list2)"
   ]
  },
  {
   "cell_type": "code",
   "execution_count": 35,
   "id": "bbe9d6fc",
   "metadata": {},
   "outputs": [
    {
     "data": {
      "text/plain": [
       "[1, 2, 3, 4, 'A', 'B', 'C', 'D']"
      ]
     },
     "execution_count": 35,
     "metadata": {},
     "output_type": "execute_result"
    }
   ],
   "source": [
    "list_concatination=list1+list2\n",
    "list_concatination"
   ]
  },
  {
   "cell_type": "code",
   "execution_count": 36,
   "id": "7bd12c04",
   "metadata": {},
   "outputs": [
    {
     "name": "stdout",
     "output_type": "stream",
     "text": [
      "[1, 2, 3, 4, 'A', 'B', 'C', 'D']\n"
     ]
    }
   ],
   "source": [
    "print(list_concatination)"
   ]
  },
  {
   "cell_type": "code",
   "execution_count": 38,
   "id": "9865d453",
   "metadata": {},
   "outputs": [
    {
     "ename": "TypeError",
     "evalue": "unsupported operand type(s) for -: 'list' and 'list'",
     "output_type": "error",
     "traceback": [
      "\u001b[1;31m---------------------------------------------------------------------------\u001b[0m",
      "\u001b[1;31mTypeError\u001b[0m                                 Traceback (most recent call last)",
      "Cell \u001b[1;32mIn[38], line 1\u001b[0m\n\u001b[1;32m----> 1\u001b[0m list1\u001b[38;5;241m-\u001b[39mlist2\n\u001b[0;32m      2\u001b[0m list1\u001b[38;5;241m*\u001b[39mlist2\n\u001b[0;32m      3\u001b[0m list1\u001b[38;5;241m/\u001b[39mlist2\n",
      "\u001b[1;31mTypeError\u001b[0m: unsupported operand type(s) for -: 'list' and 'list'"
     ]
    }
   ],
   "source": [
    "list1-list2\n",
    "list1*list2\n",
    "list1/list2"
   ]
  },
  {
   "cell_type": "markdown",
   "id": "046698bc",
   "metadata": {},
   "source": [
    "$ multiply$ string $with$ integer"
   ]
  },
  {
   "cell_type": "code",
   "execution_count": 42,
   "id": "8a08e698",
   "metadata": {},
   "outputs": [
    {
     "data": {
      "text/plain": [
       "[1, 2, 3, 4, 1, 2, 3, 4]"
      ]
     },
     "execution_count": 42,
     "metadata": {},
     "output_type": "execute_result"
    }
   ],
   "source": [
    "2*list1"
   ]
  },
  {
   "cell_type": "code",
   "execution_count": 43,
   "id": "7a991349",
   "metadata": {},
   "outputs": [
    {
     "data": {
      "text/plain": [
       "['A', 'B', 'C', 'D']"
      ]
     },
     "execution_count": 43,
     "metadata": {},
     "output_type": "execute_result"
    }
   ],
   "source": [
    "list2"
   ]
  },
  {
   "cell_type": "code",
   "execution_count": 44,
   "id": "35426a88",
   "metadata": {},
   "outputs": [
    {
     "data": {
      "text/plain": [
       "True"
      ]
     },
     "execution_count": 44,
     "metadata": {},
     "output_type": "execute_result"
    }
   ],
   "source": [
    "'A' in list2"
   ]
  },
  {
   "cell_type": "code",
   "execution_count": 45,
   "id": "c5df756b",
   "metadata": {},
   "outputs": [
    {
     "data": {
      "text/plain": [
       "True"
      ]
     },
     "execution_count": 45,
     "metadata": {},
     "output_type": "execute_result"
    }
   ],
   "source": [
    "'B' in list2"
   ]
  },
  {
   "cell_type": "code",
   "execution_count": 47,
   "id": "8c5c7def",
   "metadata": {},
   "outputs": [
    {
     "data": {
      "text/plain": [
       "True"
      ]
     },
     "execution_count": 47,
     "metadata": {},
     "output_type": "execute_result"
    }
   ],
   "source": [
    "'D' in list2"
   ]
  },
  {
   "cell_type": "code",
   "execution_count": 48,
   "id": "6d45bba2",
   "metadata": {},
   "outputs": [
    {
     "data": {
      "text/plain": [
       "False"
      ]
     },
     "execution_count": 48,
     "metadata": {},
     "output_type": "execute_result"
    }
   ],
   "source": [
    "'Z' in list2"
   ]
  },
  {
   "cell_type": "code",
   "execution_count": null,
   "id": "49741b77",
   "metadata": {},
   "outputs": [],
   "source": [
    "# when ever you are reading in operator\n",
    "# iterate the loop (for/while) and print the element"
   ]
  },
  {
   "cell_type": "code",
   "execution_count": 56,
   "id": "407209d9",
   "metadata": {},
   "outputs": [
    {
     "name": "stdout",
     "output_type": "stream",
     "text": [
      "1\n",
      "2\n",
      "3\n",
      "4\n"
     ]
    }
   ],
   "source": [
    "for i in list1:\n",
    "    print(i)"
   ]
  },
  {
   "cell_type": "code",
   "execution_count": 50,
   "id": "5d589a84",
   "metadata": {},
   "outputs": [
    {
     "name": "stdout",
     "output_type": "stream",
     "text": [
      "A\n",
      "B\n",
      "C\n",
      "D\n"
     ]
    }
   ],
   "source": [
    "for i in list2:\n",
    "    print(i)"
   ]
  },
  {
   "cell_type": "code",
   "execution_count": 51,
   "id": "f24d7527",
   "metadata": {},
   "outputs": [
    {
     "name": "stdout",
     "output_type": "stream",
     "text": [
      "Apple\n",
      "1234\n"
     ]
    }
   ],
   "source": [
    "for i in list3:\n",
    "    print(i)"
   ]
  },
  {
   "cell_type": "code",
   "execution_count": 52,
   "id": "0f8bf4f7",
   "metadata": {},
   "outputs": [
    {
     "name": "stdout",
     "output_type": "stream",
     "text": [
      "A\n",
      "1\n",
      "5.2\n",
      "(10+30j)\n"
     ]
    }
   ],
   "source": [
    "for i in list4:\n",
    "    print(i)"
   ]
  },
  {
   "cell_type": "code",
   "execution_count": 53,
   "id": "db25fa92",
   "metadata": {},
   "outputs": [
    {
     "name": "stdout",
     "output_type": "stream",
     "text": [
      "100\n",
      "100\n",
      "100\n"
     ]
    }
   ],
   "source": [
    "for i in list5:\n",
    "    print(i)"
   ]
  },
  {
   "cell_type": "code",
   "execution_count": 54,
   "id": "7d8788f5",
   "metadata": {},
   "outputs": [
    {
     "name": "stdout",
     "output_type": "stream",
     "text": [
      "A\n",
      "a\n"
     ]
    }
   ],
   "source": [
    "for i in list6:\n",
    "    print(i)"
   ]
  },
  {
   "cell_type": "code",
   "execution_count": 55,
   "id": "8d937e53",
   "metadata": {},
   "outputs": [
    {
     "name": "stdout",
     "output_type": "stream",
     "text": [
      "hai how are you\n",
      "[1, 2, 3]\n"
     ]
    }
   ],
   "source": [
    "for i in list7:\n",
    "    print(i)"
   ]
  },
  {
   "cell_type": "code",
   "execution_count": 59,
   "id": "d7a0e090",
   "metadata": {},
   "outputs": [
    {
     "ename": "TypeError",
     "evalue": "'<' not supported between instances of 'int' and 'list'",
     "output_type": "error",
     "traceback": [
      "\u001b[1;31m---------------------------------------------------------------------------\u001b[0m",
      "\u001b[1;31mTypeError\u001b[0m                                 Traceback (most recent call last)",
      "Cell \u001b[1;32mIn[59], line 2\u001b[0m\n\u001b[0;32m      1\u001b[0m i\u001b[38;5;241m=\u001b[39m\u001b[38;5;241m0\u001b[39m\n\u001b[1;32m----> 2\u001b[0m \u001b[38;5;28;01mwhile\u001b[39;00m i\u001b[38;5;241m<\u001b[39mlist2:\n\u001b[0;32m      3\u001b[0m     \u001b[38;5;28mprint\u001b[39m(i)\n\u001b[0;32m      4\u001b[0m     i\u001b[38;5;241m=\u001b[39mi\u001b[38;5;241m+\u001b[39m\u001b[38;5;241m1\u001b[39m\n",
      "\u001b[1;31mTypeError\u001b[0m: '<' not supported between instances of 'int' and 'list'"
     ]
    }
   ],
   "source": [
    "i=0\n",
    "while i<list2:\n",
    "    print(i)\n",
    "    i=i+1"
   ]
  },
  {
   "cell_type": "markdown",
   "id": "893a6b4b",
   "metadata": {},
   "source": [
    "- if you want to deal with while\n",
    "- we required numbers"
   ]
  },
  {
   "cell_type": "markdown",
   "id": "956ae75e",
   "metadata": {},
   "source": [
    "### index operation"
   ]
  },
  {
   "cell_type": "code",
   "execution_count": 64,
   "id": "769a0d32",
   "metadata": {},
   "outputs": [
    {
     "data": {
      "text/plain": [
       "['A', 'B', 'C', 'D']"
      ]
     },
     "execution_count": 64,
     "metadata": {},
     "output_type": "execute_result"
    }
   ],
   "source": [
    "list2\n"
   ]
  },
  {
   "cell_type": "code",
   "execution_count": null,
   "id": "95eccad6",
   "metadata": {},
   "outputs": [],
   "source": [
    "# python index start with zero\n",
    "A   B   C   D\n",
    "0   1   2   3"
   ]
  },
  {
   "cell_type": "code",
   "execution_count": 65,
   "id": "23abff0e",
   "metadata": {},
   "outputs": [
    {
     "data": {
      "text/plain": [
       "('A', 'B', 'C', 'D')"
      ]
     },
     "execution_count": 65,
     "metadata": {},
     "output_type": "execute_result"
    }
   ],
   "source": [
    "list2[0],list2[1],list2[2],list2[3]"
   ]
  },
  {
   "cell_type": "code",
   "execution_count": 67,
   "id": "405a42a0",
   "metadata": {},
   "outputs": [
    {
     "name": "stdout",
     "output_type": "stream",
     "text": [
      "A\n",
      "B\n",
      "C\n",
      "D\n"
     ]
    }
   ],
   "source": [
    "i=0\n",
    "while i< len(list2):\n",
    "    print(list2[i])\n",
    "    i=i+1"
   ]
  },
  {
   "cell_type": "code",
   "execution_count": 66,
   "id": "3842a00d",
   "metadata": {},
   "outputs": [
    {
     "name": "stdout",
     "output_type": "stream",
     "text": [
      "A\n",
      "B\n",
      "C\n",
      "D\n"
     ]
    }
   ],
   "source": [
    "for i in range(len(list2)):\n",
    "    print(list2[i])"
   ]
  },
  {
   "cell_type": "code",
   "execution_count": null,
   "id": "e26c2fa2",
   "metadata": {},
   "outputs": [],
   "source": [
    "################################ For/ While ######################\n",
    "# The positive index of A is 0\n",
    "# the positive index of B is 1\n",
    "\n",
    "# The negative index of A is 0\n",
    "# the negative index of B is 1\n",
    "\n",
    "# The positive index of A is 0 and negative index is -4\n",
    "# the positive index of B is 1"
   ]
  },
  {
   "cell_type": "code",
   "execution_count": 70,
   "id": "de9e9000",
   "metadata": {},
   "outputs": [
    {
     "name": "stdout",
     "output_type": "stream",
     "text": [
      "The positive index of A is 0\n",
      "The positive index of B is 1\n",
      "The positive index of C is 2\n",
      "The positive index of D is 3\n"
     ]
    }
   ],
   "source": [
    "for i in range(len(list2)):\n",
    "    print('The positive index of {} is {}'.format(list2[i],i))"
   ]
  },
  {
   "cell_type": "code",
   "execution_count": 81,
   "id": "38ddde58",
   "metadata": {},
   "outputs": [
    {
     "name": "stdout",
     "output_type": "stream",
     "text": [
      "The negative index of A is -4\n",
      "The negative index of B is -3\n",
      "The negative index of C is -2\n",
      "The negative index of D is -1\n"
     ]
    }
   ],
   "source": [
    "for i in range(len(list2)):\n",
    "    print('The negative index of {} is {}'.format(list2[i],i-len(list2)))"
   ]
  },
  {
   "cell_type": "code",
   "execution_count": 76,
   "id": "ad3adcad",
   "metadata": {},
   "outputs": [
    {
     "name": "stdout",
     "output_type": "stream",
     "text": [
      "The positive index of A is 0 and negative index is -4\n",
      "The positive index of B is 1 and negative index is -3\n",
      "The positive index of C is 2 and negative index is -2\n",
      "The positive index of D is 3 and negative index is -1\n"
     ]
    }
   ],
   "source": [
    "for i in range(len(list2)):\n",
    "    print('The positive index of {} is {} and negative index is {}'.format(list2[i],i,i-len(list2)))"
   ]
  },
  {
   "cell_type": "code",
   "execution_count": 79,
   "id": "54dd42ec",
   "metadata": {},
   "outputs": [
    {
     "name": "stdout",
     "output_type": "stream",
     "text": [
      "The positive index of A is 0\n",
      "The positive index of B is 1\n",
      "The positive index of C is 2\n",
      "The positive index of D is 3\n"
     ]
    }
   ],
   "source": [
    "i=0\n",
    "while i<len(list2):\n",
    "    print('The positive index of {} is {}'.format(list2[i],i))\n",
    "    i+=1"
   ]
  },
  {
   "cell_type": "code",
   "execution_count": 82,
   "id": "cd00c765",
   "metadata": {},
   "outputs": [
    {
     "name": "stdout",
     "output_type": "stream",
     "text": [
      "The negative index of A is -4\n",
      "The negative index of B is -3\n",
      "The negative index of C is -2\n",
      "The negative index of D is -1\n"
     ]
    }
   ],
   "source": [
    "i=0\n",
    "while i<len(list2):\n",
    "    print('The negative index of {} is {}'.format(list2[i],i-len(list2)))\n",
    "    i+=1"
   ]
  },
  {
   "cell_type": "code",
   "execution_count": 83,
   "id": "bc842083",
   "metadata": {},
   "outputs": [
    {
     "name": "stdout",
     "output_type": "stream",
     "text": [
      "The positive index of A is 0 and negative index is -4\n",
      "The positive index of B is 1 and negative index is -3\n",
      "The positive index of C is 2 and negative index is -2\n",
      "The positive index of D is 3 and negative index is -1\n"
     ]
    }
   ],
   "source": [
    "i=0\n",
    "while i<len(list2):\n",
    "    print('The positive index of {} is {} and negative index is {}'.format(list2[i],i,i-len(list2)))\n",
    "    i+=1"
   ]
  },
  {
   "cell_type": "markdown",
   "id": "5e8ef1a0",
   "metadata": {},
   "source": [
    "# check that mutable"
   ]
  },
  {
   "cell_type": "code",
   "execution_count": 86,
   "id": "ceb81330",
   "metadata": {},
   "outputs": [
    {
     "data": {
      "text/plain": [
       "['A', 'B', 'C', 'D']"
      ]
     },
     "execution_count": 86,
     "metadata": {},
     "output_type": "execute_result"
    }
   ],
   "source": [
    "list2"
   ]
  },
  {
   "cell_type": "markdown",
   "id": "bf64da68",
   "metadata": {},
   "source": [
    "- list is mutable and \n",
    "- string is immutable"
   ]
  },
  {
   "cell_type": "code",
   "execution_count": 87,
   "id": "4488cce5",
   "metadata": {},
   "outputs": [],
   "source": [
    "list2[0]='AAAAAAAAA'"
   ]
  },
  {
   "cell_type": "code",
   "execution_count": 88,
   "id": "c78671d9",
   "metadata": {},
   "outputs": [
    {
     "data": {
      "text/plain": [
       "['AAAAAAAAA', 'B', 'C', 'D']"
      ]
     },
     "execution_count": 88,
     "metadata": {},
     "output_type": "execute_result"
    }
   ],
   "source": [
    "list2"
   ]
  },
  {
   "cell_type": "code",
   "execution_count": 109,
   "id": "e7ebe525",
   "metadata": {},
   "outputs": [
    {
     "data": {
      "text/plain": [
       "[[[1, 2, 3, 4]]]"
      ]
     },
     "execution_count": 109,
     "metadata": {},
     "output_type": "execute_result"
    }
   ],
   "source": [
    "list1=[[[[1,2,3,4]]]]\n",
    "list1[0]\n",
    "#  retrive the index of 4\n",
    "# what is the index of 4"
   ]
  },
  {
   "cell_type": "code",
   "execution_count": 111,
   "id": "ac5293a4",
   "metadata": {},
   "outputs": [
    {
     "data": {
      "text/plain": [
       "4"
      ]
     },
     "execution_count": 111,
     "metadata": {},
     "output_type": "execute_result"
    }
   ],
   "source": [
    "list1=[[[[1,2,3,4]]]]\n",
    "list1[0][0][0][3]"
   ]
  },
  {
   "cell_type": "code",
   "execution_count": 116,
   "id": "38c14cd6",
   "metadata": {},
   "outputs": [
    {
     "data": {
      "text/plain": [
       "'Cherry'"
      ]
     },
     "execution_count": 116,
     "metadata": {},
     "output_type": "execute_result"
    }
   ],
   "source": [
    "list2=[[[[['A','B',[1,2,3,['Cherry']]]]]]]\n",
    "list2[0][0][0][0][2][3][0]"
   ]
  },
  {
   "cell_type": "code",
   "execution_count": 131,
   "id": "dfa91205",
   "metadata": {},
   "outputs": [
    {
     "name": "stdout",
     "output_type": "stream",
     "text": [
      "0\n",
      "1\n",
      "2\n"
     ]
    }
   ],
   "source": [
    "list1=[[1,2,3]]\n",
    "for i in range(len(list1[0])):\n",
    "    print(i)"
   ]
  },
  {
   "cell_type": "code",
   "execution_count": 129,
   "id": "aba6c91d",
   "metadata": {},
   "outputs": [
    {
     "name": "stdout",
     "output_type": "stream",
     "text": [
      "1\n",
      "2\n",
      "3\n"
     ]
    }
   ],
   "source": [
    "list1=[[1,2,3]]\n",
    "list2=list1[0]\n",
    "for i in range(len(list2)):\n",
    "    print(list2[i])"
   ]
  },
  {
   "cell_type": "code",
   "execution_count": null,
   "id": "ebb62770",
   "metadata": {},
   "outputs": [],
   "source": []
  }
 ],
 "metadata": {
  "kernelspec": {
   "display_name": "Python 3 (ipykernel)",
   "language": "python",
   "name": "python3"
  },
  "language_info": {
   "codemirror_mode": {
    "name": "ipython",
    "version": 3
   },
   "file_extension": ".py",
   "mimetype": "text/x-python",
   "name": "python",
   "nbconvert_exporter": "python",
   "pygments_lexer": "ipython3",
   "version": "3.11.5"
  }
 },
 "nbformat": 4,
 "nbformat_minor": 5
}
