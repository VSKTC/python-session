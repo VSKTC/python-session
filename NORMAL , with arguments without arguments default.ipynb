{
 "cells": [
  {
   "cell_type": "markdown",
   "id": "22f04975",
   "metadata": {},
   "source": [
    "# Functions"
   ]
  },
  {
   "cell_type": "markdown",
   "id": "9176fc52",
   "metadata": {},
   "source": [
    "It is a block of codes\n",
    "\n",
    "Have set of instruction and\n",
    "\n",
    "we can recall multiple times"
   ]
  },
  {
   "cell_type": "code",
   "execution_count": 1,
   "id": "cf11b11b",
   "metadata": {},
   "outputs": [
    {
     "name": "stdout",
     "output_type": "stream",
     "text": [
      "50\n"
     ]
    }
   ],
   "source": [
    "a=20\n",
    "b=30\n",
    "print(a+b)"
   ]
  },
  {
   "cell_type": "code",
   "execution_count": null,
   "id": "f109fa78",
   "metadata": {},
   "outputs": [],
   "source": [
    "def <function_name>():\n",
    "    #statement-1\n",
    "    #s 2\n"
   ]
  },
  {
   "cell_type": "code",
   "execution_count": 7,
   "id": "268c0afd",
   "metadata": {},
   "outputs": [
    {
     "name": "stdout",
     "output_type": "stream",
     "text": [
      "enter base salary :65000\n",
      "enter DA amount :7000\n",
      "The total salary : 72000\n"
     ]
    }
   ],
   "source": [
    "base_sal=eval(input(\"enter base salary :\"))\n",
    "DA_amount=eval(input(\"enter DA amount :\"))\n",
    "total_sal=base_sal+DA_amount\n",
    "print('The total salary :',total_sal)"
   ]
  },
  {
   "cell_type": "code",
   "execution_count": 5,
   "id": "93a4e042",
   "metadata": {},
   "outputs": [],
   "source": [
    "def salary():\n",
    "    base_sal=eval(input(\"enter base salary :\"))\n",
    "    DA_amount=eval(input(\"enter DA amount :\"))\n",
    "    total_sal=base_sal+DA_amount\n",
    "    print('The total salary :',total_sal)\n",
    "    # it will not show any eror aswellas \n",
    "    #it will not give any output also"
   ]
  },
  {
   "cell_type": "code",
   "execution_count": 6,
   "id": "859d13ae",
   "metadata": {},
   "outputs": [
    {
     "name": "stdout",
     "output_type": "stream",
     "text": [
      "enter base salary :60000\n",
      "enter DA amount :15000\n",
      "The total salary : 75000\n"
     ]
    }
   ],
   "source": [
    "salary()"
   ]
  },
  {
   "cell_type": "code",
   "execution_count": 9,
   "id": "71d8cade",
   "metadata": {
    "scrolled": true
   },
   "outputs": [
    {
     "name": "stdout",
     "output_type": "stream",
     "text": [
      "enter a n1 :20\n",
      "enter a n2 :30\n",
      "enter a n3 :40\n",
      "Average of 3 numbers : 30.0\n"
     ]
    }
   ],
   "source": [
    "#wap ask the user enter 3 num and cal avg\n",
    "# implement a funation\n",
    "a=eval(input(\"enter a n1 :\"))\n",
    "b=eval(input(\"enter a n2 :\"))\n",
    "c=eval(input(\"enter a n3 :\"))\n",
    "avg=(a+b+c)/3\n",
    "print(\"Average of 3 numbers :\",avg)"
   ]
  },
  {
   "cell_type": "code",
   "execution_count": 11,
   "id": "5ca1ebba",
   "metadata": {},
   "outputs": [],
   "source": [
    "def average():\n",
    "    a=eval(input(\"enter a n1 :\"))\n",
    "    b=eval(input(\"enter a n2 :\"))\n",
    "    c=eval(input(\"enter a n3 :\"))\n",
    "    avg=(a+b+c)/3\n",
    "    print(\"Average of 3 numbers :\",avg)"
   ]
  },
  {
   "cell_type": "code",
   "execution_count": 12,
   "id": "520e2b0a",
   "metadata": {},
   "outputs": [
    {
     "name": "stdout",
     "output_type": "stream",
     "text": [
      "enter a n1 :10\n",
      "enter a n2 :2030\n",
      "enter a n3 :30\n",
      "Average of 3 numbers : 690.0\n"
     ]
    }
   ],
   "source": [
    "average()"
   ]
  },
  {
   "cell_type": "code",
   "execution_count": 13,
   "id": "e0ea6aea",
   "metadata": {},
   "outputs": [
    {
     "name": "stdout",
     "output_type": "stream",
     "text": [
      "enter a n1 :10\n",
      "enter a n2 :20\n",
      "enter a n3 :30\n",
      "Average of 3 numbers : 20.0\n"
     ]
    }
   ],
   "source": [
    "average()"
   ]
  },
  {
   "cell_type": "code",
   "execution_count": null,
   "id": "397b05c7",
   "metadata": {},
   "outputs": [],
   "source": [
    "#wap ask the user enter bill amount \n",
    "# enter how much tip you want to pay\n",
    "# cal total bill"
   ]
  },
  {
   "cell_type": "code",
   "execution_count": 16,
   "id": "6db18794",
   "metadata": {},
   "outputs": [
    {
     "name": "stdout",
     "output_type": "stream",
     "text": [
      "enter bill amount:1000\n",
      "enter tip amount:10\n",
      "Total bill amount : 1010\n"
     ]
    }
   ],
   "source": [
    "try:\n",
    "    bill_amount=eval(input(\"enter bill amount:\"))\n",
    "    tip_amount=eval(input(\"enter tip amount:\"))\n",
    "    total_bill=bill_amount+tip_amount\n",
    "    print(\"Total bill amount :\",total_bill)\n",
    "except Exception as e:\n",
    "    print(e)"
   ]
  },
  {
   "cell_type": "code",
   "execution_count": 17,
   "id": "e35545a1",
   "metadata": {},
   "outputs": [],
   "source": [
    "def bill():\n",
    "    try:\n",
    "        bill_amount=eval(input(\"enter bill amount:\"))\n",
    "        tip_amount=eval(input(\"enter tip amount:\"))\n",
    "        total_bill=bill_amount+tip_amount\n",
    "        print(\"Total bill amount :\",total_bill)\n",
    "    except Exception as e:\n",
    "        print(e)\n",
    "        "
   ]
  },
  {
   "cell_type": "code",
   "execution_count": 18,
   "id": "3e4e3fba",
   "metadata": {},
   "outputs": [
    {
     "name": "stdout",
     "output_type": "stream",
     "text": [
      "enter bill amount:1000\n",
      "enter tip amount:10\n",
      "Total bill amount : 1010\n"
     ]
    }
   ],
   "source": [
    "bill()"
   ]
  },
  {
   "cell_type": "code",
   "execution_count": 19,
   "id": "e47782da",
   "metadata": {},
   "outputs": [
    {
     "name": "stdout",
     "output_type": "stream",
     "text": [
      "enter bill amount:2000\n",
      "enter tip amount:36\n",
      "Total bill amount : 2036\n"
     ]
    }
   ],
   "source": [
    "bill()"
   ]
  },
  {
   "cell_type": "code",
   "execution_count": null,
   "id": "700127c5",
   "metadata": {},
   "outputs": [],
   "source": [
    "#wap ask the user enter a num \n",
    "#print if it is an even or odd\n",
    "#implement a function"
   ]
  },
  {
   "cell_type": "code",
   "execution_count": 25,
   "id": "22f0e65b",
   "metadata": {},
   "outputs": [
    {
     "name": "stdout",
     "output_type": "stream",
     "text": [
      "enter a number :25\n",
      "odd number\n"
     ]
    }
   ],
   "source": [
    "try:\n",
    "    n1=eval(input(\"enter a number :\"))\n",
    "    if n1%2==0:\n",
    "        print(\"even numver\")\n",
    "    else:\n",
    "        print(\"odd number\")\n",
    "except Exception as e:\n",
    "    print()"
   ]
  },
  {
   "cell_type": "code",
   "execution_count": 27,
   "id": "16bd97f6",
   "metadata": {},
   "outputs": [],
   "source": [
    "def odd_even():\n",
    "    try:\n",
    "        n1=eval(input(\"enter a number :\"))\n",
    "        if n1%2==0:\n",
    "            print(\"even numver\")\n",
    "        else:\n",
    "            print(\"odd number\")\n",
    "    except Exception as e:\n",
    "        print()"
   ]
  },
  {
   "cell_type": "markdown",
   "id": "f2aadaea",
   "metadata": {},
   "source": [
    "# ** without arguments**"
   ]
  },
  {
   "cell_type": "code",
   "execution_count": 29,
   "id": "68e87312",
   "metadata": {},
   "outputs": [
    {
     "name": "stdout",
     "output_type": "stream",
     "text": [
      "enter a number :5\n",
      "odd number\n"
     ]
    }
   ],
   "source": [
    "odd_even()"
   ]
  },
  {
   "cell_type": "code",
   "execution_count": null,
   "id": "3ac4815e",
   "metadata": {},
   "outputs": [],
   "source": [
    "1) add() # not provided any thing inside brackets (with out arguments))\n",
    "2) bill()"
   ]
  },
  {
   "cell_type": "code",
   "execution_count": null,
   "id": "37c50e96",
   "metadata": {},
   "outputs": [],
   "source": []
  },
  {
   "cell_type": "code",
   "execution_count": null,
   "id": "bc396789",
   "metadata": {},
   "outputs": [],
   "source": [
    "# if you provide any thing inside the brackets \n",
    "# that are called arguments/parameters"
   ]
  },
  {
   "cell_type": "code",
   "execution_count": null,
   "id": "67881ce9",
   "metadata": {},
   "outputs": [],
   "source": [
    "import random\n",
    "random.randint()"
   ]
  },
  {
   "cell_type": "markdown",
   "id": "23954ab2",
   "metadata": {},
   "source": [
    "# ** with argunments**"
   ]
  },
  {
   "cell_type": "code",
   "execution_count": 34,
   "id": "1c15cff2",
   "metadata": {},
   "outputs": [
    {
     "name": "stdout",
     "output_type": "stream",
     "text": [
      "30\n"
     ]
    }
   ],
   "source": [
    "def add(a):\n",
    "    b=20\n",
    "    print(a+b)\n",
    "add(10)"
   ]
  },
  {
   "cell_type": "code",
   "execution_count": 35,
   "id": "a3eb3111",
   "metadata": {},
   "outputs": [
    {
     "ename": "TypeError",
     "evalue": "add() missing 1 required positional argument: 'b'",
     "output_type": "error",
     "traceback": [
      "\u001b[1;31m---------------------------------------------------------------------------\u001b[0m",
      "\u001b[1;31mTypeError\u001b[0m                                 Traceback (most recent call last)",
      "Cell \u001b[1;32mIn[35], line 3\u001b[0m\n\u001b[0;32m      1\u001b[0m \u001b[38;5;28;01mdef\u001b[39;00m \u001b[38;5;21madd\u001b[39m(a,b):\n\u001b[0;32m      2\u001b[0m     \u001b[38;5;28mprint\u001b[39m(a\u001b[38;5;241m+\u001b[39mb)\n\u001b[1;32m----> 3\u001b[0m add(\u001b[38;5;241m10\u001b[39m)\n",
      "\u001b[1;31mTypeError\u001b[0m: add() missing 1 required positional argument: 'b'"
     ]
    }
   ],
   "source": [
    "def add(a,b):\n",
    "    print(a+b)\n",
    "add(10)"
   ]
  },
  {
   "cell_type": "code",
   "execution_count": 36,
   "id": "953c6617",
   "metadata": {},
   "outputs": [
    {
     "name": "stdout",
     "output_type": "stream",
     "text": [
      "30\n"
     ]
    }
   ],
   "source": [
    "def add(a,b):\n",
    "    print(a+b)\n",
    "add(10,20)"
   ]
  },
  {
   "cell_type": "code",
   "execution_count": 38,
   "id": "f754f080",
   "metadata": {},
   "outputs": [
    {
     "ename": "TypeError",
     "evalue": "add() missing 1 required positional argument: 'a'",
     "output_type": "error",
     "traceback": [
      "\u001b[1;31m---------------------------------------------------------------------------\u001b[0m",
      "\u001b[1;31mTypeError\u001b[0m                                 Traceback (most recent call last)",
      "Cell \u001b[1;32mIn[38], line 3\u001b[0m\n\u001b[0;32m      1\u001b[0m \u001b[38;5;28;01mdef\u001b[39;00m \u001b[38;5;21madd\u001b[39m(b,a):\n\u001b[0;32m      2\u001b[0m     \u001b[38;5;28mprint\u001b[39m(a\u001b[38;5;241m+\u001b[39mb)\n\u001b[1;32m----> 3\u001b[0m add(\u001b[38;5;241m10\u001b[39m)\n",
      "\u001b[1;31mTypeError\u001b[0m: add() missing 1 required positional argument: 'a'"
     ]
    }
   ],
   "source": [
    "def add(b,a):\n",
    "    print(a+b)\n",
    "add(10)"
   ]
  },
  {
   "cell_type": "code",
   "execution_count": 39,
   "id": "0706f62a",
   "metadata": {},
   "outputs": [
    {
     "name": "stdout",
     "output_type": "stream",
     "text": [
      "enter b number :20\n",
      "30\n"
     ]
    }
   ],
   "source": [
    "def add(a):\n",
    "    b=eval(input(\"enter b number :\"))\n",
    "    print(a+b)\n",
    "add(10)"
   ]
  },
  {
   "cell_type": "code",
   "execution_count": 40,
   "id": "18e0c0d0",
   "metadata": {},
   "outputs": [
    {
     "ename": "TypeError",
     "evalue": "add() missing 2 required positional arguments: 'a' and 'b'",
     "output_type": "error",
     "traceback": [
      "\u001b[1;31m---------------------------------------------------------------------------\u001b[0m",
      "\u001b[1;31mTypeError\u001b[0m                                 Traceback (most recent call last)",
      "Cell \u001b[1;32mIn[40], line 3\u001b[0m\n\u001b[0;32m      1\u001b[0m \u001b[38;5;28;01mdef\u001b[39;00m \u001b[38;5;21madd\u001b[39m(a,b):\n\u001b[0;32m      2\u001b[0m     \u001b[38;5;28mprint\u001b[39m(a\u001b[38;5;241m+\u001b[39mb)\n\u001b[1;32m----> 3\u001b[0m add()\n",
      "\u001b[1;31mTypeError\u001b[0m: add() missing 2 required positional arguments: 'a' and 'b'"
     ]
    }
   ],
   "source": [
    "def add(a,b):\n",
    "    print(a+b)\n",
    "add()"
   ]
  },
  {
   "cell_type": "code",
   "execution_count": 44,
   "id": "b479aec1",
   "metadata": {
    "scrolled": false
   },
   "outputs": [
    {
     "ename": "NameError",
     "evalue": "name 'x' is not defined",
     "output_type": "error",
     "traceback": [
      "\u001b[1;31m---------------------------------------------------------------------------\u001b[0m",
      "\u001b[1;31mNameError\u001b[0m                                 Traceback (most recent call last)",
      "Cell \u001b[1;32mIn[44], line 4\u001b[0m\n\u001b[0;32m      1\u001b[0m \u001b[38;5;28;01mdef\u001b[39;00m \u001b[38;5;21madd\u001b[39m():\n\u001b[0;32m      2\u001b[0m     \u001b[38;5;28mprint\u001b[39m(x\u001b[38;5;241m+\u001b[39my)\n\u001b[1;32m----> 4\u001b[0m add()\n",
      "Cell \u001b[1;32mIn[44], line 2\u001b[0m, in \u001b[0;36madd\u001b[1;34m()\u001b[0m\n\u001b[0;32m      1\u001b[0m \u001b[38;5;28;01mdef\u001b[39;00m \u001b[38;5;21madd\u001b[39m():\n\u001b[1;32m----> 2\u001b[0m     \u001b[38;5;28mprint\u001b[39m(x\u001b[38;5;241m+\u001b[39my)\n",
      "\u001b[1;31mNameError\u001b[0m: name 'x' is not defined"
     ]
    }
   ],
   "source": [
    "def add():\n",
    "    print(x+y)\n",
    "    \n",
    "add()"
   ]
  },
  {
   "cell_type": "code",
   "execution_count": 49,
   "id": "38091df5",
   "metadata": {},
   "outputs": [
    {
     "name": "stdout",
     "output_type": "stream",
     "text": [
      "Average of 3 numbers : 20.0\n"
     ]
    }
   ],
   "source": [
    "def average(a,b,c):\n",
    "    avg=(a+b+c)/3\n",
    "    print(\"Average of 3 numbers :\",avg)\n",
    "average(10,20,30)"
   ]
  },
  {
   "cell_type": "code",
   "execution_count": 50,
   "id": "c78f4e89",
   "metadata": {},
   "outputs": [
    {
     "name": "stdout",
     "output_type": "stream",
     "text": [
      "Total bill amount : 17000\n"
     ]
    }
   ],
   "source": [
    "def bill(bill_amount,tip_amount):\n",
    "    try:\n",
    "        total_bill=bill_amount+tip_amount\n",
    "        print(\"Total bill amount :\",total_bill)\n",
    "    except Exception as e:\n",
    "        print(e)\n",
    "bill(10000,7000)        "
   ]
  },
  {
   "cell_type": "markdown",
   "id": "27b8d67a",
   "metadata": {},
   "source": [
    "# **Default arguments**"
   ]
  },
  {
   "cell_type": "code",
   "execution_count": null,
   "id": "43bdbe05",
   "metadata": {},
   "outputs": [],
   "source": [
    "#WAP ask the user enter 3num and find the average."
   ]
  },
  {
   "cell_type": "code",
   "execution_count": 52,
   "id": "28429820",
   "metadata": {},
   "outputs": [
    {
     "name": "stdout",
     "output_type": "stream",
     "text": [
      "Average of 3 numbers : 20.0\n"
     ]
    }
   ],
   "source": [
    "def average(a,b,c=30):\n",
    "    avg=(a+b+c)/3\n",
    "    print(\"Average of 3 numbers :\",avg)\n",
    "    \n",
    "average(10,20)\n",
    "# fixed is default argumnets\n",
    "#here c is default arguments"
   ]
  },
  {
   "cell_type": "code",
   "execution_count": 57,
   "id": "acc5e535",
   "metadata": {},
   "outputs": [
    {
     "name": "stdout",
     "output_type": "stream",
     "text": [
      "Average of 3 numbers : 30.0\n"
     ]
    }
   ],
   "source": [
    "def average(a,b,c=30):\n",
    "    \n",
    "    avg=(a+b+c)/3\n",
    "    print(\"Average of 3 numbers :\",avg)\n",
    "    \n",
    "average(10,20,60)"
   ]
  },
  {
   "cell_type": "code",
   "execution_count": null,
   "id": "3942c532",
   "metadata": {},
   "outputs": [],
   "source": [
    "# initualize the first\n",
    "# calling is second"
   ]
  },
  {
   "cell_type": "code",
   "execution_count": 59,
   "id": "081e20f1",
   "metadata": {},
   "outputs": [
    {
     "name": "stdout",
     "output_type": "stream",
     "text": [
      "Average of 3 numbers : 43.333333333333336\n"
     ]
    }
   ],
   "source": [
    "def average(a,b,c=30):\n",
    "    c=100\n",
    "    avg=(a+b+c)/3\n",
    "    print(\"Average of 3 numbers :\",avg)\n",
    "    \n",
    "average(10,20)"
   ]
  },
  {
   "cell_type": "code",
   "execution_count": null,
   "id": "620bfa01",
   "metadata": {},
   "outputs": [],
   "source": [
    "def average(a,b,c=30):\n",
    "    c=100\n",
    "    avg=(a+b+c)/3\n",
    "    print(\"Average of 3 numbers :\",avg)\n",
    "    \n",
    "average(10,20,60)"
   ]
  },
  {
   "cell_type": "code",
   "execution_count": null,
   "id": "c36cd1f8",
   "metadata": {},
   "outputs": [],
   "source": [
    "# step1: what initilized\n",
    "#step2: call the function\n",
    "#step3 : inside code\n"
   ]
  },
  {
   "cell_type": "markdown",
   "id": "11740ddf",
   "metadata": {},
   "source": [
    "# always default modifier is last"
   ]
  },
  {
   "cell_type": "code",
   "execution_count": 61,
   "id": "34af9117",
   "metadata": {},
   "outputs": [
    {
     "ename": "SyntaxError",
     "evalue": "non-default argument follows default argument (1937893489.py, line 1)",
     "output_type": "error",
     "traceback": [
      "\u001b[1;36m  Cell \u001b[1;32mIn[61], line 1\u001b[1;36m\u001b[0m\n\u001b[1;33m    def average(a,b=200,c):\u001b[0m\n\u001b[1;37m                        ^\u001b[0m\n\u001b[1;31mSyntaxError\u001b[0m\u001b[1;31m:\u001b[0m non-default argument follows default argument\n"
     ]
    }
   ],
   "source": [
    "def average(a,b=200,c):\n",
    "    c=100\n",
    "    avg=(a+b+c)/3\n",
    "    print(\"Average of 3 numbers :\",avg)\n",
    "    \n",
    "average(10,20)"
   ]
  },
  {
   "cell_type": "code",
   "execution_count": 62,
   "id": "b4a3c9c4",
   "metadata": {},
   "outputs": [
    {
     "name": "stdout",
     "output_type": "stream",
     "text": [
      "Average of 3 numbers : 46.666666666666664\n"
     ]
    }
   ],
   "source": [
    "def average(a,c,b=30):\n",
    "    c=100\n",
    "    avg=(a+b+c)/3\n",
    "    print(\"Average of 3 numbers :\",avg)\n",
    "    \n",
    "average(10,30)"
   ]
  },
  {
   "cell_type": "code",
   "execution_count": 2,
   "id": "7f3786fd",
   "metadata": {},
   "outputs": [
    {
     "name": "stdout",
     "output_type": "stream",
     "text": [
      "enter n1:20\n",
      "enter n2:30\n",
      "enter n3:10\n",
      "add of 20 30and10is 60\n",
      "avg of 20 30and10is 20.0\n"
     ]
    }
   ],
   "source": [
    "#method1\n",
    "n1=eval(input(\"enter n1:\"))\n",
    "n2=eval(input(\"enter n2:\"))\n",
    "n3=eval(input(\"enter n3:\"))\n",
    "add=n1+n2+n3\n",
    "avg=round(add/3,2)\n",
    "print(\"add of {} {}and{}is {}\".format(n1,n2,n3,add))\n",
    "print(\"avg of {} {}and{}is {}\".format(n1,n2,n3,avg))"
   ]
  },
  {
   "cell_type": "code",
   "execution_count": 4,
   "id": "b726b70b",
   "metadata": {},
   "outputs": [],
   "source": [
    "#method3\n",
    "def avg(n1,n2,n3):\n",
    "\n",
    "    add=n1+n2+n3\n",
    "    avg=round(add/3,2)\n",
    "    print(\"add of {} {}and{}is {}\".format(n1,n2,n3,add))\n",
    "    print(\"avg of {} {}and{}is {}\".format(n1,n2,n3,avg))"
   ]
  },
  {
   "cell_type": "code",
   "execution_count": 5,
   "id": "6bf96180",
   "metadata": {},
   "outputs": [
    {
     "name": "stdout",
     "output_type": "stream",
     "text": [
      "add of 10 20and30is 60\n",
      "avg of 10 20and30is 20.0\n"
     ]
    }
   ],
   "source": [
    "avg(10,20,30)"
   ]
  },
  {
   "cell_type": "markdown",
   "id": "3f792214",
   "metadata": {},
   "source": [
    "# RETURN"
   ]
  },
  {
   "cell_type": "code",
   "execution_count": 13,
   "id": "dc92bb52",
   "metadata": {},
   "outputs": [],
   "source": [
    "#method4 \n",
    "def avg_withd(n1,n2,n3=100):\n",
    "    add=n1+n2+n3\n",
    "    AVG=round(add/3,2)\n",
    "    print(\"add of {} {}and{}is {}\".format(n1,n2,n3,add))\n",
    "    print(\"avg of {} {}and{}is {}\".format(n1,n2,n3,AVG))\n",
    "    return(AVG)"
   ]
  },
  {
   "cell_type": "code",
   "execution_count": 14,
   "id": "95294add",
   "metadata": {},
   "outputs": [
    {
     "name": "stdout",
     "output_type": "stream",
     "text": [
      "add of 10 20and100is 130\n",
      "avg of 10 20and100is 43.33\n"
     ]
    },
    {
     "data": {
      "text/plain": [
       "43.33"
      ]
     },
     "execution_count": 14,
     "metadata": {},
     "output_type": "execute_result"
    }
   ],
   "source": [
    "avg_withd(10,20)"
   ]
  },
  {
   "cell_type": "code",
   "execution_count": 9,
   "id": "b3d44986",
   "metadata": {},
   "outputs": [
    {
     "ename": "NameError",
     "evalue": "name 'AVG' is not defined",
     "output_type": "error",
     "traceback": [
      "\u001b[1;31m---------------------------------------------------------------------------\u001b[0m",
      "\u001b[1;31mNameError\u001b[0m                                 Traceback (most recent call last)",
      "Cell \u001b[1;32mIn[9], line 2\u001b[0m\n\u001b[0;32m      1\u001b[0m \u001b[38;5;66;03m# i want to print outside the function\u001b[39;00m\n\u001b[1;32m----> 2\u001b[0m \u001b[38;5;28mprint\u001b[39m(AVG)\n",
      "\u001b[1;31mNameError\u001b[0m: name 'AVG' is not defined"
     ]
    }
   ],
   "source": [
    "# i want to print outside the function\n",
    "print(AVG)\n",
    "# that function not handover the value\n",
    "# He is not return, the value\n",
    "#Just printing the value"
   ]
  },
  {
   "cell_type": "code",
   "execution_count": 15,
   "id": "e6a3662c",
   "metadata": {},
   "outputs": [
    {
     "ename": "NameError",
     "evalue": "name 'AVG' is not defined",
     "output_type": "error",
     "traceback": [
      "\u001b[1;31m---------------------------------------------------------------------------\u001b[0m",
      "\u001b[1;31mNameError\u001b[0m                                 Traceback (most recent call last)",
      "Cell \u001b[1;32mIn[15], line 1\u001b[0m\n\u001b[1;32m----> 1\u001b[0m \u001b[38;5;28mprint\u001b[39m(AVG)\n",
      "\u001b[1;31mNameError\u001b[0m: name 'AVG' is not defined"
     ]
    }
   ],
   "source": [
    "print(AVG)"
   ]
  },
  {
   "cell_type": "code",
   "execution_count": 19,
   "id": "1a7b2c24",
   "metadata": {},
   "outputs": [],
   "source": [
    "def avg():\n",
    "    n1=eval(input(\"enter n1:\"))\n",
    "    n2=eval(input(\"enter n2:\"))\n",
    "    n3=eval(input(\"enter n3:\"))\n",
    "    add=n1+n2+n3\n",
    "    AVG=round(add/3,2)\n",
    "    print(\"add of {} {}and{}is {}\".format(n1,n2,n3,add))\n",
    "    print(\"avg of {} {}and{}is {}\".format(n1,n2,n3,AVG))\n",
    "    return(AVG)"
   ]
  },
  {
   "cell_type": "code",
   "execution_count": 20,
   "id": "7fd1d686",
   "metadata": {},
   "outputs": [
    {
     "name": "stdout",
     "output_type": "stream",
     "text": [
      "enter n1:20\n",
      "enter n2:30\n",
      "enter n3:40\n",
      "add of 20 30and40is 90\n",
      "avg of 20 30and40is 30.0\n"
     ]
    }
   ],
   "source": [
    "avg_value=avg()"
   ]
  },
  {
   "cell_type": "code",
   "execution_count": 21,
   "id": "55dc09b6",
   "metadata": {},
   "outputs": [
    {
     "data": {
      "text/plain": [
       "30.0"
      ]
     },
     "execution_count": 21,
     "metadata": {},
     "output_type": "execute_result"
    }
   ],
   "source": [
    "avg_value"
   ]
  },
  {
   "cell_type": "code",
   "execution_count": 22,
   "id": "13b4373e",
   "metadata": {},
   "outputs": [],
   "source": [
    "def avg():\n",
    "    n1=eval(input(\"enter n1:\"))\n",
    "    n2=eval(input(\"enter n2:\"))\n",
    "    n3=eval(input(\"enter n3:\"))\n",
    "    ADD1=n1+n2+n3\n",
    "    AVG1=round(ADD1/3,2)\n",
    "    print(\"add of {} {}and{}is {}\".format(n1,n2,n3,ADD1))\n",
    "    print(\"avg of {} {}and{}is {}\".format(n1,n2,n3,AVG1))\n",
    "    return(ADD1,AVG1)"
   ]
  },
  {
   "cell_type": "code",
   "execution_count": 23,
   "id": "c6ee63fb",
   "metadata": {},
   "outputs": [
    {
     "name": "stdout",
     "output_type": "stream",
     "text": [
      "enter n1:10\n",
      "enter n2:20\n",
      "enter n3:30\n",
      "add of 10 20and30is 60\n",
      "avg of 10 20and30is 20.0\n"
     ]
    }
   ],
   "source": [
    "add_avg_value=avg()"
   ]
  },
  {
   "cell_type": "code",
   "execution_count": 24,
   "id": "ee7e83a6",
   "metadata": {},
   "outputs": [
    {
     "data": {
      "text/plain": [
       "(60, 20.0)"
      ]
     },
     "execution_count": 24,
     "metadata": {},
     "output_type": "execute_result"
    }
   ],
   "source": [
    "add_avg_value"
   ]
  },
  {
   "cell_type": "code",
   "execution_count": 28,
   "id": "3c87b44b",
   "metadata": {},
   "outputs": [
    {
     "name": "stdout",
     "output_type": "stream",
     "text": [
      "enter n1:10\n",
      "enter n2:20\n",
      "enter n3:30\n",
      "add of 10 20and30is 60\n",
      "avg of 10 20and30is 20.0\n"
     ]
    }
   ],
   "source": [
    "num1add,num2avg=avg()"
   ]
  },
  {
   "cell_type": "code",
   "execution_count": 29,
   "id": "8705ebc6",
   "metadata": {},
   "outputs": [
    {
     "data": {
      "text/plain": [
       "60"
      ]
     },
     "execution_count": 29,
     "metadata": {},
     "output_type": "execute_result"
    }
   ],
   "source": [
    "num1add"
   ]
  },
  {
   "cell_type": "code",
   "execution_count": 30,
   "id": "18ad6c6f",
   "metadata": {},
   "outputs": [
    {
     "data": {
      "text/plain": [
       "20.0"
      ]
     },
     "execution_count": 30,
     "metadata": {},
     "output_type": "execute_result"
    }
   ],
   "source": [
    "num2avg"
   ]
  },
  {
   "cell_type": "code",
   "execution_count": null,
   "id": "7cb8e544",
   "metadata": {},
   "outputs": [],
   "source": [
    "#create a function with default as tax % =10\n",
    "# enter your salary\n",
    "# cal total tax you want to pay\n",
    "# return tax amount"
   ]
  },
  {
   "cell_type": "code",
   "execution_count": 33,
   "id": "d7ce9afc",
   "metadata": {},
   "outputs": [],
   "source": [
    "def tax():\n",
    "    sal=eval(input(\"Enter your salary:\"))\n",
    "    tax=0.10\n",
    "    total_tax=sal*tax\n",
    "    print(total_tax)\n",
    "    return(total_tax)"
   ]
  },
  {
   "cell_type": "code",
   "execution_count": 34,
   "id": "e5e9bd28",
   "metadata": {},
   "outputs": [
    {
     "name": "stdout",
     "output_type": "stream",
     "text": [
      "Enter your salary:10000\n",
      "1000.0\n"
     ]
    }
   ],
   "source": [
    "total_tax_amount=tax()"
   ]
  },
  {
   "cell_type": "code",
   "execution_count": 35,
   "id": "ce116a4e",
   "metadata": {},
   "outputs": [
    {
     "data": {
      "text/plain": [
       "1000.0"
      ]
     },
     "execution_count": 35,
     "metadata": {},
     "output_type": "execute_result"
    }
   ],
   "source": [
    "total_tax_amount"
   ]
  },
  {
   "cell_type": "code",
   "execution_count": null,
   "id": "2394e2cc",
   "metadata": {},
   "outputs": [],
   "source": [
    "#wap with two a and b arguments and\n",
    "# cal add sub mul div"
   ]
  },
  {
   "cell_type": "code",
   "execution_count": 1,
   "id": "d7cabc76",
   "metadata": {},
   "outputs": [
    {
     "name": "stdout",
     "output_type": "stream",
     "text": [
      "enter n1:10\n",
      "enter n2:20\n",
      "30 -10 200 0.5\n"
     ]
    },
    {
     "data": {
      "text/plain": [
       "(30, -10, 200, 0.5)"
      ]
     },
     "execution_count": 1,
     "metadata": {},
     "output_type": "execute_result"
    }
   ],
   "source": [
    "def cal():\n",
    "    a=eval(input(\"enter n1:\"))\n",
    "    b=eval(input(\"enter n2:\"))\n",
    "    add=a+b\n",
    "    sub=a-b\n",
    "    mul=a*b\n",
    "    div=a/b\n",
    "    print(add,sub,mul,div)\n",
    "    return(add,sub,mul,div)\n",
    "cal()"
   ]
  },
  {
   "cell_type": "code",
   "execution_count": 7,
   "id": "19cb7fb6",
   "metadata": {},
   "outputs": [
    {
     "name": "stdout",
     "output_type": "stream",
     "text": [
      "enter n1:10\n",
      "enter n2:20\n",
      "30 -10 200 0.5\n"
     ]
    }
   ],
   "source": [
    "add,sub,mul,div=cal()"
   ]
  },
  {
   "cell_type": "code",
   "execution_count": 8,
   "id": "a37cccf6",
   "metadata": {},
   "outputs": [
    {
     "data": {
      "text/plain": [
       "-10"
      ]
     },
     "execution_count": 8,
     "metadata": {},
     "output_type": "execute_result"
    }
   ],
   "source": [
    "sub"
   ]
  },
  {
   "cell_type": "code",
   "execution_count": 11,
   "id": "779a556f",
   "metadata": {},
   "outputs": [
    {
     "name": "stdout",
     "output_type": "stream",
     "text": [
      "30 -10 200 0.5\n"
     ]
    }
   ],
   "source": [
    "def cal(a,b):\n",
    "    add=a+b\n",
    "    sub=a-b\n",
    "    mul=a*b\n",
    "    div=a/b\n",
    "    print(add,sub,mul,div)\n",
    "    return(add,sub,mul,div)\n",
    "add,sub,mul,div=cal(10,20)"
   ]
  },
  {
   "cell_type": "code",
   "execution_count": 12,
   "id": "8dc424a2",
   "metadata": {},
   "outputs": [
    {
     "data": {
      "text/plain": [
       "30"
      ]
     },
     "execution_count": 12,
     "metadata": {},
     "output_type": "execute_result"
    }
   ],
   "source": [
    "add"
   ]
  },
  {
   "cell_type": "code",
   "execution_count": 13,
   "id": "5974c58b",
   "metadata": {},
   "outputs": [
    {
     "data": {
      "text/plain": [
       "200"
      ]
     },
     "execution_count": 13,
     "metadata": {},
     "output_type": "execute_result"
    }
   ],
   "source": [
    "mul"
   ]
  },
  {
   "cell_type": "markdown",
   "id": "2ce9d0b2",
   "metadata": {},
   "source": [
    " #local variables means inside the function\n",
    " #Global variables means outside the functions it can use function also"
   ]
  },
  {
   "cell_type": "markdown",
   "id": "ddec722a",
   "metadata": {},
   "source": [
    "# functions"
   ]
  },
  {
   "cell_type": "code",
   "execution_count": 51,
   "id": "5bc610bc",
   "metadata": {},
   "outputs": [
    {
     "name": "stdout",
     "output_type": "stream",
     "text": [
      "Enter a num1 :10\n",
      "Enter a num2 :20\n",
      "Enter a num3 :30\n",
      "n3 is greater\n"
     ]
    }
   ],
   "source": [
    "    try:\n",
    "        n1=eval(input(\"Enter a num1 :\"))\n",
    "        n2=eval(input(\"Enter a num2 :\"))\n",
    "        n3=eval(input(\"Enter a num3 :\"))\n",
    "        if n3> n1 and n2:\n",
    "            print(\"n3 is greater\")\n",
    "        elif n2> n3 and n1:\n",
    "            print(\"n2 is greater\")\n",
    "        else:\n",
    "            print(\"n1 is greater\")\n",
    "    except Exception as e:\n",
    "        print(e)     \n"
   ]
  },
  {
   "cell_type": "code",
   "execution_count": 53,
   "id": "9640b0f2",
   "metadata": {},
   "outputs": [],
   "source": [
    "def gretest():\n",
    "    try:\n",
    "        n1=eval(input(\"Enter a num1 :\"))\n",
    "        n2=eval(input(\"Enter a num2 :\"))\n",
    "        n3=eval(input(\"Enter a num3 :\"))\n",
    "        if n3> n1 and n2:\n",
    "            print(\"n3 is greater\")\n",
    "        elif n2> n3 and n1:\n",
    "            print(\"n2 is greater\")\n",
    "        else:\n",
    "            print(\"n1 is greater\")\n",
    "    except Exception as e:\n",
    "        print(e)     "
   ]
  },
  {
   "cell_type": "code",
   "execution_count": 54,
   "id": "2dc22e4a",
   "metadata": {},
   "outputs": [
    {
     "name": "stdout",
     "output_type": "stream",
     "text": [
      "Enter a num1 :10\n",
      "Enter a num2 :20\n",
      "Enter a num3 :30\n",
      "n3 is greater\n"
     ]
    }
   ],
   "source": [
    "gretest()"
   ]
  },
  {
   "cell_type": "code",
   "execution_count": 55,
   "id": "dbbef767",
   "metadata": {},
   "outputs": [],
   "source": [
    "def gretest(n1,n2,n3):\n",
    "    try:\n",
    "        if n3> n1 and n2:\n",
    "            print(\"n3 is greater\")\n",
    "        elif n2> n3 and n1:\n",
    "            print(\"n2 is greater\")\n",
    "        else:\n",
    "            print(\"n1 is greater\")\n",
    "    except Exception as e:\n",
    "        print(e)     "
   ]
  },
  {
   "cell_type": "code",
   "execution_count": 56,
   "id": "d9384cf8",
   "metadata": {},
   "outputs": [
    {
     "name": "stdout",
     "output_type": "stream",
     "text": [
      "n3 is greater\n"
     ]
    }
   ],
   "source": [
    "gretest(10,20,30)"
   ]
  },
  {
   "cell_type": "code",
   "execution_count": 58,
   "id": "f76d03c9",
   "metadata": {},
   "outputs": [],
   "source": [
    "def gretest_with_r_l(n1,n2,n3=30):\n",
    "    try:\n",
    "        if n3> n1 and n2:\n",
    "            print(\"n3 is greater\")\n",
    "        elif n2> n3 and n1:\n",
    "            print(\"n2 is greater\")\n",
    "        else:\n",
    "            print(\"n1 is greater\")\n",
    "    except Exception as e:\n",
    "        print(e)     "
   ]
  },
  {
   "cell_type": "code",
   "execution_count": 59,
   "id": "97c10cbe",
   "metadata": {},
   "outputs": [
    {
     "name": "stdout",
     "output_type": "stream",
     "text": [
      "n3 is greater\n"
     ]
    }
   ],
   "source": [
    "gretest_with_r_l(10,20)"
   ]
  },
  {
   "cell_type": "code",
   "execution_count": 60,
   "id": "c3139bd8",
   "metadata": {},
   "outputs": [],
   "source": [
    "def gretest():\n",
    "    try:\n",
    "        n1=eval(input(\"Enter a num1 :\"))\n",
    "        n2=eval(input(\"Enter a num2 :\"))\n",
    "        n3=eval(input(\"Enter a num3 :\"))\n",
    "        if n3> n1 and n2:\n",
    "            print(\"n3 is greater\")\n",
    "        elif n2> n3 and n1:\n",
    "            print(\"n2 is greater\")\n",
    "        else:\n",
    "            print(\"n1 is greater\")\n",
    "        return(n1,n2,n3)    \n",
    "    except Exception as e:\n",
    "        print(e)   "
   ]
  },
  {
   "cell_type": "code",
   "execution_count": 62,
   "id": "06bf1711",
   "metadata": {},
   "outputs": [
    {
     "name": "stdout",
     "output_type": "stream",
     "text": [
      "Enter a num1 :10\n",
      "Enter a num2 :20\n",
      "Enter a num3 :30\n",
      "n3 is greater\n"
     ]
    },
    {
     "data": {
      "text/plain": [
       "(10, 20, 30)"
      ]
     },
     "execution_count": 62,
     "metadata": {},
     "output_type": "execute_result"
    }
   ],
   "source": [
    "gretest()"
   ]
  },
  {
   "cell_type": "code",
   "execution_count": 64,
   "id": "356e9c55",
   "metadata": {},
   "outputs": [
    {
     "name": "stdout",
     "output_type": "stream",
     "text": [
      "Enter a num1 :10\n",
      "Enter a num2 :20\n",
      "Enter a num3 :30\n",
      "n3 is greater\n",
      "10 20 30\n"
     ]
    }
   ],
   "source": [
    "n1,n2,n3=gretest()\n",
    "print(n1,n2,n3)"
   ]
  },
  {
   "cell_type": "code",
   "execution_count": 65,
   "id": "c238bb33",
   "metadata": {},
   "outputs": [
    {
     "data": {
      "text/plain": [
       "10"
      ]
     },
     "execution_count": 65,
     "metadata": {},
     "output_type": "execute_result"
    }
   ],
   "source": [
    "n1"
   ]
  },
  {
   "cell_type": "code",
   "execution_count": 66,
   "id": "65375e18",
   "metadata": {},
   "outputs": [],
   "source": [
    "def gretest(n1,n2,n3):\n",
    "    try:\n",
    "        if n3> n1 and n2:\n",
    "            print(\"n3 is greater\")\n",
    "        elif n2> n3 and n1:\n",
    "            print(\"n2 is greater\")\n",
    "        else:\n",
    "            print(\"n1 is greater\")\n",
    "        return(n1,n2,n3)    \n",
    "    except Exception as e:\n",
    "        print(e)   "
   ]
  },
  {
   "cell_type": "code",
   "execution_count": 72,
   "id": "ac508225",
   "metadata": {},
   "outputs": [
    {
     "name": "stdout",
     "output_type": "stream",
     "text": [
      "n3 is greater\n",
      "(10, 20, 30)\n"
     ]
    }
   ],
   "source": [
    "g=gretest(10,20,30)\n",
    "print(g)"
   ]
  },
  {
   "cell_type": "code",
   "execution_count": 73,
   "id": "95c17319",
   "metadata": {},
   "outputs": [
    {
     "data": {
      "text/plain": [
       "(10, 20, 30)"
      ]
     },
     "execution_count": 73,
     "metadata": {},
     "output_type": "execute_result"
    }
   ],
   "source": [
    "g"
   ]
  },
  {
   "cell_type": "code",
   "execution_count": null,
   "id": "b8f730e1",
   "metadata": {},
   "outputs": [],
   "source": []
  }
 ],
 "metadata": {
  "kernelspec": {
   "display_name": "Python 3 (ipykernel)",
   "language": "python",
   "name": "python3"
  },
  "language_info": {
   "codemirror_mode": {
    "name": "ipython",
    "version": 3
   },
   "file_extension": ".py",
   "mimetype": "text/x-python",
   "name": "python",
   "nbconvert_exporter": "python",
   "pygments_lexer": "ipython3",
   "version": "3.11.5"
  }
 },
 "nbformat": 4,
 "nbformat_minor": 5
}
