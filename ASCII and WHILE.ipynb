{
 "cells": [
  {
   "cell_type": "code",
   "execution_count": null,
   "id": "1d288de7",
   "metadata": {},
   "outputs": [],
   "source": [
    "'a' #ascii"
   ]
  },
  {
   "cell_type": "code",
   "execution_count": 1,
   "id": "7e91ad8e",
   "metadata": {},
   "outputs": [
    {
     "data": {
      "text/plain": [
       "97"
      ]
     },
     "execution_count": 1,
     "metadata": {},
     "output_type": "execute_result"
    }
   ],
   "source": [
    "ord('a')"
   ]
  },
  {
   "cell_type": "markdown",
   "id": "658db0e2",
   "metadata": {},
   "source": [
    "* ord "
   ]
  },
  {
   "cell_type": "code",
   "execution_count": 2,
   "id": "ec4dd0c4",
   "metadata": {},
   "outputs": [
    {
     "data": {
      "text/plain": [
       "False"
      ]
     },
     "execution_count": 2,
     "metadata": {},
     "output_type": "execute_result"
    }
   ],
   "source": [
    "'APPLE'>'apple'"
   ]
  },
  {
   "cell_type": "code",
   "execution_count": 3,
   "id": "74d6435a",
   "metadata": {},
   "outputs": [
    {
     "data": {
      "text/plain": [
       "False"
      ]
     },
     "execution_count": 3,
     "metadata": {},
     "output_type": "execute_result"
    }
   ],
   "source": [
    "'Apple'>'bat'"
   ]
  },
  {
   "cell_type": "code",
   "execution_count": 4,
   "id": "c128318f",
   "metadata": {},
   "outputs": [
    {
     "data": {
      "text/plain": [
       "True"
      ]
     },
     "execution_count": 4,
     "metadata": {},
     "output_type": "execute_result"
    }
   ],
   "source": [
    "'Apple'>'APPLE'"
   ]
  },
  {
   "cell_type": "code",
   "execution_count": 5,
   "id": "2909492a",
   "metadata": {},
   "outputs": [
    {
     "data": {
      "text/plain": [
       "(112, 80)"
      ]
     },
     "execution_count": 5,
     "metadata": {},
     "output_type": "execute_result"
    }
   ],
   "source": [
    "ord('p'), ord('P')"
   ]
  },
  {
   "cell_type": "markdown",
   "id": "f1e2fe9a",
   "metadata": {},
   "source": [
    "### american standard code information inter change\n",
    "### ASCII"
   ]
  },
  {
   "cell_type": "code",
   "execution_count": null,
   "id": "521af0d7",
   "metadata": {},
   "outputs": [],
   "source": []
  },
  {
   "cell_type": "code",
   "execution_count": 6,
   "id": "d18d06ca",
   "metadata": {},
   "outputs": [
    {
     "data": {
      "text/plain": [
       "'D'"
      ]
     },
     "execution_count": 6,
     "metadata": {},
     "output_type": "execute_result"
    }
   ],
   "source": [
    "chr(68)"
   ]
  },
  {
   "cell_type": "code",
   "execution_count": 8,
   "id": "cfd120e4",
   "metadata": {},
   "outputs": [
    {
     "data": {
      "text/plain": [
       "('A', 65)"
      ]
     },
     "execution_count": 8,
     "metadata": {},
     "output_type": "execute_result"
    }
   ],
   "source": [
    "chr(65),ord('A')"
   ]
  },
  {
   "cell_type": "code",
   "execution_count": null,
   "id": "d8e120b6",
   "metadata": {},
   "outputs": [],
   "source": [
    "# case 1 : use for loop 20 to 200\n",
    "# ascii : where it will start I dont know\n",
    "#         where it will end\n",
    "#chr(1)\n",
    "#chr(2)"
   ]
  },
  {
   "cell_type": "code",
   "execution_count": 9,
   "id": "7bc3d9ee",
   "metadata": {},
   "outputs": [
    {
     "data": {
      "text/plain": [
       "90"
      ]
     },
     "execution_count": 9,
     "metadata": {},
     "output_type": "execute_result"
    }
   ],
   "source": [
    "a=65\n",
    "b= a+25\n",
    "b"
   ]
  },
  {
   "cell_type": "code",
   "execution_count": 12,
   "id": "20b902d0",
   "metadata": {},
   "outputs": [
    {
     "data": {
      "text/plain": [
       "(90, 122)"
      ]
     },
     "execution_count": 12,
     "metadata": {},
     "output_type": "execute_result"
    }
   ],
   "source": [
    "ord('Z'),ord('z')"
   ]
  },
  {
   "cell_type": "code",
   "execution_count": 20,
   "id": "b6c0a4a8",
   "metadata": {},
   "outputs": [
    {
     "name": "stdout",
     "output_type": "stream",
     "text": [
      "33 --------> !\n",
      "34 --------> \"\n",
      "35 --------> #\n",
      "36 --------> $\n",
      "37 --------> %\n",
      "38 --------> &\n",
      "39 --------> '\n",
      "40 --------> (\n",
      "41 --------> )\n",
      "42 --------> *\n",
      "43 --------> +\n",
      "44 --------> ,\n",
      "45 --------> -\n",
      "46 --------> .\n",
      "47 --------> /\n",
      "48 --------> 0\n",
      "49 --------> 1\n",
      "50 --------> 2\n",
      "51 --------> 3\n",
      "52 --------> 4\n",
      "53 --------> 5\n",
      "54 --------> 6\n",
      "55 --------> 7\n",
      "56 --------> 8\n",
      "57 --------> 9\n",
      "58 --------> :\n",
      "59 --------> ;\n",
      "60 --------> <\n",
      "61 --------> =\n",
      "62 --------> >\n",
      "63 --------> ?\n",
      "64 --------> @\n",
      "65 --------> A\n",
      "66 --------> B\n",
      "67 --------> C\n",
      "68 --------> D\n",
      "69 --------> E\n",
      "70 --------> F\n",
      "71 --------> G\n",
      "72 --------> H\n",
      "73 --------> I\n",
      "74 --------> J\n",
      "75 --------> K\n",
      "76 --------> L\n",
      "77 --------> M\n",
      "78 --------> N\n",
      "79 --------> O\n",
      "80 --------> P\n",
      "81 --------> Q\n",
      "82 --------> R\n",
      "83 --------> S\n",
      "84 --------> T\n",
      "85 --------> U\n",
      "86 --------> V\n",
      "87 --------> W\n",
      "88 --------> X\n",
      "89 --------> Y\n",
      "90 --------> Z\n",
      "91 --------> [\n",
      "92 --------> \\\n",
      "93 --------> ]\n",
      "94 --------> ^\n",
      "95 --------> _\n",
      "96 --------> `\n",
      "97 --------> a\n",
      "98 --------> b\n",
      "99 --------> c\n",
      "100 --------> d\n",
      "101 --------> e\n",
      "102 --------> f\n",
      "103 --------> g\n",
      "104 --------> h\n",
      "105 --------> i\n",
      "106 --------> j\n",
      "107 --------> k\n",
      "108 --------> l\n",
      "109 --------> m\n",
      "110 --------> n\n",
      "111 --------> o\n",
      "112 --------> p\n",
      "113 --------> q\n",
      "114 --------> r\n",
      "115 --------> s\n",
      "116 --------> t\n",
      "117 --------> u\n",
      "118 --------> v\n",
      "119 --------> w\n",
      "120 --------> x\n",
      "121 --------> y\n",
      "122 --------> z\n",
      "123 --------> {\n",
      "124 --------> |\n",
      "125 --------> }\n",
      "126 --------> ~\n"
     ]
    }
   ],
   "source": [
    "for i in range(33,127):\n",
    "    print(i,'-------->',chr(i))"
   ]
  },
  {
   "cell_type": "code",
   "execution_count": null,
   "id": "4c0afebd",
   "metadata": {},
   "outputs": [],
   "source": [
    "# Do the same reverse task for capital A to Z\n",
    "# Operator"
   ]
  },
  {
   "cell_type": "code",
   "execution_count": 24,
   "id": "d0074d01",
   "metadata": {},
   "outputs": [
    {
     "name": "stdout",
     "output_type": "stream",
     "text": [
      "A ---> 65\n",
      "B ---> 66\n",
      "C ---> 67\n",
      "D ---> 68\n",
      "E ---> 69\n",
      "F ---> 70\n",
      "G ---> 71\n",
      "H ---> 72\n",
      "I ---> 73\n",
      "J ---> 74\n",
      "K ---> 75\n",
      "L ---> 76\n",
      "M ---> 77\n",
      "N ---> 78\n",
      "O ---> 79\n",
      "P ---> 80\n",
      "Q ---> 81\n",
      "R ---> 82\n",
      "S ---> 83\n",
      "T ---> 84\n",
      "U ---> 85\n",
      "V ---> 86\n",
      "W ---> 87\n",
      "X ---> 88\n",
      "Y ---> 89\n",
      "X ---> 88\n",
      "Z ---> 90\n"
     ]
    }
   ],
   "source": [
    "for i in 'ABCDEFGHIJKLMNOPQRSTUVWXYXZ':\n",
    "    print(i,'--->',ord(i))"
   ]
  },
  {
   "cell_type": "markdown",
   "id": "11faf4d2",
   "metadata": {},
   "source": [
    "# in = STRING\n",
    "# range= Number\n",
    "# eval= number\n"
   ]
  },
  {
   "cell_type": "markdown",
   "id": "94742e66",
   "metadata": {},
   "source": [
    "# <-STRING-> --- Package name"
   ]
  },
  {
   "cell_type": "code",
   "execution_count": 26,
   "id": "c3c7ef37",
   "metadata": {},
   "outputs": [
    {
     "data": {
      "text/plain": [
       "['Formatter',\n",
       " 'Template',\n",
       " '_ChainMap',\n",
       " '__all__',\n",
       " '__builtins__',\n",
       " '__cached__',\n",
       " '__doc__',\n",
       " '__file__',\n",
       " '__loader__',\n",
       " '__name__',\n",
       " '__package__',\n",
       " '__spec__',\n",
       " '_re',\n",
       " '_sentinel_dict',\n",
       " '_string',\n",
       " 'ascii_letters',\n",
       " 'ascii_lowercase',\n",
       " 'ascii_uppercase',\n",
       " 'capwords',\n",
       " 'digits',\n",
       " 'hexdigits',\n",
       " 'octdigits',\n",
       " 'printable',\n",
       " 'punctuation',\n",
       " 'whitespace']"
      ]
     },
     "execution_count": 26,
     "metadata": {},
     "output_type": "execute_result"
    }
   ],
   "source": [
    "import string\n",
    "dir(string)"
   ]
  },
  {
   "cell_type": "code",
   "execution_count": 45,
   "id": "6f166d9d",
   "metadata": {},
   "outputs": [
    {
     "data": {
      "text/plain": [
       "'S'"
      ]
     },
     "execution_count": 45,
     "metadata": {},
     "output_type": "execute_result"
    }
   ],
   "source": [
    "n=string.capwords('s')\n",
    "n"
   ]
  },
  {
   "cell_type": "code",
   "execution_count": 32,
   "id": "01de7da8",
   "metadata": {},
   "outputs": [
    {
     "name": "stdout",
     "output_type": "stream",
     "text": [
      "No Python documentation found for 'ABCDEFGHIJKLMNOPQRSTUVWXYZ'.\n",
      "Use help() to get the interactive help utility.\n",
      "Use help(str) for help on the str class.\n",
      "\n"
     ]
    }
   ],
   "source": [
    "help(string.ascii_uppercase)"
   ]
  },
  {
   "cell_type": "code",
   "execution_count": null,
   "id": "d36d3302",
   "metadata": {},
   "outputs": [],
   "source": []
  },
  {
   "cell_type": "code",
   "execution_count": 34,
   "id": "0dda4c24",
   "metadata": {},
   "outputs": [
    {
     "name": "stdout",
     "output_type": "stream",
     "text": [
      "A ---> 65\n",
      "B ---> 66\n",
      "C ---> 67\n",
      "D ---> 68\n",
      "E ---> 69\n",
      "F ---> 70\n",
      "G ---> 71\n",
      "H ---> 72\n",
      "I ---> 73\n",
      "J ---> 74\n",
      "K ---> 75\n",
      "L ---> 76\n",
      "M ---> 77\n",
      "N ---> 78\n",
      "O ---> 79\n",
      "P ---> 80\n",
      "Q ---> 81\n",
      "R ---> 82\n",
      "S ---> 83\n",
      "T ---> 84\n",
      "U ---> 85\n",
      "V ---> 86\n",
      "W ---> 87\n",
      "X ---> 88\n",
      "Y ---> 89\n",
      "Z ---> 90\n"
     ]
    }
   ],
   "source": [
    "import string\n",
    "c=string.ascii_uppercase\n",
    "for i in c:\n",
    "    print(i,'--->',ord(i))"
   ]
  },
  {
   "cell_type": "code",
   "execution_count": 41,
   "id": "6d87b2fa",
   "metadata": {},
   "outputs": [
    {
     "name": "stdout",
     "output_type": "stream",
     "text": [
      "A ---> 65\n",
      "B ---> 66\n",
      "C ---> 67\n",
      "D ---> 68\n",
      "E ---> 69\n",
      "F ---> 70\n",
      "G ---> 71\n",
      "H ---> 72\n",
      "I ---> 73\n",
      "J ---> 74\n",
      "K ---> 75\n",
      "L ---> 76\n",
      "M ---> 77\n",
      "N ---> 78\n",
      "O ---> 79\n",
      "P ---> 80\n",
      "Q ---> 81\n",
      "R ---> 82\n",
      "S ---> 83\n",
      "T ---> 84\n",
      "U ---> 85\n",
      "V ---> 86\n",
      "W ---> 87\n",
      "X ---> 88\n",
      "Y ---> 89\n",
      "Z ---> 90\n"
     ]
    }
   ],
   "source": [
    "for i in string.ascii_uppercase:\n",
    "    print(i,'--->',ord(i))"
   ]
  },
  {
   "cell_type": "code",
   "execution_count": 47,
   "id": "8411bc8d",
   "metadata": {},
   "outputs": [
    {
     "name": "stdout",
     "output_type": "stream",
     "text": [
      "1\n",
      "2\n",
      "3\n",
      "4\n"
     ]
    }
   ],
   "source": [
    "# print 1st 10 letters\n",
    "for i in range(1,5):\n",
    "    print(i)"
   ]
  },
  {
   "cell_type": "code",
   "execution_count": null,
   "id": "f0c9f1a4",
   "metadata": {},
   "outputs": [],
   "source": [
    "- initialise\n",
    "-condition\n",
    "- increment/ decrement\n",
    "- i for loop 3 provide in one line\n",
    "- BUt while\n",
    "- intial point\n",
    "- condition(if this )\n",
    "- inc/ de cre"
   ]
  },
  {
   "cell_type": "code",
   "execution_count": 61,
   "id": "7e71bca4",
   "metadata": {},
   "outputs": [
    {
     "name": "stdout",
     "output_type": "stream",
     "text": [
      "0 1 2 3 4 5 6 7 8 9 10 "
     ]
    }
   ],
   "source": [
    "for i in range(0,11,1):\n",
    "    print(i,end=' ')"
   ]
  },
  {
   "cell_type": "code",
   "execution_count": 49,
   "id": "932e26d5",
   "metadata": {},
   "outputs": [
    {
     "name": "stdout",
     "output_type": "stream",
     "text": [
      "0 1 2 3 4 5 6 7 8 9 10 "
     ]
    }
   ],
   "source": [
    "i=0 # 1  intial point\n",
    "\n",
    "while i<11:   # 3 condition\n",
    "    print(i,end=' ')\n",
    "    i=i+1 # 2 increment"
   ]
  },
  {
   "cell_type": "code",
   "execution_count": null,
   "id": "6bbb1488",
   "metadata": {},
   "outputs": [],
   "source": [
    "#1 initial\n",
    "#(4......last) next while condition\n",
    "#2 print \n",
    "#3  i= i+1 or i=i-1\n",
    "# based on stop value========Think condition"
   ]
  },
  {
   "cell_type": "code",
   "execution_count": 52,
   "id": "d6eda854",
   "metadata": {},
   "outputs": [
    {
     "name": "stdout",
     "output_type": "stream",
     "text": [
      "-1 -2 -3 -4 -5 -6 -7 -8 -9 -10 "
     ]
    }
   ],
   "source": [
    "for i in range(-1,-11,-1):\n",
    "    print(i,end=' ')"
   ]
  },
  {
   "cell_type": "code",
   "execution_count": 53,
   "id": "1fccb87e",
   "metadata": {},
   "outputs": [
    {
     "name": "stdout",
     "output_type": "stream",
     "text": [
      "-1 -2 -3 -4 -5 -6 -7 -8 -9 -10 "
     ]
    }
   ],
   "source": [
    "i=-1\n",
    "while i>-11:\n",
    "    print(i,end=' ')\n",
    "    i=i-1\n",
    "    "
   ]
  },
  {
   "cell_type": "code",
   "execution_count": 59,
   "id": "e1415b4a",
   "metadata": {},
   "outputs": [
    {
     "name": "stdout",
     "output_type": "stream",
     "text": [
      "-10 -9 -8 -7 -6 -5 -4 -3 -2 -1 "
     ]
    }
   ],
   "source": [
    "for i in range(-10,0,1):\n",
    "    print(i,end=' ')"
   ]
  },
  {
   "cell_type": "code",
   "execution_count": 57,
   "id": "4ee7b635",
   "metadata": {},
   "outputs": [
    {
     "name": "stdout",
     "output_type": "stream",
     "text": [
      "-10 -9 -8 -7 -6 -5 -4 -3 -2 -1 "
     ]
    }
   ],
   "source": [
    "i=-10\n",
    "while i<0:\n",
    "    print(i,end=' ')\n",
    "    i=i+1"
   ]
  },
  {
   "cell_type": "code",
   "execution_count": 58,
   "id": "f8d3055f",
   "metadata": {},
   "outputs": [
    {
     "name": "stdout",
     "output_type": "stream",
     "text": [
      "10 9 8 7 6 5 4 3 2 1 0 "
     ]
    }
   ],
   "source": [
    "for i in range(10,-1,-1):\n",
    "    print(i,end=' ')"
   ]
  },
  {
   "cell_type": "code",
   "execution_count": 60,
   "id": "d69777ae",
   "metadata": {},
   "outputs": [
    {
     "name": "stdout",
     "output_type": "stream",
     "text": [
      "10 9 8 7 6 5 4 3 2 1 0 "
     ]
    }
   ],
   "source": [
    "i=10\n",
    "while i>-1:\n",
    "    print(i,end=' ')\n",
    "    i=i-1"
   ]
  },
  {
   "cell_type": "code",
   "execution_count": null,
   "id": "86e8ed44",
   "metadata": {},
   "outputs": [],
   "source": []
  },
  {
   "cell_type": "markdown",
   "id": "d5bf5ac4",
   "metadata": {},
   "source": [
    "# 31-10-2023"
   ]
  },
  {
   "cell_type": "code",
   "execution_count": 4,
   "id": "a24fe694",
   "metadata": {},
   "outputs": [
    {
     "name": "stdout",
     "output_type": "stream",
     "text": [
      "0 1 2 "
     ]
    }
   ],
   "source": [
    "i=0\n",
    "while i>=0:\n",
    "    print(i,end=' ')\n",
    "    i=i+1\n",
    "    if i==3:\n",
    "        break\n",
    "    \n",
    "# step-1 : i=0 0>=0  T  print(0)  i=0+1=1 f "
   ]
  },
  {
   "cell_type": "code",
   "execution_count": 10,
   "id": "9738972b",
   "metadata": {},
   "outputs": [
    {
     "name": "stdout",
     "output_type": "stream",
     "text": [
      "0 1 2 3 "
     ]
    }
   ],
   "source": [
    "i=0\n",
    "while i>=0:\n",
    "    print(i,end=' ')\n",
    "    if i==3: # here is a condition\n",
    "        break\n",
    "    i=i+1   "
   ]
  },
  {
   "cell_type": "code",
   "execution_count": 9,
   "id": "4645cc59",
   "metadata": {},
   "outputs": [
    {
     "name": "stdout",
     "output_type": "stream",
     "text": [
      "0\n",
      "1\n",
      "2\n",
      "3\n"
     ]
    }
   ],
   "source": [
    "# in order to stop this code we need to apply a condition\n",
    "i=0\n",
    "while True: # there is no condition check\n",
    "    print(i)\n",
    "    i+=1            #i=i+1\n",
    "    if i==4:\n",
    "        break"
   ]
  },
  {
   "cell_type": "code",
   "execution_count": 11,
   "id": "f6343e1f",
   "metadata": {},
   "outputs": [
    {
     "name": "stdout",
     "output_type": "stream",
     "text": [
      "0\n",
      "kjdhcbn\n",
      "12\n",
      "1\n",
      "kjdhcbn\n",
      "12\n",
      "2\n",
      "kjdhcbn\n",
      "12\n",
      "3\n"
     ]
    }
   ],
   "source": [
    "# in order to stop this code we need to apply a condition\n",
    "i=0\n",
    "while True: # there is no condition check\n",
    "    print(i)\n",
    "    i+=1            #i=i+1\n",
    "    if i==4:\n",
    "        break\n",
    "    print(\"kjdhcbn\")\n",
    "    print(3*4)"
   ]
  },
  {
   "cell_type": "code",
   "execution_count": null,
   "id": "88727bc3",
   "metadata": {},
   "outputs": [],
   "source": [
    "# wap "
   ]
  },
  {
   "cell_type": "code",
   "execution_count": 16,
   "id": "049c6812",
   "metadata": {},
   "outputs": [
    {
     "name": "stdout",
     "output_type": "stream",
     "text": [
      "82 Even\n",
      "78 Even\n",
      "60 Even\n",
      "24 Even\n",
      "72 Even\n",
      "72 Even\n",
      "72 Even\n",
      "50 Even\n",
      "5 Odd\n",
      "28 Even\n"
     ]
    }
   ],
   "source": [
    "import random\n",
    "for i in range(10):\n",
    "    n=random.randint(1,100)\n",
    "    if n%2==0:\n",
    "        print(\"{} Even\".format(n))\n",
    "    else:\n",
    "        print(\"{} Odd\".format(n))"
   ]
  },
  {
   "cell_type": "code",
   "execution_count": 28,
   "id": "fff3efc3",
   "metadata": {},
   "outputs": [
    {
     "name": "stdout",
     "output_type": "stream",
     "text": [
      "7 Odd\n",
      "84 Even\n",
      "86 Even\n",
      "42 Even\n",
      "11 Odd\n",
      "26 Even\n",
      "40 Even\n",
      "24 Even\n",
      "57 Odd\n",
      "93 Odd\n",
      "64 Even\n"
     ]
    }
   ],
   "source": [
    "import random\n",
    "i=0\n",
    "while i<11:\n",
    "    n=random.randint(1,100)\n",
    "    if n%2==0:\n",
    "        print(\"{} Even\".format(n))\n",
    "    else:\n",
    "        print(\"{} Odd\".format(n))\n",
    "    i=i+1"
   ]
  },
  {
   "cell_type": "code",
   "execution_count": null,
   "id": "ea9bf04e",
   "metadata": {},
   "outputs": [],
   "source": [
    "# wap ask the useer enter a num\n",
    "# square of the num\n",
    "# this task you need to use 3 times\n",
    "n=eval(\"Enter the number\")\n",
    "print(\"The square of {} is {}\".format(n,n*n))"
   ]
  },
  {
   "cell_type": "code",
   "execution_count": 33,
   "id": "c2f1bf2c",
   "metadata": {},
   "outputs": [
    {
     "name": "stdout",
     "output_type": "stream",
     "text": [
      "Enter the number:5\n",
      "The square of 5 is 25\n",
      "Enter the number:2\n",
      "The square of 2 is 4\n",
      "Enter the number:4\n",
      "The square of 4 is 16\n"
     ]
    }
   ],
   "source": [
    "for i in range(3):\n",
    "    n=eval(input(\"Enter the number:\"))\n",
    "    print(\"The square of {} is {}\".format(n,n*n))"
   ]
  },
  {
   "cell_type": "code",
   "execution_count": 36,
   "id": "974e3722",
   "metadata": {},
   "outputs": [
    {
     "name": "stdout",
     "output_type": "stream",
     "text": [
      "Enter the number:5\n",
      "The square of 5 is 25\n",
      "Enter the number:23\n",
      "The square of 23 is 529\n",
      "Enter the number:5\n",
      "The square of 5 is 25\n"
     ]
    }
   ],
   "source": [
    "i=0\n",
    "while i<3:\n",
    "    n=eval(input(\"Enter the number:\"))\n",
    "    print(\"The square of {} is {}\".format(n,n*n))\n",
    "    i+=1"
   ]
  },
  {
   "cell_type": "markdown",
   "id": "955a7f70",
   "metadata": {},
   "source": [
    "# package name =TIME"
   ]
  },
  {
   "cell_type": "code",
   "execution_count": 42,
   "id": "c49c234d",
   "metadata": {},
   "outputs": [
    {
     "name": "stdout",
     "output_type": "stream",
     "text": [
      "Enter the number:3\n",
      "The square of 3 is 9\n",
      "Enter the number:3\n",
      "The square of 3 is 9\n",
      "Enter the number:3\n",
      "The square of 3 is 9\n",
      "time taken is: 1.3917405605316162\n"
     ]
    }
   ],
   "source": [
    "import time\n",
    "start=time.time()   # time start here\n",
    "\n",
    "for i in range(3):\n",
    "    n=eval(input(\"Enter the number:\"))\n",
    "    print(\"The square of {} is {}\".format(n,n*n))\n",
    "    \n",
    "end=time.time()\n",
    "print('time taken is:',end-start)\n",
    "# tis will give in seconds"
   ]
  },
  {
   "cell_type": "code",
   "execution_count": 45,
   "id": "198fb7a4",
   "metadata": {},
   "outputs": [
    {
     "name": "stdout",
     "output_type": "stream",
     "text": [
      "Enter the number:2\n",
      "The square of 2 is 4\n",
      "Enter the number:2\n",
      "The square of 2 is 4\n",
      "Enter the number:2\n",
      "The square of 2 is 4\n",
      "time taken is: 2.134381055831909\n"
     ]
    }
   ],
   "source": [
    "import time\n",
    "start=time.time()\n",
    "i=0\n",
    "while i<3:\n",
    "    n=eval(input(\"Enter the number:\"))\n",
    "    print(\"The square of {} is {}\".format(n,n*n))\n",
    "    i=i+1\n",
    "end=time.time()\n",
    "print('time taken is:',end-start)"
   ]
  },
  {
   "cell_type": "code",
   "execution_count": null,
   "id": "e4857af8",
   "metadata": {},
   "outputs": [],
   "source": []
  },
  {
   "cell_type": "code",
   "execution_count": 49,
   "id": "55b6d7c4",
   "metadata": {},
   "outputs": [
    {
     "name": "stdout",
     "output_type": "stream",
     "text": [
      "hi\n",
      "sdvujkl\n",
      "owiueh5\n"
     ]
    }
   ],
   "source": [
    "print('hi')\n",
    "time.sleep(3)\n",
    "print('sdvujkl')\n",
    "time.sleep(2)\n",
    "num=eval(input('owiueh'))"
   ]
  },
  {
   "cell_type": "code",
   "execution_count": null,
   "id": "b5e4e68d",
   "metadata": {},
   "outputs": [],
   "source": [
    "# wap sum of 10 naturaL num\n",
    "# for loop\n",
    "# while"
   ]
  },
  {
   "cell_type": "code",
   "execution_count": 51,
   "id": "3ccd2ebc",
   "metadata": {},
   "outputs": [
    {
     "name": "stdout",
     "output_type": "stream",
     "text": [
      "55\n"
     ]
    }
   ],
   "source": [
    "count=0\n",
    "for i in range(11):\n",
    "    count=count+i\n",
    "print(count)"
   ]
  },
  {
   "cell_type": "code",
   "execution_count": 1,
   "id": "ee85af93",
   "metadata": {},
   "outputs": [
    {
     "name": "stdout",
     "output_type": "stream",
     "text": [
      "55\n"
     ]
    }
   ],
   "source": [
    "i=0\n",
    "count=0\n",
    "while i<11:\n",
    "    z\n",
    "print(count)"
   ]
  },
  {
   "cell_type": "code",
   "execution_count": null,
   "id": "ec1e0e7e",
   "metadata": {},
   "outputs": [],
   "source": [
    "i=0\n",
    "count=0\n",
    "while <>:\n",
    "    \n",
    "    "
   ]
  },
  {
   "cell_type": "code",
   "execution_count": null,
   "id": "4f22446e",
   "metadata": {},
   "outputs": [],
   "source": []
  },
  {
   "cell_type": "code",
   "execution_count": null,
   "id": "98df4d0e",
   "metadata": {},
   "outputs": [],
   "source": []
  },
  {
   "cell_type": "code",
   "execution_count": null,
   "id": "5d040234",
   "metadata": {},
   "outputs": [],
   "source": []
  },
  {
   "cell_type": "code",
   "execution_count": null,
   "id": "a9778189",
   "metadata": {},
   "outputs": [],
   "source": []
  },
  {
   "cell_type": "code",
   "execution_count": null,
   "id": "90d32d22",
   "metadata": {},
   "outputs": [],
   "source": []
  },
  {
   "cell_type": "code",
   "execution_count": null,
   "id": "2865f066",
   "metadata": {},
   "outputs": [],
   "source": []
  },
  {
   "cell_type": "code",
   "execution_count": null,
   "id": "30886202",
   "metadata": {},
   "outputs": [],
   "source": []
  },
  {
   "cell_type": "code",
   "execution_count": null,
   "id": "5a04c493",
   "metadata": {},
   "outputs": [],
   "source": []
  },
  {
   "cell_type": "code",
   "execution_count": null,
   "id": "c752ccc6",
   "metadata": {},
   "outputs": [],
   "source": []
  }
 ],
 "metadata": {
  "kernelspec": {
   "display_name": "Python 3 (ipykernel)",
   "language": "python",
   "name": "python3"
  },
  "language_info": {
   "codemirror_mode": {
    "name": "ipython",
    "version": 3
   },
   "file_extension": ".py",
   "mimetype": "text/x-python",
   "name": "python",
   "nbconvert_exporter": "python",
   "pygments_lexer": "ipython3",
   "version": "3.11.5"
  }
 },
 "nbformat": 4,
 "nbformat_minor": 5
}
